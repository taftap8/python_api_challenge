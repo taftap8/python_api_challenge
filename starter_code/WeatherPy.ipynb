{
 "cells": [
  {
   "cell_type": "markdown",
   "metadata": {},
   "source": [
    "# WeatherPy\n",
    "----\n",
    "\n",
    "#### Note\n",
    "* Instructions have been included for each segment. You do not have to follow them exactly, but they are included to help you think through the steps."
   ]
  },
  {
   "cell_type": "code",
   "execution_count": 68,
   "metadata": {
    "scrolled": true
   },
   "outputs": [],
   "source": [
    "# Dependencies and Setup\n",
    "import matplotlib.pyplot as plt\n",
    "import pandas as pd\n",
    "import numpy as np\n",
    "import requests\n",
    "import time\n",
    "from scipy.stats import linregress\n",
    "from pprint import pprint\n",
    "\n",
    "# Import API key\n",
    "from api_keys import weather_api_key\n",
    "\n",
    "# Incorporated citipy to determine city based on latitude and longitude\n",
    "from citipy import citipy\n",
    "\n",
    "# Output File (CSV)\n",
    "output_data_file = \"output_data/cities.csv\"\n",
    "\n",
    "# Range of latitudes and longitudes\n",
    "lat_range = (-90, 90)\n",
    "lng_range = (-180, 180)"
   ]
  },
  {
   "cell_type": "markdown",
   "metadata": {},
   "source": [
    "## Generate Cities List"
   ]
  },
  {
   "cell_type": "code",
   "execution_count": 2,
   "metadata": {},
   "outputs": [
    {
     "data": {
      "text/plain": [
       "85"
      ]
     },
     "execution_count": 2,
     "metadata": {},
     "output_type": "execute_result"
    }
   ],
   "source": [
    "#________________starer code_____________________________________#\n",
    "# List for holding lat_lngs and cities\n",
    "lat_lngs = []\n",
    "cities = []\n",
    "\n",
    "# Create a set of random lat and lng combinations\n",
    "lats = np.random.uniform(lat_range[0], lat_range[1], size=1500) #changed to 15 from 1500 for testing\n",
    "lngs = np.random.uniform(lng_range[0], lng_range[1], size=1500) #changed to 15 from 1500 for testing\n",
    "lat_lngs = zip(lats, lngs)\n",
    "\n",
    "# Identify nearest city for each lat, lng combination\n",
    "for lat_lng in lat_lngs:\n",
    "    city = citipy.nearest_city(lat_lng[0], lat_lng[1]).city_name\n",
    "    \n",
    "    # If the city is unique, then add it to a our cities list\n",
    "    if city not in cities:\n",
    "        cities.append(city)\n",
    "\n",
    "# Print the city count to confirm sufficient count\n",
    "len(cities)\n",
    "#_________________________end starter code______________________________________#\n"
   ]
  },
  {
   "cell_type": "markdown",
   "metadata": {},
   "source": [
    "### Perform API Calls\n",
    "* Perform a weather check on each city using a series of successive API calls.\n",
    "* Include a print log of each city as it'sbeing processed (with the city number and city name).\n"
   ]
  },
  {
   "cell_type": "code",
   "execution_count": 3,
   "metadata": {},
   "outputs": [
    {
     "name": "stdout",
     "output_type": "stream",
     "text": [
      "Processing Record 1 of set 1 for City: alofi\n",
      "Processing Record 2 of set 1 for City: hermanus\n",
      "Processing Record 3 of set 1 for City: lashio\n",
      "Processing Record 4 of set 1 for City: dera din panah\n",
      "No information found for city: dera din panah\n",
      "Processing Record 5 of set 1 for City: cape town\n",
      "Processing Record 6 of set 1 for City: lazaro cardenas\n",
      "Processing Record 7 of set 1 for City: kodiak\n",
      "Processing Record 8 of set 1 for City: sentyabrskiy\n",
      "No information found for city: sentyabrskiy\n",
      "Processing Record 9 of set 1 for City: port alfred\n",
      "Processing Record 10 of set 1 for City: san luis obispo\n",
      "Processing Record 11 of set 1 for City: dawlatabad\n",
      "Processing Record 12 of set 1 for City: albany\n",
      "Processing Record 13 of set 1 for City: aripuana\n",
      "Processing Record 14 of set 1 for City: gotsu\n",
      "Processing Record 15 of set 1 for City: busselton\n",
      "Processing Record 16 of set 1 for City: ibra\n",
      "Processing Record 17 of set 1 for City: seoul\n",
      "Processing Record 18 of set 1 for City: tura\n",
      "Processing Record 19 of set 1 for City: canning\n",
      "Processing Record 20 of set 1 for City: manta\n",
      "Processing Record 21 of set 1 for City: jamestown\n",
      "Processing Record 22 of set 1 for City: mahebourg\n",
      "Processing Record 23 of set 1 for City: manicore\n",
      "Processing Record 24 of set 1 for City: qui nhon\n",
      "Processing Record 25 of set 1 for City: champerico\n",
      "Processing Record 26 of set 1 for City: port elizabeth\n",
      "Processing Record 27 of set 1 for City: new norfolk\n",
      "Processing Record 28 of set 1 for City: awbari\n",
      "Processing Record 29 of set 1 for City: upernavik\n",
      "Processing Record 30 of set 1 for City: derbent\n",
      "Processing Record 31 of set 1 for City: basco\n",
      "Processing Record 32 of set 1 for City: port arthur\n",
      "Processing Record 33 of set 1 for City: bhatkal\n",
      "Processing Record 34 of set 1 for City: rikitea\n",
      "Processing Record 35 of set 1 for City: illoqqortoormiut\n",
      "No information found for city: illoqqortoormiut\n",
      "Processing Record 36 of set 1 for City: vila\n",
      "Processing Record 37 of set 1 for City: avarua\n",
      "Processing Record 38 of set 1 for City: thompson\n",
      "Processing Record 39 of set 1 for City: sola\n",
      "Processing Record 40 of set 1 for City: mataura\n",
      "Processing Record 41 of set 1 for City: port-de-bouc\n",
      "Processing Record 42 of set 1 for City: tyler\n",
      "Processing Record 43 of set 1 for City: puerto ayora\n",
      "Processing Record 44 of set 1 for City: nioro\n",
      "Processing Record 45 of set 1 for City: haines junction\n",
      "Processing Record 46 of set 1 for City: ntcheu\n",
      "Processing Record 47 of set 1 for City: port hardy\n",
      "Processing Record 48 of set 1 for City: nikolskoye\n",
      "Processing Record 49 of set 1 for City: longyearbyen\n",
      "Processing Record 50 of set 1 for City: carutapera\n",
      "Processing Record 51 of set 2 for City: talaya\n",
      "Processing Record 52 of set 2 for City: hobart\n",
      "Processing Record 53 of set 2 for City: weligama\n",
      "Processing Record 54 of set 2 for City: broome\n",
      "Processing Record 55 of set 2 for City: sao filipe\n",
      "Processing Record 56 of set 2 for City: bluff\n",
      "Processing Record 57 of set 2 for City: sitka\n",
      "Processing Record 58 of set 2 for City: tazovskiy\n",
      "Processing Record 59 of set 2 for City: dombarovskiy\n",
      "Processing Record 60 of set 2 for City: madang\n",
      "Processing Record 61 of set 2 for City: laguna\n",
      "Processing Record 62 of set 2 for City: hithadhoo\n",
      "Processing Record 63 of set 2 for City: kapaa\n",
      "Processing Record 64 of set 2 for City: lebu\n",
      "Processing Record 65 of set 2 for City: zambezi\n",
      "Processing Record 66 of set 2 for City: komsomolskiy\n",
      "Processing Record 67 of set 2 for City: belushya guba\n",
      "No information found for city: belushya guba\n",
      "Processing Record 68 of set 2 for City: barentsburg\n",
      "No information found for city: barentsburg\n",
      "Processing Record 69 of set 2 for City: ugoofaaru\n",
      "Processing Record 70 of set 2 for City: vacaria\n",
      "Processing Record 71 of set 2 for City: shingu\n",
      "Processing Record 72 of set 2 for City: ilulissat\n",
      "Processing Record 73 of set 2 for City: bima\n",
      "Processing Record 74 of set 2 for City: georgetown\n",
      "Processing Record 75 of set 2 for City: bambous virieux\n",
      "Processing Record 76 of set 2 for City: charters towers\n",
      "Processing Record 77 of set 2 for City: punta arenas\n",
      "Processing Record 78 of set 2 for City: luderitz\n",
      "Processing Record 79 of set 2 for City: tateyama\n",
      "Processing Record 80 of set 2 for City: bethel\n",
      "Processing Record 81 of set 2 for City: castro\n",
      "Processing Record 82 of set 2 for City: kahului\n",
      "Processing Record 83 of set 2 for City: guacheta\n",
      "Processing Record 84 of set 2 for City: codrington\n",
      "Processing Record 85 of set 2 for City: barrow\n"
     ]
    }
   ],
   "source": [
    "#set up api/ create URL\n",
    "import json\n",
    "\n",
    "#target each citi in list \"cities\" found above\n",
    "url = \"http://api.openweathermap.org/data/2.5/weather?\"\n",
    "\n",
    "#build query url and exception\n",
    "record_number = 0\n",
    "count = 1\n",
    "batch = 1\n",
    "\n",
    "#define lists to capture from Open Weather Site\n",
    "city_name = []\n",
    "city_lat = []\n",
    "city_long = []\n",
    "temp = []\n",
    "humidity = []\n",
    "country = []\n",
    "cloudiness = []\n",
    "windspeed = []\n",
    "date = []\n",
    "\n",
    "#loop to create list of found data and grab info from api for dataframe\n",
    "for i, x  in enumerate(cities):\n",
    "    #set groups of 50\n",
    "    if count <= 50:\n",
    "        count +=1        \n",
    "    else:\n",
    "        batch += 1 #set of first 50\n",
    "        count = 0       \n",
    "    record_number += 1\n",
    "    try:\n",
    "        query_url = url + \"appid=\" + weather_api_key + \"&q=\" + x\n",
    "        print(f'Processing Record {record_number} of set {batch} for City: {x}')\n",
    "        cities_response = requests.get(query_url).json()\n",
    "        \n",
    "        #store data to lists\n",
    "        city_name.append(cities_response['name'])\n",
    "        city_lat.append(cities_response['coord']['lat'])\n",
    "        city_long.append(cities_response['coord']['lon'])\n",
    "        cloudiness.append(cities_response['clouds']['all'])\n",
    "        temp.append(cities_response['main']['temp'])\n",
    "        humidity.append(cities_response['main']['humidity']) \n",
    "        country.append(cities_response['sys']['country'])\n",
    "        windspeed.append(cities_response['wind']['speed'])\n",
    "        date.append(cities_response['dt'])\n",
    "    except KeyError:\n",
    "        print(f'No information found for city: {x}') "
   ]
  },
  {
   "cell_type": "markdown",
   "metadata": {},
   "source": [
    "### Convert Raw Data to DataFrame\n",
    "* Export the city data into a .csv.\n",
    "* Display the DataFrame"
   ]
  },
  {
   "cell_type": "code",
   "execution_count": 4,
   "metadata": {},
   "outputs": [],
   "source": [
    "cities_dict = {\"City Name\" : city_name, \"Latitude\":city_lat, \"Longitude\":city_long, \"Temperature\": temp, \"Humidity\": humidity, \"Cloudiness\":cloudiness, \"Windspeed\":windspeed, \"Date\":date }\n",
    "cities_df = pd.DataFrame(cities_dict)\n",
    "cities_df['Date']=pd.to_datetime(cities_df['Date'], unit='s')\n",
    "cities_df.to_csv(\"../output_data/Citiesweather.csv\", index = False, header = True)"
   ]
  },
  {
   "cell_type": "code",
   "execution_count": 5,
   "metadata": {},
   "outputs": [
    {
     "data": {
      "text/html": [
       "<div>\n",
       "<style scoped>\n",
       "    .dataframe tbody tr th:only-of-type {\n",
       "        vertical-align: middle;\n",
       "    }\n",
       "\n",
       "    .dataframe tbody tr th {\n",
       "        vertical-align: top;\n",
       "    }\n",
       "\n",
       "    .dataframe thead th {\n",
       "        text-align: right;\n",
       "    }\n",
       "</style>\n",
       "<table border=\"1\" class=\"dataframe\">\n",
       "  <thead>\n",
       "    <tr style=\"text-align: right;\">\n",
       "      <th></th>\n",
       "      <th>City Name</th>\n",
       "      <th>Latitude</th>\n",
       "      <th>Longitude</th>\n",
       "      <th>Temperature</th>\n",
       "      <th>Humidity</th>\n",
       "      <th>Cloudiness</th>\n",
       "      <th>Windspeed</th>\n",
       "      <th>Date</th>\n",
       "    </tr>\n",
       "  </thead>\n",
       "  <tbody>\n",
       "    <tr>\n",
       "      <th>0</th>\n",
       "      <td>Alofi</td>\n",
       "      <td>-19.06</td>\n",
       "      <td>-169.92</td>\n",
       "      <td>298.15</td>\n",
       "      <td>61</td>\n",
       "      <td>40</td>\n",
       "      <td>7.70</td>\n",
       "      <td>2020-07-14 21:15:57</td>\n",
       "    </tr>\n",
       "    <tr>\n",
       "      <th>1</th>\n",
       "      <td>Hermanus</td>\n",
       "      <td>-34.42</td>\n",
       "      <td>19.23</td>\n",
       "      <td>277.04</td>\n",
       "      <td>92</td>\n",
       "      <td>7</td>\n",
       "      <td>3.58</td>\n",
       "      <td>2020-07-14 21:15:57</td>\n",
       "    </tr>\n",
       "    <tr>\n",
       "      <th>2</th>\n",
       "      <td>Lashio</td>\n",
       "      <td>22.93</td>\n",
       "      <td>97.75</td>\n",
       "      <td>293.45</td>\n",
       "      <td>99</td>\n",
       "      <td>99</td>\n",
       "      <td>0.17</td>\n",
       "      <td>2020-07-14 21:15:57</td>\n",
       "    </tr>\n",
       "    <tr>\n",
       "      <th>3</th>\n",
       "      <td>Cape Town</td>\n",
       "      <td>-33.93</td>\n",
       "      <td>18.42</td>\n",
       "      <td>281.39</td>\n",
       "      <td>76</td>\n",
       "      <td>4</td>\n",
       "      <td>4.10</td>\n",
       "      <td>2020-07-14 21:14:49</td>\n",
       "    </tr>\n",
       "    <tr>\n",
       "      <th>4</th>\n",
       "      <td>Lázaro Cárdenas</td>\n",
       "      <td>17.96</td>\n",
       "      <td>-102.20</td>\n",
       "      <td>303.67</td>\n",
       "      <td>64</td>\n",
       "      <td>0</td>\n",
       "      <td>4.86</td>\n",
       "      <td>2020-07-14 21:15:58</td>\n",
       "    </tr>\n",
       "    <tr>\n",
       "      <th>...</th>\n",
       "      <td>...</td>\n",
       "      <td>...</td>\n",
       "      <td>...</td>\n",
       "      <td>...</td>\n",
       "      <td>...</td>\n",
       "      <td>...</td>\n",
       "      <td>...</td>\n",
       "      <td>...</td>\n",
       "    </tr>\n",
       "    <tr>\n",
       "      <th>75</th>\n",
       "      <td>Castro</td>\n",
       "      <td>-24.79</td>\n",
       "      <td>-50.01</td>\n",
       "      <td>286.76</td>\n",
       "      <td>66</td>\n",
       "      <td>0</td>\n",
       "      <td>1.35</td>\n",
       "      <td>2020-07-14 21:16:07</td>\n",
       "    </tr>\n",
       "    <tr>\n",
       "      <th>76</th>\n",
       "      <td>Kahului</td>\n",
       "      <td>20.89</td>\n",
       "      <td>-156.47</td>\n",
       "      <td>300.83</td>\n",
       "      <td>46</td>\n",
       "      <td>40</td>\n",
       "      <td>9.30</td>\n",
       "      <td>2020-07-14 21:16:07</td>\n",
       "    </tr>\n",
       "    <tr>\n",
       "      <th>77</th>\n",
       "      <td>Guachetá</td>\n",
       "      <td>5.38</td>\n",
       "      <td>-73.69</td>\n",
       "      <td>289.29</td>\n",
       "      <td>58</td>\n",
       "      <td>17</td>\n",
       "      <td>4.47</td>\n",
       "      <td>2020-07-14 21:16:07</td>\n",
       "    </tr>\n",
       "    <tr>\n",
       "      <th>78</th>\n",
       "      <td>Codrington</td>\n",
       "      <td>-38.27</td>\n",
       "      <td>141.97</td>\n",
       "      <td>277.72</td>\n",
       "      <td>95</td>\n",
       "      <td>41</td>\n",
       "      <td>3.13</td>\n",
       "      <td>2020-07-14 21:16:07</td>\n",
       "    </tr>\n",
       "    <tr>\n",
       "      <th>79</th>\n",
       "      <td>Barrow</td>\n",
       "      <td>71.29</td>\n",
       "      <td>-156.79</td>\n",
       "      <td>277.15</td>\n",
       "      <td>80</td>\n",
       "      <td>90</td>\n",
       "      <td>4.10</td>\n",
       "      <td>2020-07-14 21:16:07</td>\n",
       "    </tr>\n",
       "  </tbody>\n",
       "</table>\n",
       "<p>80 rows × 8 columns</p>\n",
       "</div>"
      ],
      "text/plain": [
       "          City Name  Latitude  Longitude  Temperature  Humidity  Cloudiness  \\\n",
       "0             Alofi    -19.06    -169.92       298.15        61          40   \n",
       "1          Hermanus    -34.42      19.23       277.04        92           7   \n",
       "2            Lashio     22.93      97.75       293.45        99          99   \n",
       "3         Cape Town    -33.93      18.42       281.39        76           4   \n",
       "4   Lázaro Cárdenas     17.96    -102.20       303.67        64           0   \n",
       "..              ...       ...        ...          ...       ...         ...   \n",
       "75           Castro    -24.79     -50.01       286.76        66           0   \n",
       "76          Kahului     20.89    -156.47       300.83        46          40   \n",
       "77         Guachetá      5.38     -73.69       289.29        58          17   \n",
       "78       Codrington    -38.27     141.97       277.72        95          41   \n",
       "79           Barrow     71.29    -156.79       277.15        80          90   \n",
       "\n",
       "    Windspeed                Date  \n",
       "0        7.70 2020-07-14 21:15:57  \n",
       "1        3.58 2020-07-14 21:15:57  \n",
       "2        0.17 2020-07-14 21:15:57  \n",
       "3        4.10 2020-07-14 21:14:49  \n",
       "4        4.86 2020-07-14 21:15:58  \n",
       "..        ...                 ...  \n",
       "75       1.35 2020-07-14 21:16:07  \n",
       "76       9.30 2020-07-14 21:16:07  \n",
       "77       4.47 2020-07-14 21:16:07  \n",
       "78       3.13 2020-07-14 21:16:07  \n",
       "79       4.10 2020-07-14 21:16:07  \n",
       "\n",
       "[80 rows x 8 columns]"
      ]
     },
     "execution_count": 5,
     "metadata": {},
     "output_type": "execute_result"
    }
   ],
   "source": [
    "cities_df"
   ]
  },
  {
   "cell_type": "markdown",
   "metadata": {},
   "source": [
    "## Inspect the data and remove the cities where the humidity > 100%.\n",
    "----\n",
    "Skip this step if there are no cities that have humidity > 100%. "
   ]
  },
  {
   "cell_type": "code",
   "execution_count": 6,
   "metadata": {},
   "outputs": [],
   "source": [
    "#check for cities with high humidity\n",
    "if len(cities_df.loc[cities_df['Humidity'] > 100]):\n",
    "    #keep those with humidity less than 100\n",
    "    high_humidity_df = cities_df.loc[cities_df['Humidity'] > 100]\n",
    "    clean_cities_df = cities_df.loc[cities_df['Humidity'] <= 100]\n",
    "    #Get the indices of cities that have humidity over 100%.\n",
    "    high_humidity_label = cities_df[cities_df['Humidity']>100].index.tolist()\n",
    "    print(high_humidity_label)\n",
    "    print(high_humidity_df)\n",
    "else:\n",
    "    clean_cities_df = cities_df"
   ]
  },
  {
   "cell_type": "code",
   "execution_count": 7,
   "metadata": {},
   "outputs": [],
   "source": [
    "    ##__________________review with tutor_________________________________-##\n",
    "\n",
    "\n",
    "    # Make a new DataFrame equal to the city data to drop all humidity outliers by index.\n",
    "    #condition= cities_df.loc[cities_df['Humidity'] < 100]\n",
    "    #clean_cities_df = cities_df.where(cond=cities_df.loc[cities_df['Humidity'] < 100],inplace=False)\n",
    "    # Passing \"inplace=False\" will make a copy of the city_data DataFrame, which we call \"clean_city_data\".\n",
    "\n",
    "\n",
    "    #print(clean_city_data_df)\n",
    "    #print(clean_cities_df)"
   ]
  },
  {
   "cell_type": "code",
   "execution_count": 8,
   "metadata": {},
   "outputs": [
    {
     "data": {
      "text/html": [
       "<div>\n",
       "<style scoped>\n",
       "    .dataframe tbody tr th:only-of-type {\n",
       "        vertical-align: middle;\n",
       "    }\n",
       "\n",
       "    .dataframe tbody tr th {\n",
       "        vertical-align: top;\n",
       "    }\n",
       "\n",
       "    .dataframe thead th {\n",
       "        text-align: right;\n",
       "    }\n",
       "</style>\n",
       "<table border=\"1\" class=\"dataframe\">\n",
       "  <thead>\n",
       "    <tr style=\"text-align: right;\">\n",
       "      <th></th>\n",
       "      <th>City Name</th>\n",
       "      <th>Latitude</th>\n",
       "      <th>Longitude</th>\n",
       "      <th>Temperature</th>\n",
       "      <th>Humidity</th>\n",
       "      <th>Cloudiness</th>\n",
       "      <th>Windspeed</th>\n",
       "      <th>Date</th>\n",
       "      <th>just_date</th>\n",
       "    </tr>\n",
       "  </thead>\n",
       "  <tbody>\n",
       "    <tr>\n",
       "      <th>0</th>\n",
       "      <td>Alofi</td>\n",
       "      <td>-19.06</td>\n",
       "      <td>-169.92</td>\n",
       "      <td>298.15</td>\n",
       "      <td>61</td>\n",
       "      <td>40</td>\n",
       "      <td>7.70</td>\n",
       "      <td>2020-07-14 21:15:57</td>\n",
       "      <td>2020-07-14</td>\n",
       "    </tr>\n",
       "    <tr>\n",
       "      <th>1</th>\n",
       "      <td>Hermanus</td>\n",
       "      <td>-34.42</td>\n",
       "      <td>19.23</td>\n",
       "      <td>277.04</td>\n",
       "      <td>92</td>\n",
       "      <td>7</td>\n",
       "      <td>3.58</td>\n",
       "      <td>2020-07-14 21:15:57</td>\n",
       "      <td>2020-07-14</td>\n",
       "    </tr>\n",
       "    <tr>\n",
       "      <th>2</th>\n",
       "      <td>Lashio</td>\n",
       "      <td>22.93</td>\n",
       "      <td>97.75</td>\n",
       "      <td>293.45</td>\n",
       "      <td>99</td>\n",
       "      <td>99</td>\n",
       "      <td>0.17</td>\n",
       "      <td>2020-07-14 21:15:57</td>\n",
       "      <td>2020-07-14</td>\n",
       "    </tr>\n",
       "    <tr>\n",
       "      <th>3</th>\n",
       "      <td>Cape Town</td>\n",
       "      <td>-33.93</td>\n",
       "      <td>18.42</td>\n",
       "      <td>281.39</td>\n",
       "      <td>76</td>\n",
       "      <td>4</td>\n",
       "      <td>4.10</td>\n",
       "      <td>2020-07-14 21:14:49</td>\n",
       "      <td>2020-07-14</td>\n",
       "    </tr>\n",
       "    <tr>\n",
       "      <th>4</th>\n",
       "      <td>Lázaro Cárdenas</td>\n",
       "      <td>17.96</td>\n",
       "      <td>-102.20</td>\n",
       "      <td>303.67</td>\n",
       "      <td>64</td>\n",
       "      <td>0</td>\n",
       "      <td>4.86</td>\n",
       "      <td>2020-07-14 21:15:58</td>\n",
       "      <td>2020-07-14</td>\n",
       "    </tr>\n",
       "    <tr>\n",
       "      <th>...</th>\n",
       "      <td>...</td>\n",
       "      <td>...</td>\n",
       "      <td>...</td>\n",
       "      <td>...</td>\n",
       "      <td>...</td>\n",
       "      <td>...</td>\n",
       "      <td>...</td>\n",
       "      <td>...</td>\n",
       "      <td>...</td>\n",
       "    </tr>\n",
       "    <tr>\n",
       "      <th>75</th>\n",
       "      <td>Castro</td>\n",
       "      <td>-24.79</td>\n",
       "      <td>-50.01</td>\n",
       "      <td>286.76</td>\n",
       "      <td>66</td>\n",
       "      <td>0</td>\n",
       "      <td>1.35</td>\n",
       "      <td>2020-07-14 21:16:07</td>\n",
       "      <td>2020-07-14</td>\n",
       "    </tr>\n",
       "    <tr>\n",
       "      <th>76</th>\n",
       "      <td>Kahului</td>\n",
       "      <td>20.89</td>\n",
       "      <td>-156.47</td>\n",
       "      <td>300.83</td>\n",
       "      <td>46</td>\n",
       "      <td>40</td>\n",
       "      <td>9.30</td>\n",
       "      <td>2020-07-14 21:16:07</td>\n",
       "      <td>2020-07-14</td>\n",
       "    </tr>\n",
       "    <tr>\n",
       "      <th>77</th>\n",
       "      <td>Guachetá</td>\n",
       "      <td>5.38</td>\n",
       "      <td>-73.69</td>\n",
       "      <td>289.29</td>\n",
       "      <td>58</td>\n",
       "      <td>17</td>\n",
       "      <td>4.47</td>\n",
       "      <td>2020-07-14 21:16:07</td>\n",
       "      <td>2020-07-14</td>\n",
       "    </tr>\n",
       "    <tr>\n",
       "      <th>78</th>\n",
       "      <td>Codrington</td>\n",
       "      <td>-38.27</td>\n",
       "      <td>141.97</td>\n",
       "      <td>277.72</td>\n",
       "      <td>95</td>\n",
       "      <td>41</td>\n",
       "      <td>3.13</td>\n",
       "      <td>2020-07-14 21:16:07</td>\n",
       "      <td>2020-07-14</td>\n",
       "    </tr>\n",
       "    <tr>\n",
       "      <th>79</th>\n",
       "      <td>Barrow</td>\n",
       "      <td>71.29</td>\n",
       "      <td>-156.79</td>\n",
       "      <td>277.15</td>\n",
       "      <td>80</td>\n",
       "      <td>90</td>\n",
       "      <td>4.10</td>\n",
       "      <td>2020-07-14 21:16:07</td>\n",
       "      <td>2020-07-14</td>\n",
       "    </tr>\n",
       "  </tbody>\n",
       "</table>\n",
       "<p>80 rows × 9 columns</p>\n",
       "</div>"
      ],
      "text/plain": [
       "          City Name  Latitude  Longitude  Temperature  Humidity  Cloudiness  \\\n",
       "0             Alofi    -19.06    -169.92       298.15        61          40   \n",
       "1          Hermanus    -34.42      19.23       277.04        92           7   \n",
       "2            Lashio     22.93      97.75       293.45        99          99   \n",
       "3         Cape Town    -33.93      18.42       281.39        76           4   \n",
       "4   Lázaro Cárdenas     17.96    -102.20       303.67        64           0   \n",
       "..              ...       ...        ...          ...       ...         ...   \n",
       "75           Castro    -24.79     -50.01       286.76        66           0   \n",
       "76          Kahului     20.89    -156.47       300.83        46          40   \n",
       "77         Guachetá      5.38     -73.69       289.29        58          17   \n",
       "78       Codrington    -38.27     141.97       277.72        95          41   \n",
       "79           Barrow     71.29    -156.79       277.15        80          90   \n",
       "\n",
       "    Windspeed                Date   just_date  \n",
       "0        7.70 2020-07-14 21:15:57  2020-07-14  \n",
       "1        3.58 2020-07-14 21:15:57  2020-07-14  \n",
       "2        0.17 2020-07-14 21:15:57  2020-07-14  \n",
       "3        4.10 2020-07-14 21:14:49  2020-07-14  \n",
       "4        4.86 2020-07-14 21:15:58  2020-07-14  \n",
       "..        ...                 ...         ...  \n",
       "75       1.35 2020-07-14 21:16:07  2020-07-14  \n",
       "76       9.30 2020-07-14 21:16:07  2020-07-14  \n",
       "77       4.47 2020-07-14 21:16:07  2020-07-14  \n",
       "78       3.13 2020-07-14 21:16:07  2020-07-14  \n",
       "79       4.10 2020-07-14 21:16:07  2020-07-14  \n",
       "\n",
       "[80 rows x 9 columns]"
      ]
     },
     "execution_count": 8,
     "metadata": {},
     "output_type": "execute_result"
    }
   ],
   "source": [
    "    # Extract relevant fields from the data frame\n",
    "    # Export the City_Data into a csv\n",
    "    clean_cities_df.to_csv(\"../output_data/clean_cities_data.csv\", index = False, header = True)\n",
    "    clean_cities_df['just_date'] = clean_cities_df['Date'].dt.date\n",
    "    clean_cities_df"
   ]
  },
  {
   "cell_type": "markdown",
   "metadata": {},
   "source": [
    "## Plotting the Data\n",
    "* Use proper labeling of the plots using plot titles (including date of analysis) and axes labels.\n",
    "* Save the plotted figures as .pngs."
   ]
  },
  {
   "cell_type": "markdown",
   "metadata": {},
   "source": [
    "## Latitude vs. Temperature Plot"
   ]
  },
  {
   "cell_type": "code",
   "execution_count": 14,
   "metadata": {
    "scrolled": true
   },
   "outputs": [
    {
     "data": {
      "image/png": "[encoded data removed]",
      "text/plain": [
       "<Figure size 432x288 with 1 Axes>"
      ]
     },
     "metadata": {
      "needs_background": "light"
     },
     "output_type": "display_data"
    },
    {
     "data": {
      "text/plain": [
       "<Figure size 432x288 with 0 Axes>"
      ]
     },
     "metadata": {},
     "output_type": "display_data"
    }
   ],
   "source": [
    "clean_cities_df.plot.scatter(\"Latitude\", \"Temperature\")\n",
    "plt.title(f'Latitude vs Temperature on {clean_cities_df[\"just_date\"].unique()}')\n",
    "plt.show()\n",
    "plt.savefig(\"../output_data/LatvsTemp.png\")"
   ]
  },
  {
   "cell_type": "markdown",
   "metadata": {},
   "source": [
    "## Latitude vs. Humidity Plot"
   ]
  },
  {
   "cell_type": "code",
   "execution_count": 15,
   "metadata": {},
   "outputs": [
    {
     "data": {
      "image/png": "[encoded data removed]",
      "text/plain": [
       "<Figure size 432x288 with 1 Axes>"
      ]
     },
     "metadata": {
      "needs_background": "light"
     },
     "output_type": "display_data"
    },
    {
     "data": {
      "text/plain": [
       "<Figure size 432x288 with 0 Axes>"
      ]
     },
     "metadata": {},
     "output_type": "display_data"
    }
   ],
   "source": [
    "clean_cities_df.plot.scatter(\"Latitude\", \"Humidity\")\n",
    "plt.title(\"Latitude vs Humidity\")\n",
    "plt.show()\n",
    "plt.savefig(\"../output_data/LatvsHumid.png\")"
   ]
  },
  {
   "cell_type": "markdown",
   "metadata": {},
   "source": [
    "## Latitude vs. Cloudiness Plot"
   ]
  },
  {
   "cell_type": "code",
   "execution_count": 16,
   "metadata": {},
   "outputs": [
    {
     "data": {
      "image/png": "[encoded data removed]",
      "text/plain": [
       "<Figure size 432x288 with 1 Axes>"
      ]
     },
     "metadata": {
      "needs_background": "light"
     },
     "output_type": "display_data"
    },
    {
     "data": {
      "text/plain": [
       "<Figure size 432x288 with 0 Axes>"
      ]
     },
     "metadata": {},
     "output_type": "display_data"
    }
   ],
   "source": [
    "clean_cities_df.plot.scatter(\"Latitude\", \"Cloudiness\")\n",
    "plt.title(\"Latitude vs Humidity\")\n",
    "plt.show()\n",
    "plt.savefig(\"../output_data/LatvsClouds.png\")"
   ]
  },
  {
   "cell_type": "markdown",
   "metadata": {},
   "source": [
    "## Latitude vs. Wind Speed Plot"
   ]
  },
  {
   "cell_type": "code",
   "execution_count": 17,
   "metadata": {},
   "outputs": [
    {
     "data": {
      "image/png": "[encoded data removed]",
      "text/plain": [
       "<Figure size 432x288 with 1 Axes>"
      ]
     },
     "metadata": {
      "needs_background": "light"
     },
     "output_type": "display_data"
    },
    {
     "data": {
      "text/plain": [
       "<Figure size 432x288 with 0 Axes>"
      ]
     },
     "metadata": {},
     "output_type": "display_data"
    }
   ],
   "source": [
    "clean_cities_df.plot.scatter(\"Latitude\", \"Windspeed\")\n",
    "plt.title(\"Latitude vs Humidity\")\n",
    "plt.show()\n",
    "plt.savefig(\"../output_data/LatvsWS.png\")"
   ]
  },
  {
   "cell_type": "markdown",
   "metadata": {},
   "source": [
    "## Linear Regression"
   ]
  },
  {
   "cell_type": "code",
   "execution_count": 84,
   "metadata": {},
   "outputs": [],
   "source": [
    "# OPTIONAL: Create a function to create Linear Regression plots\n",
    "\n",
    "def linearregression(x,y,xlabel, ylabel, annotate):\n",
    "    (slope, intercept, rvalue, pvalue, stderr) = linregress(x, y)\n",
    "    regress_values = x * slope + intercept\n",
    "    line_eq = \"y = \" + str(round(slope,2)) + \"x + \" + str(round(intercept,2))\n",
    "    plt.scatter(x,y)\n",
    "    plt.plot(x,regress_values,\"r-\")\n",
    "    plt.annotate(line_eq,annotate,fontsize=15,color=\"red\")\n",
    "    plt.xlabel(xlabel)\n",
    "    plt.ylabel(ylabel)\n",
    "    plt.title(f'{xlabel} \"vs\" {ylabel}')\n",
    "    plt.show()\n",
    "    \n"
   ]
  },
  {
   "cell_type": "code",
   "execution_count": 85,
   "metadata": {},
   "outputs": [
    {
     "data": {
      "text/html": [
       "<div>\n",
       "<style scoped>\n",
       "    .dataframe tbody tr th:only-of-type {\n",
       "        vertical-align: middle;\n",
       "    }\n",
       "\n",
       "    .dataframe tbody tr th {\n",
       "        vertical-align: top;\n",
       "    }\n",
       "\n",
       "    .dataframe thead th {\n",
       "        text-align: right;\n",
       "    }\n",
       "</style>\n",
       "<table border=\"1\" class=\"dataframe\">\n",
       "  <thead>\n",
       "    <tr style=\"text-align: right;\">\n",
       "      <th></th>\n",
       "      <th>City Name</th>\n",
       "      <th>Latitude</th>\n",
       "      <th>Longitude</th>\n",
       "      <th>Temperature</th>\n",
       "      <th>Humidity</th>\n",
       "      <th>Cloudiness</th>\n",
       "      <th>Windspeed</th>\n",
       "      <th>Date</th>\n",
       "      <th>just_date</th>\n",
       "    </tr>\n",
       "  </thead>\n",
       "  <tbody>\n",
       "    <tr>\n",
       "      <th>0</th>\n",
       "      <td>Alofi</td>\n",
       "      <td>-19.06</td>\n",
       "      <td>-169.92</td>\n",
       "      <td>298.15</td>\n",
       "      <td>61</td>\n",
       "      <td>40</td>\n",
       "      <td>7.70</td>\n",
       "      <td>2020-07-14 21:15:57</td>\n",
       "      <td>2020-07-14</td>\n",
       "    </tr>\n",
       "    <tr>\n",
       "      <th>1</th>\n",
       "      <td>Hermanus</td>\n",
       "      <td>-34.42</td>\n",
       "      <td>19.23</td>\n",
       "      <td>277.04</td>\n",
       "      <td>92</td>\n",
       "      <td>7</td>\n",
       "      <td>3.58</td>\n",
       "      <td>2020-07-14 21:15:57</td>\n",
       "      <td>2020-07-14</td>\n",
       "    </tr>\n",
       "    <tr>\n",
       "      <th>3</th>\n",
       "      <td>Cape Town</td>\n",
       "      <td>-33.93</td>\n",
       "      <td>18.42</td>\n",
       "      <td>281.39</td>\n",
       "      <td>76</td>\n",
       "      <td>4</td>\n",
       "      <td>4.10</td>\n",
       "      <td>2020-07-14 21:14:49</td>\n",
       "      <td>2020-07-14</td>\n",
       "    </tr>\n",
       "    <tr>\n",
       "      <th>6</th>\n",
       "      <td>Port Alfred</td>\n",
       "      <td>-33.59</td>\n",
       "      <td>26.89</td>\n",
       "      <td>284.56</td>\n",
       "      <td>73</td>\n",
       "      <td>38</td>\n",
       "      <td>7.31</td>\n",
       "      <td>2020-07-14 21:15:58</td>\n",
       "      <td>2020-07-14</td>\n",
       "    </tr>\n",
       "    <tr>\n",
       "      <th>10</th>\n",
       "      <td>Aripuanã</td>\n",
       "      <td>-9.17</td>\n",
       "      <td>-60.63</td>\n",
       "      <td>304.67</td>\n",
       "      <td>44</td>\n",
       "      <td>74</td>\n",
       "      <td>0.80</td>\n",
       "      <td>2020-07-14 21:15:59</td>\n",
       "      <td>2020-07-14</td>\n",
       "    </tr>\n",
       "    <tr>\n",
       "      <th>12</th>\n",
       "      <td>Busselton</td>\n",
       "      <td>-33.65</td>\n",
       "      <td>115.33</td>\n",
       "      <td>281.99</td>\n",
       "      <td>87</td>\n",
       "      <td>81</td>\n",
       "      <td>5.93</td>\n",
       "      <td>2020-07-14 21:15:59</td>\n",
       "      <td>2020-07-14</td>\n",
       "    </tr>\n",
       "    <tr>\n",
       "      <th>17</th>\n",
       "      <td>Manta</td>\n",
       "      <td>-0.95</td>\n",
       "      <td>-80.73</td>\n",
       "      <td>298.11</td>\n",
       "      <td>71</td>\n",
       "      <td>1</td>\n",
       "      <td>5.57</td>\n",
       "      <td>2020-07-14 21:16:00</td>\n",
       "      <td>2020-07-14</td>\n",
       "    </tr>\n",
       "    <tr>\n",
       "      <th>19</th>\n",
       "      <td>Mahébourg</td>\n",
       "      <td>-20.41</td>\n",
       "      <td>57.70</td>\n",
       "      <td>295.15</td>\n",
       "      <td>88</td>\n",
       "      <td>40</td>\n",
       "      <td>4.60</td>\n",
       "      <td>2020-07-14 21:16:00</td>\n",
       "      <td>2020-07-14</td>\n",
       "    </tr>\n",
       "    <tr>\n",
       "      <th>20</th>\n",
       "      <td>Manicoré</td>\n",
       "      <td>-5.81</td>\n",
       "      <td>-61.30</td>\n",
       "      <td>305.15</td>\n",
       "      <td>62</td>\n",
       "      <td>20</td>\n",
       "      <td>2.60</td>\n",
       "      <td>2020-07-14 21:16:00</td>\n",
       "      <td>2020-07-14</td>\n",
       "    </tr>\n",
       "    <tr>\n",
       "      <th>23</th>\n",
       "      <td>Port Elizabeth</td>\n",
       "      <td>-33.92</td>\n",
       "      <td>25.57</td>\n",
       "      <td>282.15</td>\n",
       "      <td>81</td>\n",
       "      <td>62</td>\n",
       "      <td>5.10</td>\n",
       "      <td>2020-07-14 21:16:01</td>\n",
       "      <td>2020-07-14</td>\n",
       "    </tr>\n",
       "    <tr>\n",
       "      <th>24</th>\n",
       "      <td>New Norfolk</td>\n",
       "      <td>-42.78</td>\n",
       "      <td>147.06</td>\n",
       "      <td>278.76</td>\n",
       "      <td>89</td>\n",
       "      <td>100</td>\n",
       "      <td>0.88</td>\n",
       "      <td>2020-07-14 21:16:01</td>\n",
       "      <td>2020-07-14</td>\n",
       "    </tr>\n",
       "    <tr>\n",
       "      <th>31</th>\n",
       "      <td>Rikitea</td>\n",
       "      <td>-23.12</td>\n",
       "      <td>-134.97</td>\n",
       "      <td>295.42</td>\n",
       "      <td>81</td>\n",
       "      <td>76</td>\n",
       "      <td>7.35</td>\n",
       "      <td>2020-07-14 21:16:02</td>\n",
       "      <td>2020-07-14</td>\n",
       "    </tr>\n",
       "    <tr>\n",
       "      <th>33</th>\n",
       "      <td>Avarua</td>\n",
       "      <td>-21.21</td>\n",
       "      <td>-159.78</td>\n",
       "      <td>296.15</td>\n",
       "      <td>53</td>\n",
       "      <td>93</td>\n",
       "      <td>3.60</td>\n",
       "      <td>2020-07-14 21:16:02</td>\n",
       "      <td>2020-07-14</td>\n",
       "    </tr>\n",
       "    <tr>\n",
       "      <th>35</th>\n",
       "      <td>Sola</td>\n",
       "      <td>-13.88</td>\n",
       "      <td>167.55</td>\n",
       "      <td>301.15</td>\n",
       "      <td>69</td>\n",
       "      <td>75</td>\n",
       "      <td>6.24</td>\n",
       "      <td>2020-07-14 21:13:30</td>\n",
       "      <td>2020-07-14</td>\n",
       "    </tr>\n",
       "    <tr>\n",
       "      <th>36</th>\n",
       "      <td>Mataura</td>\n",
       "      <td>-46.19</td>\n",
       "      <td>168.86</td>\n",
       "      <td>277.04</td>\n",
       "      <td>83</td>\n",
       "      <td>86</td>\n",
       "      <td>1.34</td>\n",
       "      <td>2020-07-14 21:16:02</td>\n",
       "      <td>2020-07-14</td>\n",
       "    </tr>\n",
       "    <tr>\n",
       "      <th>39</th>\n",
       "      <td>Puerto Ayora</td>\n",
       "      <td>-0.74</td>\n",
       "      <td>-90.35</td>\n",
       "      <td>294.26</td>\n",
       "      <td>89</td>\n",
       "      <td>77</td>\n",
       "      <td>2.24</td>\n",
       "      <td>2020-07-14 21:16:03</td>\n",
       "      <td>2020-07-14</td>\n",
       "    </tr>\n",
       "    <tr>\n",
       "      <th>42</th>\n",
       "      <td>Ntcheu</td>\n",
       "      <td>-14.82</td>\n",
       "      <td>34.64</td>\n",
       "      <td>287.53</td>\n",
       "      <td>44</td>\n",
       "      <td>31</td>\n",
       "      <td>1.14</td>\n",
       "      <td>2020-07-14 21:16:03</td>\n",
       "      <td>2020-07-14</td>\n",
       "    </tr>\n",
       "    <tr>\n",
       "      <th>46</th>\n",
       "      <td>Carutapera</td>\n",
       "      <td>-1.20</td>\n",
       "      <td>-46.02</td>\n",
       "      <td>299.18</td>\n",
       "      <td>83</td>\n",
       "      <td>6</td>\n",
       "      <td>3.06</td>\n",
       "      <td>2020-07-14 21:16:04</td>\n",
       "      <td>2020-07-14</td>\n",
       "    </tr>\n",
       "    <tr>\n",
       "      <th>48</th>\n",
       "      <td>Hobart</td>\n",
       "      <td>-42.88</td>\n",
       "      <td>147.33</td>\n",
       "      <td>279.63</td>\n",
       "      <td>87</td>\n",
       "      <td>75</td>\n",
       "      <td>1.10</td>\n",
       "      <td>2020-07-14 21:11:23</td>\n",
       "      <td>2020-07-14</td>\n",
       "    </tr>\n",
       "    <tr>\n",
       "      <th>52</th>\n",
       "      <td>Bluff</td>\n",
       "      <td>-46.60</td>\n",
       "      <td>168.33</td>\n",
       "      <td>277.04</td>\n",
       "      <td>83</td>\n",
       "      <td>42</td>\n",
       "      <td>1.34</td>\n",
       "      <td>2020-07-14 21:16:04</td>\n",
       "      <td>2020-07-14</td>\n",
       "    </tr>\n",
       "    <tr>\n",
       "      <th>56</th>\n",
       "      <td>Madang</td>\n",
       "      <td>-5.22</td>\n",
       "      <td>145.80</td>\n",
       "      <td>297.63</td>\n",
       "      <td>86</td>\n",
       "      <td>19</td>\n",
       "      <td>1.14</td>\n",
       "      <td>2020-07-14 21:16:05</td>\n",
       "      <td>2020-07-14</td>\n",
       "    </tr>\n",
       "    <tr>\n",
       "      <th>58</th>\n",
       "      <td>Hithadhoo</td>\n",
       "      <td>-0.60</td>\n",
       "      <td>73.08</td>\n",
       "      <td>302.27</td>\n",
       "      <td>67</td>\n",
       "      <td>98</td>\n",
       "      <td>1.56</td>\n",
       "      <td>2020-07-14 21:16:05</td>\n",
       "      <td>2020-07-14</td>\n",
       "    </tr>\n",
       "    <tr>\n",
       "      <th>60</th>\n",
       "      <td>Lebu</td>\n",
       "      <td>-37.62</td>\n",
       "      <td>-73.65</td>\n",
       "      <td>285.38</td>\n",
       "      <td>70</td>\n",
       "      <td>4</td>\n",
       "      <td>2.37</td>\n",
       "      <td>2020-07-14 21:16:05</td>\n",
       "      <td>2020-07-14</td>\n",
       "    </tr>\n",
       "    <tr>\n",
       "      <th>61</th>\n",
       "      <td>Zambezi</td>\n",
       "      <td>-13.54</td>\n",
       "      <td>23.10</td>\n",
       "      <td>286.06</td>\n",
       "      <td>39</td>\n",
       "      <td>0</td>\n",
       "      <td>1.34</td>\n",
       "      <td>2020-07-14 21:16:05</td>\n",
       "      <td>2020-07-14</td>\n",
       "    </tr>\n",
       "    <tr>\n",
       "      <th>64</th>\n",
       "      <td>Vacaria</td>\n",
       "      <td>-28.51</td>\n",
       "      <td>-50.93</td>\n",
       "      <td>279.82</td>\n",
       "      <td>49</td>\n",
       "      <td>0</td>\n",
       "      <td>1.33</td>\n",
       "      <td>2020-07-14 21:16:06</td>\n",
       "      <td>2020-07-14</td>\n",
       "    </tr>\n",
       "    <tr>\n",
       "      <th>67</th>\n",
       "      <td>Bima</td>\n",
       "      <td>-8.47</td>\n",
       "      <td>118.72</td>\n",
       "      <td>295.29</td>\n",
       "      <td>89</td>\n",
       "      <td>13</td>\n",
       "      <td>1.80</td>\n",
       "      <td>2020-07-14 21:16:06</td>\n",
       "      <td>2020-07-14</td>\n",
       "    </tr>\n",
       "    <tr>\n",
       "      <th>69</th>\n",
       "      <td>Bambous Virieux</td>\n",
       "      <td>-20.34</td>\n",
       "      <td>57.76</td>\n",
       "      <td>295.25</td>\n",
       "      <td>88</td>\n",
       "      <td>40</td>\n",
       "      <td>4.60</td>\n",
       "      <td>2020-07-14 21:16:06</td>\n",
       "      <td>2020-07-14</td>\n",
       "    </tr>\n",
       "    <tr>\n",
       "      <th>70</th>\n",
       "      <td>Charters Towers</td>\n",
       "      <td>-20.10</td>\n",
       "      <td>146.27</td>\n",
       "      <td>281.51</td>\n",
       "      <td>54</td>\n",
       "      <td>0</td>\n",
       "      <td>3.17</td>\n",
       "      <td>2020-07-14 21:16:06</td>\n",
       "      <td>2020-07-14</td>\n",
       "    </tr>\n",
       "    <tr>\n",
       "      <th>71</th>\n",
       "      <td>Punta Arenas</td>\n",
       "      <td>-53.15</td>\n",
       "      <td>-70.92</td>\n",
       "      <td>276.04</td>\n",
       "      <td>84</td>\n",
       "      <td>90</td>\n",
       "      <td>2.60</td>\n",
       "      <td>2020-07-14 21:13:52</td>\n",
       "      <td>2020-07-14</td>\n",
       "    </tr>\n",
       "    <tr>\n",
       "      <th>72</th>\n",
       "      <td>Lüderitz</td>\n",
       "      <td>-26.65</td>\n",
       "      <td>15.16</td>\n",
       "      <td>289.15</td>\n",
       "      <td>41</td>\n",
       "      <td>0</td>\n",
       "      <td>9.80</td>\n",
       "      <td>2020-07-14 21:13:06</td>\n",
       "      <td>2020-07-14</td>\n",
       "    </tr>\n",
       "    <tr>\n",
       "      <th>75</th>\n",
       "      <td>Castro</td>\n",
       "      <td>-24.79</td>\n",
       "      <td>-50.01</td>\n",
       "      <td>286.76</td>\n",
       "      <td>66</td>\n",
       "      <td>0</td>\n",
       "      <td>1.35</td>\n",
       "      <td>2020-07-14 21:16:07</td>\n",
       "      <td>2020-07-14</td>\n",
       "    </tr>\n",
       "    <tr>\n",
       "      <th>78</th>\n",
       "      <td>Codrington</td>\n",
       "      <td>-38.27</td>\n",
       "      <td>141.97</td>\n",
       "      <td>277.72</td>\n",
       "      <td>95</td>\n",
       "      <td>41</td>\n",
       "      <td>3.13</td>\n",
       "      <td>2020-07-14 21:16:07</td>\n",
       "      <td>2020-07-14</td>\n",
       "    </tr>\n",
       "  </tbody>\n",
       "</table>\n",
       "</div>"
      ],
      "text/plain": [
       "          City Name  Latitude  Longitude  Temperature  Humidity  Cloudiness  \\\n",
       "0             Alofi    -19.06    -169.92       298.15        61          40   \n",
       "1          Hermanus    -34.42      19.23       277.04        92           7   \n",
       "3         Cape Town    -33.93      18.42       281.39        76           4   \n",
       "6       Port Alfred    -33.59      26.89       284.56        73          38   \n",
       "10         Aripuanã     -9.17     -60.63       304.67        44          74   \n",
       "12        Busselton    -33.65     115.33       281.99        87          81   \n",
       "17            Manta     -0.95     -80.73       298.11        71           1   \n",
       "19        Mahébourg    -20.41      57.70       295.15        88          40   \n",
       "20         Manicoré     -5.81     -61.30       305.15        62          20   \n",
       "23   Port Elizabeth    -33.92      25.57       282.15        81          62   \n",
       "24      New Norfolk    -42.78     147.06       278.76        89         100   \n",
       "31          Rikitea    -23.12    -134.97       295.42        81          76   \n",
       "33           Avarua    -21.21    -159.78       296.15        53          93   \n",
       "35             Sola    -13.88     167.55       301.15        69          75   \n",
       "36          Mataura    -46.19     168.86       277.04        83          86   \n",
       "39     Puerto Ayora     -0.74     -90.35       294.26        89          77   \n",
       "42           Ntcheu    -14.82      34.64       287.53        44          31   \n",
       "46       Carutapera     -1.20     -46.02       299.18        83           6   \n",
       "48           Hobart    -42.88     147.33       279.63        87          75   \n",
       "52            Bluff    -46.60     168.33       277.04        83          42   \n",
       "56           Madang     -5.22     145.80       297.63        86          19   \n",
       "58        Hithadhoo     -0.60      73.08       302.27        67          98   \n",
       "60             Lebu    -37.62     -73.65       285.38        70           4   \n",
       "61          Zambezi    -13.54      23.10       286.06        39           0   \n",
       "64          Vacaria    -28.51     -50.93       279.82        49           0   \n",
       "67             Bima     -8.47     118.72       295.29        89          13   \n",
       "69  Bambous Virieux    -20.34      57.76       295.25        88          40   \n",
       "70  Charters Towers    -20.10     146.27       281.51        54           0   \n",
       "71     Punta Arenas    -53.15     -70.92       276.04        84          90   \n",
       "72         Lüderitz    -26.65      15.16       289.15        41           0   \n",
       "75           Castro    -24.79     -50.01       286.76        66           0   \n",
       "78       Codrington    -38.27     141.97       277.72        95          41   \n",
       "\n",
       "    Windspeed                Date   just_date  \n",
       "0        7.70 2020-07-14 21:15:57  2020-07-14  \n",
       "1        3.58 2020-07-14 21:15:57  2020-07-14  \n",
       "3        4.10 2020-07-14 21:14:49  2020-07-14  \n",
       "6        7.31 2020-07-14 21:15:58  2020-07-14  \n",
       "10       0.80 2020-07-14 21:15:59  2020-07-14  \n",
       "12       5.93 2020-07-14 21:15:59  2020-07-14  \n",
       "17       5.57 2020-07-14 21:16:00  2020-07-14  \n",
       "19       4.60 2020-07-14 21:16:00  2020-07-14  \n",
       "20       2.60 2020-07-14 21:16:00  2020-07-14  \n",
       "23       5.10 2020-07-14 21:16:01  2020-07-14  \n",
       "24       0.88 2020-07-14 21:16:01  2020-07-14  \n",
       "31       7.35 2020-07-14 21:16:02  2020-07-14  \n",
       "33       3.60 2020-07-14 21:16:02  2020-07-14  \n",
       "35       6.24 2020-07-14 21:13:30  2020-07-14  \n",
       "36       1.34 2020-07-14 21:16:02  2020-07-14  \n",
       "39       2.24 2020-07-14 21:16:03  2020-07-14  \n",
       "42       1.14 2020-07-14 21:16:03  2020-07-14  \n",
       "46       3.06 2020-07-14 21:16:04  2020-07-14  \n",
       "48       1.10 2020-07-14 21:11:23  2020-07-14  \n",
       "52       1.34 2020-07-14 21:16:04  2020-07-14  \n",
       "56       1.14 2020-07-14 21:16:05  2020-07-14  \n",
       "58       1.56 2020-07-14 21:16:05  2020-07-14  \n",
       "60       2.37 2020-07-14 21:16:05  2020-07-14  \n",
       "61       1.34 2020-07-14 21:16:05  2020-07-14  \n",
       "64       1.33 2020-07-14 21:16:06  2020-07-14  \n",
       "67       1.80 2020-07-14 21:16:06  2020-07-14  \n",
       "69       4.60 2020-07-14 21:16:06  2020-07-14  \n",
       "70       3.17 2020-07-14 21:16:06  2020-07-14  \n",
       "71       2.60 2020-07-14 21:13:52  2020-07-14  \n",
       "72       9.80 2020-07-14 21:13:06  2020-07-14  \n",
       "75       1.35 2020-07-14 21:16:07  2020-07-14  \n",
       "78       3.13 2020-07-14 21:16:07  2020-07-14  "
      ]
     },
     "execution_count": 85,
     "metadata": {},
     "output_type": "execute_result"
    }
   ],
   "source": [
    "# Create Northern and Southern Hemisphere DataFrames\n",
    "northern_hemisphere_df = clean_cities_df.loc[clean_cities_df['Latitude']>=0]\n",
    "northern_hemisphere_df.dropna(how = 'all', axis =1)\n",
    "southern_hemisphere_df = clean_cities_df.loc[clean_cities_df['Latitude']<0]\n",
    "southern_hemisphere_df.dropna(how = 'all', axis =1)"
   ]
  },
  {
   "cell_type": "markdown",
   "metadata": {},
   "source": [
    "####  Northern Hemisphere - Max Temp vs. Latitude Linear Regression"
   ]
  },
  {
   "cell_type": "code",
   "execution_count": 97,
   "metadata": {},
   "outputs": [
    {
     "data": {
      "image/png": "[encoded data removed]",
      "text/plain": [
       "<Figure size 432x288 with 1 Axes>"
      ]
     },
     "metadata": {
      "needs_background": "light"
     },
     "output_type": "display_data"
    },
    {
     "data": {
      "text/plain": [
       "<Figure size 432x288 with 0 Axes>"
      ]
     },
     "metadata": {},
     "output_type": "display_data"
    }
   ],
   "source": [
    "#call function\n",
    "linearregression(northern_hemisphere_df['Temperature'],northern_hemisphere_df['Latitude'], \"Max Temperature\", \"Latitude\", (280,20))\n",
    "#sav fig\n",
    "plt.savefig(\"../output_data/NorthMaxTempvsLat.png\")"
   ]
  },
  {
   "cell_type": "markdown",
   "metadata": {},
   "source": [
    "####  Southern Hemisphere - Max Temp vs. Latitude Linear Regression"
   ]
  },
  {
   "cell_type": "code",
   "execution_count": 98,
   "metadata": {},
   "outputs": [
    {
     "data": {
      "image/png": "[encoded data removed]",
      "text/plain": [
       "<Figure size 432x288 with 1 Axes>"
      ]
     },
     "metadata": {
      "needs_background": "light"
     },
     "output_type": "display_data"
    },
    {
     "data": {
      "text/plain": [
       "<Figure size 432x288 with 0 Axes>"
      ]
     },
     "metadata": {},
     "output_type": "display_data"
    }
   ],
   "source": [
    "#call function\n",
    "linearregression(southern_hemisphere_df['Temperature'],southern_hemisphere_df['Latitude'], \"Max Temperature\", \"Latitude\", (290,-50))\n",
    "#save figure\n",
    "plt.savefig(\"../output_data/SouthMaxTempvsLat.png\")"
   ]
  },
  {
   "cell_type": "markdown",
   "metadata": {},
   "source": [
    "####  Northern Hemisphere - Humidity (%) vs. Latitude Linear Regression"
   ]
  },
  {
   "cell_type": "code",
   "execution_count": 99,
   "metadata": {},
   "outputs": [
    {
     "data": {
      "image/png": "[encoded data removed]",
      "text/plain": [
       "<Figure size 432x288 with 1 Axes>"
      ]
     },
     "metadata": {
      "needs_background": "light"
     },
     "output_type": "display_data"
    },
    {
     "data": {
      "text/plain": [
       "<Figure size 432x288 with 0 Axes>"
      ]
     },
     "metadata": {},
     "output_type": "display_data"
    }
   ],
   "source": [
    "#Call function\n",
    "linearregression(northern_hemisphere_df['Humidity'],northern_hemisphere_df['Latitude'], \"Humidity\", \"Latitude\", (20,20))\n",
    "#save figure\n",
    "plt.savefig(\"../output_data/NorthHumidvsLat.png\")"
   ]
  },
  {
   "cell_type": "markdown",
   "metadata": {},
   "source": [
    "####  Southern Hemisphere - Humidity (%) vs. Latitude Linear Regression"
   ]
  },
  {
   "cell_type": "code",
   "execution_count": 100,
   "metadata": {},
   "outputs": [
    {
     "data": {
      "image/png": "[encoded data removed]",
      "text/plain": [
       "<Figure size 432x288 with 1 Axes>"
      ]
     },
     "metadata": {
      "needs_background": "light"
     },
     "output_type": "display_data"
    },
    {
     "data": {
      "text/plain": [
       "<Figure size 432x288 with 0 Axes>"
      ]
     },
     "metadata": {},
     "output_type": "display_data"
    }
   ],
   "source": [
    "#call function\n",
    "linearregression(southern_hemisphere_df['Humidity'],southern_hemisphere_df['Latitude'], \"Humidity\", \"Latitude\", (50, -40))\n",
    "#save figure\n",
    "plt.savefig(\"../output_data/SouthHumidvsLat.png\")"
   ]
  },
  {
   "cell_type": "markdown",
   "metadata": {},
   "source": [
    "####  Northern Hemisphere - Cloudiness (%) vs. Latitude Linear Regression"
   ]
  },
  {
   "cell_type": "code",
   "execution_count": 101,
   "metadata": {},
   "outputs": [
    {
     "data": {
      "image/png": "[encoded data removed]",
      "text/plain": [
       "<Figure size 432x288 with 1 Axes>"
      ]
     },
     "metadata": {
      "needs_background": "light"
     },
     "output_type": "display_data"
    },
    {
     "data": {
      "text/plain": [
       "<Figure size 432x288 with 0 Axes>"
      ]
     },
     "metadata": {},
     "output_type": "display_data"
    }
   ],
   "source": [
    "#call function\n",
    "linearregression(northern_hemisphere_df['Cloudiness'],northern_hemisphere_df['Latitude'], \"Cloudiness\", \"Latitude\", (50,50))\n",
    "#Sav fig\n",
    "plt.savefig(\"../output_data/NorthCloudvsLat.png\")"
   ]
  },
  {
   "cell_type": "markdown",
   "metadata": {},
   "source": [
    "####  Southern Hemisphere - Cloudiness (%) vs. Latitude Linear Regression"
   ]
  },
  {
   "cell_type": "code",
   "execution_count": 102,
   "metadata": {},
   "outputs": [
    {
     "data": {
      "image/png": "[encoded data removed]",
      "text/plain": [
       "<Figure size 432x288 with 1 Axes>"
      ]
     },
     "metadata": {
      "needs_background": "light"
     },
     "output_type": "display_data"
    },
    {
     "data": {
      "text/plain": [
       "<Figure size 432x288 with 0 Axes>"
      ]
     },
     "metadata": {},
     "output_type": "display_data"
    }
   ],
   "source": [
    "#call function\n",
    "linearregression(southern_hemisphere_df['Cloudiness'],southern_hemisphere_df['Latitude'], \"Cloudiness\", \"Latitude\", (50,-50))\n",
    "#sav fig\n",
    "plt.savefig(\"../output_data/SouthCloudvsLat.png\")"
   ]
  },
  {
   "cell_type": "markdown",
   "metadata": {},
   "source": [
    "####  Northern Hemisphere - Wind Speed (mph) vs. Latitude Linear Regression"
   ]
  },
  {
   "cell_type": "code",
   "execution_count": 103,
   "metadata": {},
   "outputs": [
    {
     "data": {
      "image/png": "[encoded data removed]",
      "text/plain": [
       "<Figure size 432x288 with 1 Axes>"
      ]
     },
     "metadata": {
      "needs_background": "light"
     },
     "output_type": "display_data"
    },
    {
     "data": {
      "text/plain": [
       "<Figure size 432x288 with 0 Axes>"
      ]
     },
     "metadata": {},
     "output_type": "display_data"
    }
   ],
   "source": [
    "#call function\n",
    "linearregression(northern_hemisphere_df['Windspeed'],northern_hemisphere_df['Latitude'],\"Windspeed\", \"Latitude\", (2,50) )\n",
    "#sav fig\n",
    "plt.savefig(\"../output_data/NorthWSvsLat.png\")"
   ]
  },
  {
   "cell_type": "markdown",
   "metadata": {},
   "source": [
    "####  Southern Hemisphere - Wind Speed (mph) vs. Latitude Linear Regression"
   ]
  },
  {
   "cell_type": "code",
   "execution_count": 104,
   "metadata": {},
   "outputs": [
    {
     "data": {
      "image/png": "[encoded data removed]",
      "text/plain": [
       "<Figure size 432x288 with 1 Axes>"
      ]
     },
     "metadata": {
      "needs_background": "light"
     },
     "output_type": "display_data"
    },
    {
     "data": {
      "text/plain": [
       "<Figure size 432x288 with 0 Axes>"
      ]
     },
     "metadata": {},
     "output_type": "display_data"
    }
   ],
   "source": [
    "#Call function\n",
    "linearregression(southern_hemisphere_df['Windspeed'],southern_hemisphere_df['Latitude'], \"Windspeed\", \"Latitude\", (6, -60))\n",
    "#sav fig\n",
    "plt.savefig(\"../output_data/SouthWSvsLat.png\")"
   ]
  },
  {
   "cell_type": "code",
   "execution_count": null,
   "metadata": {},
   "outputs": [],
   "source": []
  }
 ],
 "metadata": {
  "anaconda-cloud": {},
  "kernel_info": {
   "name": "python3"
  },
  "kernelspec": {
   "display_name": "Python [conda env:PythonData] *",
   "language": "python",
   "name": "conda-env-PythonData-py"
  },
  "language_info": {
   "codemirror_mode": {
    "name": "ipython",
    "version": 3
   },
   "file_extension": ".py",
   "mimetype": "text/x-python",
   "name": "python",
   "nbconvert_exporter": "python",
   "pygments_lexer": "ipython3",
   "version": "3.8.3"
  },
  "latex_envs": {
   "LaTeX_envs_menu_present": true,
   "autoclose": false,
   "autocomplete": true,
   "bibliofile": "biblio.bib",
   "cite_by": "apalike",
   "current_citInitial": 1,
   "eqLabelWithNumbers": true,
   "eqNumInitial": 1,
   "hotkeys": {
    "equation": "Ctrl-E",
    "itemize": "Ctrl-I"
   },
   "labels_anchors": false,
   "latex_user_defs": false,
   "report_style_numbering": false,
   "user_envs_cfg": false
  },
  "nteract": {
   "version": "0.12.3"
  }
 },
 "nbformat": 4,
 "nbformat_minor": 2
}
