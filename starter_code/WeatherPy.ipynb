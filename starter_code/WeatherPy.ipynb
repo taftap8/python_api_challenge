{
 "cells": [
  {
   "cell_type": "markdown",
   "metadata": {},
   "source": [
    "# WeatherPy\n",
    "----\n",
    "\n",
    "#### Note\n",
    "* Instructions have been included for each segment. You do not have to follow them exactly, but they are included to help you think through the steps."
   ]
  },
  {
   "cell_type": "code",
   "execution_count": null,
   "metadata": {
    "scrolled": true
   },
   "outputs": [],
   "source": [
    "# Dependencies and Setup\n",
    "import matplotlib.pyplot as plt\n",
    "import pandas as pd\n",
    "import numpy as np\n",
    "import requests\n",
    "import time\n",
    "from scipy.stats import linregress\n",
    "from pprint import pprint\n",
    "\n",
    "# Import API key\n",
    "from api_keys import weather_api_key\n",
    "\n",
    "# Incorporated citipy to determine city based on latitude and longitude\n",
    "from citipy import citipy\n",
    "\n",
    "# Output File (CSV)\n",
    "output_data_file = \"output_data/cities.csv\"\n",
    "\n",
    "# Range of latitudes and longitudes\n",
    "lat_range = (-90, 90)\n",
    "lng_range = (-180, 180)\n"
   ]
  },
  {
   "cell_type": "markdown",
   "metadata": {},
   "source": [
    "## Generate Cities List"
   ]
  },
  {
   "cell_type": "code",
   "execution_count": null,
   "metadata": {},
   "outputs": [],
   "source": [
    "#________________starer code_____________________________________#\n",
    "# List for holding lat_lngs and cities\n",
    "lat_lngs = []\n",
    "cities = []\n",
    "\n",
    "# Create a set of random lat and lng combinations\n",
    "lats = np.random.uniform(lat_range[0], lat_range[1], size=1500) #changed to 15 from 1500 for testing\n",
    "lngs = np.random.uniform(lng_range[0], lng_range[1], size=1500) #changed to 15 from 1500 for testing\n",
    "lat_lngs = zip(lats, lngs)\n",
    "\n",
    "# Identify nearest city for each lat, lng combination\n",
    "for lat_lng in lat_lngs:\n",
    "    city = citipy.nearest_city(lat_lng[0], lat_lng[1]).city_name\n",
    "    \n",
    "    # If the city is unique, then add it to a our cities list\n",
    "    if city not in cities:\n",
    "        cities.append(city)\n",
    "\n",
    "# Print the city count to confirm sufficient count\n",
    "len(cities)\n",
    "#_________________________end starter code______________________________________#\n"
   ]
  },
  {
   "cell_type": "markdown",
   "metadata": {},
   "source": [
    "### Perform API Calls\n",
    "* Perform a weather check on each city using a series of successive API calls.\n",
    "* Include a print log of each city as it'sbeing processed (with the city number and city name).\n"
   ]
  },
  {
   "cell_type": "code",
   "execution_count": null,
   "metadata": {},
   "outputs": [],
   "source": [
    "#set up api/ create URL\n",
    "import json\n",
    "\n",
    "#target each citi in list \"cities\" found above\n",
    "url = \"http://api.openweathermap.org/data/2.5/weather?\"\n",
    "\n",
    "#build query url and exception\n",
    "record_number = 0\n",
    "count = 1\n",
    "batch = 1\n",
    "\n",
    "#define lists to capture from Open Weather Site\n",
    "city_name = []\n",
    "city_lat = []\n",
    "city_long = []\n",
    "temp = []\n",
    "humidity = []\n",
    "country = []\n",
    "cloudiness = []\n",
    "windspeed = []\n",
    "date = []\n",
    "\n",
    "#loop to create list of found data and grab info from api for dataframe\n",
    "for i, x  in enumerate(cities):\n",
    "    #set groups of 50\n",
    "    if count <= 50:\n",
    "        count +=1        \n",
    "    else:\n",
    "        batch += 1 #set of first 50\n",
    "        count = 0       \n",
    "    record_number += 1\n",
    "    try:\n",
    "        query_url = url + \"appid=\" + weather_api_key + \"&q=\" + x\n",
    "        print(f'Processing Record {record_number} of set {batch} for City: {x}')\n",
    "        cities_response = requests.get(query_url).json()\n",
    "        \n",
    "        #store data to lists\n",
    "        city_name.append(cities_response['name'])\n",
    "        city_lat.append(cities_response['coord']['lat'])\n",
    "        city_long.append(cities_response['coord']['lon'])\n",
    "        cloudiness.append(cities_response['clouds']['all'])\n",
    "        temp.append(cities_response['main']['temp'])\n",
    "        humidity.append(cities_response['main']['humidity']) \n",
    "        country.append(cities_response['sys']['country'])\n",
    "        windspeed.append(cities_response['wind']['speed'])\n",
    "        date.append(cities_response['dt'])\n",
    "    except KeyError:\n",
    "        print(f'No information found for city: {x}') "
   ]
  },
  {
   "cell_type": "markdown",
   "metadata": {},
   "source": [
    "### Convert Raw Data to DataFrame\n",
    "* Export the city data into a .csv.\n",
    "* Display the DataFrame"
   ]
  },
  {
   "cell_type": "code",
   "execution_count": null,
   "metadata": {},
   "outputs": [],
   "source": [
    "cities_dict = {\"City Name\" : city_name, \"Latitude\":city_lat, \"Longitude\":city_long, \"Temperature\": temp, \"Humidity\": humidity, \"Cloudiness\":cloudiness, \"Windspeed\":windspeed, \"Date\":date }\n",
    "cities_df = pd.DataFrame(cities_dict)\n",
    "cities_df['Date']=pd.to_datetime(cities_df['Date'], unit='s')\n",
    "cities_df.to_csv(\"../output_data/Citiesweather.csv\", index = False, header = True)"
   ]
  },
  {
   "cell_type": "code",
   "execution_count": null,
   "metadata": {},
   "outputs": [],
   "source": [
    "cities_df"
   ]
  },
  {
   "cell_type": "markdown",
   "metadata": {},
   "source": [
    "## Inspect the data and remove the cities where the humidity > 100%.\n",
    "----\n",
    "Skip this step if there are no cities that have humidity > 100%. "
   ]
  },
  {
   "cell_type": "code",
   "execution_count": null,
   "metadata": {},
   "outputs": [],
   "source": [
    "#check for cities with high humidity\n",
    "if len(cities_df.loc[cities_df['Humidity'] > 100]):\n",
    "    #keep those with humidity less than 100\n",
    "    high_humidity_df = cities_df.loc[cities_df['Humidity'] > 100]\n",
    "    clean_cities_df = cities_df.loc[cities_df['Humidity'] <= 100]\n",
    "    #Get the indices of cities that have humidity over 100%.\n",
    "    high_humidity_label = cities_df[cities_df['Humidity']>100].index.tolist()\n",
    "    print(high_humidity_label)\n",
    "    print(high_humidity_df)\n",
    "else:\n",
    "    clean_cities_df = cities_df"
   ]
  },
  {
   "cell_type": "code",
   "execution_count": null,
   "metadata": {},
   "outputs": [],
   "source": [
    "    ##__________________review with tutor_________________________________-##\n",
    "\n",
    "\n",
    "    # Make a new DataFrame equal to the city data to drop all humidity outliers by index.\n",
    "    #condition= cities_df.loc[cities_df['Humidity'] < 100]\n",
    "    #clean_cities_df = cities_df.where(cond=cities_df.loc[cities_df['Humidity'] < 100],inplace=False)\n",
    "    # Passing \"inplace=False\" will make a copy of the city_data DataFrame, which we call \"clean_city_data\".\n",
    "\n",
    "\n",
    "    #print(clean_city_data_df)\n",
    "    #print(clean_cities_df)"
   ]
  },
  {
   "cell_type": "code",
   "execution_count": null,
   "metadata": {},
   "outputs": [],
   "source": [
    "    # Extract relevant fields from the data frame\n",
    "    # Export the City_Data into a csv\n",
    "    clean_cities_df.to_csv(\"../output_data/clean_cities_data.csv\", index = False, header = True)\n",
    "    clean_cities_df['just_date'] = clean_cities_df['Date'].dt.date\n",
    "    clean_cities_df"
   ]
  },
  {
   "cell_type": "markdown",
   "metadata": {},
   "source": [
    "## Plotting the Data\n",
    "* Use proper labeling of the plots using plot titles (including date of analysis) and axes labels.\n",
    "* Save the plotted figures as .pngs."
   ]
  },
  {
   "cell_type": "markdown",
   "metadata": {},
   "source": [
    "## Latitude vs. Temperature Plot"
   ]
  },
  {
   "cell_type": "code",
   "execution_count": null,
   "metadata": {
    "scrolled": true
   },
   "outputs": [],
   "source": [
    "clean_cities_df.plot.scatter(\"Latitude\", \"Temperature\")\n",
    "plt.title(f'Latitude vs Temperature on {clean_cities_df[\"just_date\"].unique()}')\n",
    "plt.savefig(\"../output_data/LatvsTemp.png\")\n",
    "plt.show()"
   ]
  },
  {
   "cell_type": "markdown",
   "metadata": {},
   "source": [
    "## Latitude vs. Humidity Plot"
   ]
  },
  {
   "cell_type": "code",
   "execution_count": null,
   "metadata": {},
   "outputs": [],
   "source": [
    "clean_cities_df.plot.scatter(\"Latitude\", \"Humidity\")\n",
    "plt.title(\"Latitude vs Humidity\")\n",
    "plt.savefig(\"../output_data/LatvsHumid.png\")\n",
    "plt.show()"
   ]
  },
  {
   "cell_type": "markdown",
   "metadata": {},
   "source": [
    "## Latitude vs. Cloudiness Plot"
   ]
  },
  {
   "cell_type": "code",
   "execution_count": null,
   "metadata": {},
   "outputs": [],
   "source": [
    "clean_cities_df.plot.scatter(\"Latitude\", \"Cloudiness\")\n",
    "plt.title(\"Latitude vs Humidity\")\n",
    "plt.savefig(\"../output_data/LatvsClouds.png\")\n",
    "plt.show()"
   ]
  },
  {
   "cell_type": "markdown",
   "metadata": {},
   "source": [
    "## Latitude vs. Wind Speed Plot"
   ]
  },
  {
   "cell_type": "code",
   "execution_count": null,
   "metadata": {},
   "outputs": [],
   "source": [
    "clean_cities_df.plot.scatter(\"Latitude\", \"Windspeed\")\n",
    "plt.title(\"Latitude vs Windspeed\")\n",
    "plt.savefig(\"../output_data/LatvsWS.png\")\n",
    "plt.show()"
   ]
  },
  {
   "cell_type": "markdown",
   "metadata": {},
   "source": [
    "## Linear Regression"
   ]
  },
  {
   "cell_type": "code",
   "execution_count": null,
   "metadata": {},
   "outputs": [],
   "source": [
    "# OPTIONAL: Create a function to create Linear Regression plots\n",
    "\n",
    "def linearregression(x,y,xlabel, ylabel, annotate):\n",
    "    (slope, intercept, rvalue, pvalue, stderr) = linregress(x, y)\n",
    "    regress_values = x * slope + intercept\n",
    "    line_eq = \"y = \" + str(round(slope,2)) + \"x + \" + str(round(intercept,2))\n",
    "    plt.scatter(x,y)\n",
    "    plt.plot(x,regress_values,\"r-\")\n",
    "    plt.annotate(line_eq,annotate,fontsize=15,color=\"red\")\n",
    "    plt.xlabel(xlabel)\n",
    "    plt.ylabel(ylabel)\n",
    "    plt.title(f'{xlabel} \"vs\" {ylabel}')\n",
    "    plt.show()\n",
    "    \n"
   ]
  },
  {
   "cell_type": "code",
   "execution_count": null,
   "metadata": {},
   "outputs": [],
   "source": [
    "# Create Northern and Southern Hemisphere DataFrames\n",
    "northern_hemisphere_df = clean_cities_df.loc[clean_cities_df['Latitude']>=0]\n",
    "northern_hemisphere_df.dropna(how = 'all', axis =1)\n",
    "southern_hemisphere_df = clean_cities_df.loc[clean_cities_df['Latitude']<0]\n",
    "southern_hemisphere_df.dropna(how = 'all', axis =1)"
   ]
  },
  {
   "cell_type": "markdown",
   "metadata": {},
   "source": [
    "####  Northern Hemisphere - Max Temp vs. Latitude Linear Regression"
   ]
  },
  {
   "cell_type": "code",
   "execution_count": null,
   "metadata": {},
   "outputs": [],
   "source": [
    "#call function\n",
    "linearregression(northern_hemisphere_df['Temperature'],northern_hemisphere_df['Latitude'], \"Max Temperature\", \"Latitude\", (280,20))\n",
    "#sav fig\n",
    "plt.savefig(\"../output_data/NorthMaxTempvsLat.png\")\n",
    "plt.show()"
   ]
  },
  {
   "cell_type": "markdown",
   "metadata": {},
   "source": [
    "####  Southern Hemisphere - Max Temp vs. Latitude Linear Regression"
   ]
  },
  {
   "cell_type": "code",
   "execution_count": null,
   "metadata": {},
   "outputs": [],
   "source": [
    "#call function\n",
    "linearregression(southern_hemisphere_df['Temperature'],southern_hemisphere_df['Latitude'], \"Max Temperature\", \"Latitude\", (290,-50))\n",
    "#save figure\n",
    "plt.savefig(\"../output_data/SouthMaxTempvsLat.png\")\n",
    "plt.show()"
   ]
  },
  {
   "cell_type": "markdown",
   "metadata": {},
   "source": [
    "####  Northern Hemisphere - Humidity (%) vs. Latitude Linear Regression"
   ]
  },
  {
   "cell_type": "code",
   "execution_count": null,
   "metadata": {},
   "outputs": [],
   "source": [
    "#Call function\n",
    "linearregression(northern_hemisphere_df['Humidity'],northern_hemisphere_df['Latitude'], \"Humidity\", \"Latitude\", (20,20))\n",
    "#save figure\n",
    "plt.savefig(\"../output_data/NorthHumidvsLat.png\")\n",
    "plt.show()"
   ]
  },
  {
   "cell_type": "markdown",
   "metadata": {},
   "source": [
    "####  Southern Hemisphere - Humidity (%) vs. Latitude Linear Regression"
   ]
  },
  {
   "cell_type": "code",
   "execution_count": null,
   "metadata": {},
   "outputs": [],
   "source": [
    "#call function\n",
    "linearregression(southern_hemisphere_df['Humidity'],southern_hemisphere_df['Latitude'], \"Humidity\", \"Latitude\", (50, -40))\n",
    "#save figure\n",
    "plt.savefig(\"../output_data/SouthHumidvsLat.png\")\n",
    "plt.show()"
   ]
  },
  {
   "cell_type": "markdown",
   "metadata": {},
   "source": [
    "####  Northern Hemisphere - Cloudiness (%) vs. Latitude Linear Regression"
   ]
  },
  {
   "cell_type": "code",
   "execution_count": null,
   "metadata": {},
   "outputs": [],
   "source": [
    "#call function\n",
    "linearregression(northern_hemisphere_df['Cloudiness'],northern_hemisphere_df['Latitude'], \"Cloudiness\", \"Latitude\", (50,50))\n",
    "#Sav fig\n",
    "plt.savefig(\"../output_data/NorthCloudvsLat.png\")\n",
    "plt.show()"
   ]
  },
  {
   "cell_type": "markdown",
   "metadata": {},
   "source": [
    "####  Southern Hemisphere - Cloudiness (%) vs. Latitude Linear Regression"
   ]
  },
  {
   "cell_type": "code",
   "execution_count": null,
   "metadata": {},
   "outputs": [],
   "source": [
    "#call function\n",
    "linearregression(southern_hemisphere_df['Cloudiness'],southern_hemisphere_df['Latitude'], \"Cloudiness\", \"Latitude\", (50,-50))\n",
    "#sav fig\n",
    "plt.savefig(\"../output_data/SouthCloudvsLat.png\")\n",
    "plt.show()"
   ]
  },
  {
   "cell_type": "markdown",
   "metadata": {},
   "source": [
    "####  Northern Hemisphere - Wind Speed (mph) vs. Latitude Linear Regression"
   ]
  },
  {
   "cell_type": "code",
   "execution_count": null,
   "metadata": {},
   "outputs": [],
   "source": [
    "#call function\n",
    "linearregression(northern_hemisphere_df['Windspeed'],northern_hemisphere_df['Latitude'],\"Windspeed\", \"Latitude\", (2,50) )\n",
    "#sav fig\n",
    "plt.savefig(\"../output_data/NorthWSvsLat.png\")\n",
    "plt.show()"
   ]
  },
  {
   "cell_type": "markdown",
   "metadata": {},
   "source": [
    "####  Southern Hemisphere - Wind Speed (mph) vs. Latitude Linear Regression"
   ]
  },
  {
   "cell_type": "code",
   "execution_count": null,
   "metadata": {},
   "outputs": [],
   "source": [
    "#Call function\n",
    "linearregression(southern_hemisphere_df['Windspeed'],southern_hemisphere_df['Latitude'], \"Windspeed\", \"Latitude\", (6, -60))\n",
    "#sav fig\n",
    "plt.savefig(\"../output_data/SouthWSvsLat.png\")\n",
    "plt.show()"
   ]
  },
  {
   "cell_type": "code",
   "execution_count": null,
   "metadata": {},
   "outputs": [],
   "source": []
  }
 ],
 "metadata": {
  "anaconda-cloud": {},
  "kernel_info": {
   "name": "python3"
  },
  "kernelspec": {
   "display_name": "Python [conda env:root]",
   "language": "python",
   "name": "conda-root-py"
  },
  "language_info": {
   "codemirror_mode": {
    "name": "ipython",
    "version": 3
   },
   "file_extension": ".py",
   "mimetype": "text/x-python",
   "name": "python",
   "nbconvert_exporter": "python",
   "pygments_lexer": "ipython3",
   "version": "3.7.6"
  },
  "latex_envs": {
   "LaTeX_envs_menu_present": true,
   "autoclose": false,
   "autocomplete": true,
   "bibliofile": "biblio.bib",
   "cite_by": "apalike",
   "current_citInitial": 1,
   "eqLabelWithNumbers": true,
   "eqNumInitial": 1,
   "hotkeys": {
    "equation": "Ctrl-E",
    "itemize": "Ctrl-I"
   },
   "labels_anchors": false,
   "latex_user_defs": false,
   "report_style_numbering": false,
   "user_envs_cfg": false
  },
  "nteract": {
   "version": "0.12.3"
  }
 },
 "nbformat": 4,
 "nbformat_minor": 2
}
