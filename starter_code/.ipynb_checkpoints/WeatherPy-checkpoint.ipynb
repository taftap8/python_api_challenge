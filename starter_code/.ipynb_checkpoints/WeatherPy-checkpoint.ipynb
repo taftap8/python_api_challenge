{
 "cells": [
  {
   "cell_type": "markdown",
   "metadata": {},
   "source": [
    "# WeatherPy\n",
    "----\n",
    "\n",
    "#### Note\n",
    "* Instructions have been included for each segment. You do not have to follow them exactly, but they are included to help you think through the steps."
   ]
  },
  {
   "cell_type": "code",
   "execution_count": 1,
   "metadata": {
    "scrolled": true
   },
   "outputs": [],
   "source": [
    "# Dependencies and Setup\n",
    "import matplotlib.pyplot as plt\n",
    "import pandas as pd\n",
    "import numpy as np\n",
    "import requests\n",
    "import time\n",
    "from scipy.stats import linregress\n",
    "from pprint import pprint\n",
    "\n",
    "# Import API key\n",
    "from api_keys import weather_api_key\n",
    "\n",
    "# Incorporated citipy to determine city based on latitude and longitude\n",
    "from citipy import citipy\n",
    "\n",
    "# Output File (CSV)\n",
    "output_data_file = \"output_data/cities.csv\"\n",
    "\n",
    "# Range of latitudes and longitudes\n",
    "lat_range = (-90, 90)\n",
    "lng_range = (-180, 180)"
   ]
  },
  {
   "cell_type": "markdown",
   "metadata": {},
   "source": [
    "## Generate Cities List"
   ]
  },
  {
   "cell_type": "code",
   "execution_count": 2,
   "metadata": {},
   "outputs": [
    {
     "data": {
      "text/plain": [
       "82"
      ]
     },
     "execution_count": 2,
     "metadata": {},
     "output_type": "execute_result"
    }
   ],
   "source": [
    "#________________starer code_____________________________________#\n",
    "# List for holding lat_lngs and cities\n",
    "lat_lngs = []\n",
    "cities = []\n",
    "\n",
    "# Create a set of random lat and lng combinations\n",
    "lats = np.random.uniform(lat_range[0], lat_range[1], size=100) #changed to 15 from 1500 for testing\n",
    "lngs = np.random.uniform(lng_range[0], lng_range[1], size=100) #changed to 15 from 1500 for testing\n",
    "lat_lngs = zip(lats, lngs)\n",
    "\n",
    "# Identify nearest city for each lat, lng combination\n",
    "for lat_lng in lat_lngs:\n",
    "    city = citipy.nearest_city(lat_lng[0], lat_lng[1]).city_name\n",
    "    \n",
    "    # If the city is unique, then add it to a our cities list\n",
    "    if city not in cities:\n",
    "        cities.append(city)\n",
    "\n",
    "# Print the city count to confirm sufficient count\n",
    "len(cities)\n",
    "#_________________________end starter code______________________________________#\n",
    "\n",
    "#cities"
   ]
  },
  {
   "cell_type": "markdown",
   "metadata": {},
   "source": [
    "### Perform API Calls\n",
    "* Perform a weather check on each city using a series of successive API calls.\n",
    "* Include a print log of each city as it'sbeing processed (with the city number and city name).\n"
   ]
  },
  {
   "cell_type": "code",
   "execution_count": 3,
   "metadata": {},
   "outputs": [
    {
     "name": "stdout",
     "output_type": "stream",
     "text": [
      "Processing Record 1 of set 1 for City: vaini\n",
      "Processing Record 2 of set 1 for City: kapaa\n",
      "Processing Record 3 of set 1 for City: hasaki\n",
      "Processing Record 4 of set 1 for City: mataura\n",
      "Processing Record 5 of set 1 for City: pemba\n",
      "Processing Record 6 of set 1 for City: upernavik\n",
      "Processing Record 7 of set 1 for City: mnogovershinnyy\n",
      "Processing Record 8 of set 1 for City: nabire\n",
      "Processing Record 9 of set 1 for City: saint paul\n",
      "Processing Record 10 of set 1 for City: itarema\n",
      "Processing Record 11 of set 1 for City: nanortalik\n",
      "Processing Record 12 of set 1 for City: baoqing\n",
      "Processing Record 13 of set 1 for City: puerto ayora\n",
      "Processing Record 14 of set 1 for City: meulaboh\n",
      "Processing Record 15 of set 1 for City: taolanaro\n",
      "No information found for city: taolanaro\n",
      "Processing Record 16 of set 1 for City: palabuhanratu\n",
      "No information found for city: palabuhanratu\n",
      "Processing Record 17 of set 1 for City: souillac\n",
      "Processing Record 18 of set 1 for City: warrnambool\n",
      "Processing Record 19 of set 1 for City: tuktoyaktuk\n",
      "Processing Record 20 of set 1 for City: torbay\n",
      "Processing Record 21 of set 1 for City: parana\n",
      "Processing Record 22 of set 1 for City: marzuq\n",
      "Processing Record 23 of set 1 for City: lebu\n",
      "Processing Record 24 of set 1 for City: rikitea\n",
      "Processing Record 25 of set 1 for City: acapulco\n",
      "Processing Record 26 of set 1 for City: natalicio talavera\n",
      "Processing Record 27 of set 1 for City: nikolskoye\n",
      "Processing Record 28 of set 1 for City: alwar\n",
      "Processing Record 29 of set 1 for City: labrea\n",
      "Processing Record 30 of set 1 for City: babanusah\n",
      "No information found for city: babanusah\n",
      "Processing Record 31 of set 1 for City: felidhoo\n",
      "No information found for city: felidhoo\n",
      "Processing Record 32 of set 1 for City: berlevag\n",
      "Processing Record 33 of set 1 for City: betare oya\n",
      "Processing Record 34 of set 1 for City: nuuk\n",
      "Processing Record 35 of set 1 for City: utiel\n",
      "Processing Record 36 of set 1 for City: san rafael\n",
      "Processing Record 37 of set 1 for City: hilo\n",
      "Processing Record 38 of set 1 for City: karaul\n",
      "No information found for city: karaul\n",
      "Processing Record 39 of set 1 for City: vallenar\n",
      "Processing Record 40 of set 1 for City: ribeira grande\n",
      "Processing Record 41 of set 1 for City: banda aceh\n",
      "Processing Record 42 of set 1 for City: hithadhoo\n",
      "Processing Record 43 of set 1 for City: canmore\n",
      "Processing Record 44 of set 1 for City: ridgecrest\n",
      "Processing Record 45 of set 1 for City: punta arenas\n",
      "Processing Record 46 of set 1 for City: baruun-urt\n",
      "Processing Record 47 of set 1 for City: kodiak\n",
      "Processing Record 48 of set 1 for City: humacao\n",
      "Processing Record 49 of set 1 for City: lasa\n",
      "Processing Record 50 of set 1 for City: tiksi\n",
      "Processing Record 51 of set 2 for City: kolyshley\n",
      "Processing Record 52 of set 2 for City: tiarei\n",
      "Processing Record 53 of set 2 for City: albany\n",
      "Processing Record 54 of set 2 for City: port moresby\n",
      "Processing Record 55 of set 2 for City: ushuaia\n",
      "Processing Record 56 of set 2 for City: saskylakh\n",
      "Processing Record 57 of set 2 for City: port augusta\n",
      "Processing Record 58 of set 2 for City: jamestown\n",
      "Processing Record 59 of set 2 for City: atuona\n",
      "Processing Record 60 of set 2 for City: tshikapa\n",
      "Processing Record 61 of set 2 for City: maldonado\n",
      "Processing Record 62 of set 2 for City: oron\n",
      "Processing Record 63 of set 2 for City: caravelas\n",
      "Processing Record 64 of set 2 for City: port elizabeth\n",
      "Processing Record 65 of set 2 for City: avarua\n",
      "Processing Record 66 of set 2 for City: vao\n",
      "Processing Record 67 of set 2 for City: bambous virieux\n",
      "Processing Record 68 of set 2 for City: kruisfontein\n",
      "Processing Record 69 of set 2 for City: tanete\n",
      "Processing Record 70 of set 2 for City: vanimo\n",
      "Processing Record 71 of set 2 for City: deputatskiy\n",
      "Processing Record 72 of set 2 for City: ampanihy\n",
      "Processing Record 73 of set 2 for City: klaksvik\n",
      "Processing Record 74 of set 2 for City: georgetown\n",
      "Processing Record 75 of set 2 for City: qaanaaq\n",
      "Processing Record 76 of set 2 for City: masindi\n",
      "Processing Record 77 of set 2 for City: sinnamary\n",
      "Processing Record 78 of set 2 for City: provideniya\n",
      "Processing Record 79 of set 2 for City: nemuro\n",
      "Processing Record 80 of set 2 for City: airai\n",
      "Processing Record 81 of set 2 for City: saint-philippe\n",
      "Processing Record 82 of set 2 for City: saleaula\n",
      "No information found for city: saleaula\n"
     ]
    }
   ],
   "source": [
    "#set up api/ create URL\n",
    "import json\n",
    "\n",
    "#target each citi in list \"cities\" found above\n",
    "url = \"http://api.openweathermap.org/data/2.5/weather?\"\n",
    "\n",
    "#build query url and exception\n",
    "record_number = 0\n",
    "count = 1\n",
    "batch = 1\n",
    "\n",
    "#define lists to capture from Open Weather Site\n",
    "city_name = []\n",
    "city_lat = []\n",
    "city_long = []\n",
    "temp = []\n",
    "humidity = []\n",
    "country = []\n",
    "cloudiness = []\n",
    "windspeed = []\n",
    "date = []\n",
    "\n",
    "#loop to create list of found data and grab info from api for dataframe\n",
    "for i, x  in enumerate(cities):\n",
    "    #set groups of 50\n",
    "    if count <= 50:\n",
    "        count +=1        \n",
    "    else:\n",
    "        batch += 1 #set of first 50\n",
    "        count = 0       \n",
    "    record_number += 1\n",
    "    try:\n",
    "        query_url = url + \"appid=\" + weather_api_key + \"&q=\" + x\n",
    "        print(f'Processing Record {record_number} of set {batch} for City: {x}')\n",
    "        cities_response = requests.get(query_url).json()\n",
    "        \n",
    "        #store data to lists\n",
    "        city_name.append(cities_response['name'])\n",
    "        city_lat.append(cities_response['coord']['lat'])\n",
    "        city_long.append(cities_response['coord']['lon'])\n",
    "        cloudiness.append(cities_response['clouds']['all'])\n",
    "        temp.append(cities_response['main']['temp'])\n",
    "        humidity.append(cities_response['main']['humidity']) \n",
    "        country.append(cities_response['sys']['country'])\n",
    "        windspeed.append(cities_response['wind']['speed'])\n",
    "        date.append(cities_response['dt'])\n",
    "    except KeyError:\n",
    "        print(f'No information found for city: {x}') "
   ]
  },
  {
   "cell_type": "markdown",
   "metadata": {},
   "source": [
    "### Convert Raw Data to DataFrame\n",
    "* Export the city data into a .csv.\n",
    "* Display the DataFrame"
   ]
  },
  {
   "cell_type": "code",
   "execution_count": 26,
   "metadata": {},
   "outputs": [],
   "source": [
    "cities_dict = {\"City Name\" : city_name, \"Latitude\":city_lat, \"Longitude\":city_long, \"Tempature\": temp, \"Humidity\": humidity, \"Cloudiness\":cloudiness, \"Windspeed\":windspeed, \"Date\":date }\n",
    "cities_df = pd.DataFrame(cities_dict)\n",
    "cities_df['Date']=pd.to_datetime(cities_df['Date'], unit='s')\n",
    "cities_df.to_csv(\"../output_data/Citiesweather.csv\", index = False, header = True)"
   ]
  },
  {
   "cell_type": "code",
   "execution_count": 27,
   "metadata": {},
   "outputs": [
    {
     "data": {
      "text/html": [
       "<div>\n",
       "<style scoped>\n",
       "    .dataframe tbody tr th:only-of-type {\n",
       "        vertical-align: middle;\n",
       "    }\n",
       "\n",
       "    .dataframe tbody tr th {\n",
       "        vertical-align: top;\n",
       "    }\n",
       "\n",
       "    .dataframe thead th {\n",
       "        text-align: right;\n",
       "    }\n",
       "</style>\n",
       "<table border=\"1\" class=\"dataframe\">\n",
       "  <thead>\n",
       "    <tr style=\"text-align: right;\">\n",
       "      <th></th>\n",
       "      <th>City Name</th>\n",
       "      <th>Latitude</th>\n",
       "      <th>Longitude</th>\n",
       "      <th>Tempature</th>\n",
       "      <th>Humidity</th>\n",
       "      <th>Cloudiness</th>\n",
       "      <th>Windspeed</th>\n",
       "      <th>Date</th>\n",
       "    </tr>\n",
       "  </thead>\n",
       "  <tbody>\n",
       "    <tr>\n",
       "      <th>0</th>\n",
       "      <td>Vaini</td>\n",
       "      <td>-21.20</td>\n",
       "      <td>-175.20</td>\n",
       "      <td>298.15</td>\n",
       "      <td>78</td>\n",
       "      <td>75</td>\n",
       "      <td>7.70</td>\n",
       "      <td>2020-07-13 01:38:00</td>\n",
       "    </tr>\n",
       "    <tr>\n",
       "      <th>1</th>\n",
       "      <td>Kapaa</td>\n",
       "      <td>22.08</td>\n",
       "      <td>-159.32</td>\n",
       "      <td>298.90</td>\n",
       "      <td>83</td>\n",
       "      <td>75</td>\n",
       "      <td>6.70</td>\n",
       "      <td>2020-07-13 01:38:00</td>\n",
       "    </tr>\n",
       "    <tr>\n",
       "      <th>2</th>\n",
       "      <td>Hasaki</td>\n",
       "      <td>35.73</td>\n",
       "      <td>140.83</td>\n",
       "      <td>294.05</td>\n",
       "      <td>88</td>\n",
       "      <td>75</td>\n",
       "      <td>2.60</td>\n",
       "      <td>2020-07-13 01:38:00</td>\n",
       "    </tr>\n",
       "    <tr>\n",
       "      <th>3</th>\n",
       "      <td>Mataura</td>\n",
       "      <td>-46.19</td>\n",
       "      <td>168.86</td>\n",
       "      <td>280.37</td>\n",
       "      <td>83</td>\n",
       "      <td>83</td>\n",
       "      <td>2.20</td>\n",
       "      <td>2020-07-13 01:38:00</td>\n",
       "    </tr>\n",
       "    <tr>\n",
       "      <th>4</th>\n",
       "      <td>Pemba</td>\n",
       "      <td>-12.97</td>\n",
       "      <td>40.52</td>\n",
       "      <td>294.60</td>\n",
       "      <td>87</td>\n",
       "      <td>1</td>\n",
       "      <td>6.55</td>\n",
       "      <td>2020-07-13 01:38:00</td>\n",
       "    </tr>\n",
       "    <tr>\n",
       "      <th>...</th>\n",
       "      <td>...</td>\n",
       "      <td>...</td>\n",
       "      <td>...</td>\n",
       "      <td>...</td>\n",
       "      <td>...</td>\n",
       "      <td>...</td>\n",
       "      <td>...</td>\n",
       "      <td>...</td>\n",
       "    </tr>\n",
       "    <tr>\n",
       "      <th>71</th>\n",
       "      <td>Sinnamary</td>\n",
       "      <td>5.38</td>\n",
       "      <td>-52.95</td>\n",
       "      <td>298.52</td>\n",
       "      <td>88</td>\n",
       "      <td>66</td>\n",
       "      <td>3.23</td>\n",
       "      <td>2020-07-13 01:38:09</td>\n",
       "    </tr>\n",
       "    <tr>\n",
       "      <th>72</th>\n",
       "      <td>Provideniya</td>\n",
       "      <td>64.38</td>\n",
       "      <td>-173.30</td>\n",
       "      <td>282.15</td>\n",
       "      <td>81</td>\n",
       "      <td>40</td>\n",
       "      <td>7.00</td>\n",
       "      <td>2020-07-13 01:38:09</td>\n",
       "    </tr>\n",
       "    <tr>\n",
       "      <th>73</th>\n",
       "      <td>Nemuro</td>\n",
       "      <td>43.32</td>\n",
       "      <td>145.57</td>\n",
       "      <td>290.15</td>\n",
       "      <td>77</td>\n",
       "      <td>75</td>\n",
       "      <td>1.50</td>\n",
       "      <td>2020-07-13 01:38:09</td>\n",
       "    </tr>\n",
       "    <tr>\n",
       "      <th>74</th>\n",
       "      <td>Airai</td>\n",
       "      <td>-8.93</td>\n",
       "      <td>125.41</td>\n",
       "      <td>293.47</td>\n",
       "      <td>68</td>\n",
       "      <td>100</td>\n",
       "      <td>2.76</td>\n",
       "      <td>2020-07-13 01:38:09</td>\n",
       "    </tr>\n",
       "    <tr>\n",
       "      <th>75</th>\n",
       "      <td>Saint-Philippe</td>\n",
       "      <td>-21.36</td>\n",
       "      <td>55.77</td>\n",
       "      <td>288.24</td>\n",
       "      <td>72</td>\n",
       "      <td>75</td>\n",
       "      <td>2.60</td>\n",
       "      <td>2020-07-13 01:37:53</td>\n",
       "    </tr>\n",
       "  </tbody>\n",
       "</table>\n",
       "<p>76 rows × 8 columns</p>\n",
       "</div>"
      ],
      "text/plain": [
       "         City Name  Latitude  Longitude  Tempature  Humidity  Cloudiness  \\\n",
       "0            Vaini    -21.20    -175.20     298.15        78          75   \n",
       "1            Kapaa     22.08    -159.32     298.90        83          75   \n",
       "2           Hasaki     35.73     140.83     294.05        88          75   \n",
       "3          Mataura    -46.19     168.86     280.37        83          83   \n",
       "4            Pemba    -12.97      40.52     294.60        87           1   \n",
       "..             ...       ...        ...        ...       ...         ...   \n",
       "71       Sinnamary      5.38     -52.95     298.52        88          66   \n",
       "72     Provideniya     64.38    -173.30     282.15        81          40   \n",
       "73          Nemuro     43.32     145.57     290.15        77          75   \n",
       "74           Airai     -8.93     125.41     293.47        68         100   \n",
       "75  Saint-Philippe    -21.36      55.77     288.24        72          75   \n",
       "\n",
       "    Windspeed                Date  \n",
       "0        7.70 2020-07-13 01:38:00  \n",
       "1        6.70 2020-07-13 01:38:00  \n",
       "2        2.60 2020-07-13 01:38:00  \n",
       "3        2.20 2020-07-13 01:38:00  \n",
       "4        6.55 2020-07-13 01:38:00  \n",
       "..        ...                 ...  \n",
       "71       3.23 2020-07-13 01:38:09  \n",
       "72       7.00 2020-07-13 01:38:09  \n",
       "73       1.50 2020-07-13 01:38:09  \n",
       "74       2.76 2020-07-13 01:38:09  \n",
       "75       2.60 2020-07-13 01:37:53  \n",
       "\n",
       "[76 rows x 8 columns]"
      ]
     },
     "execution_count": 27,
     "metadata": {},
     "output_type": "execute_result"
    }
   ],
   "source": [
    "cities_df"
   ]
  },
  {
   "cell_type": "markdown",
   "metadata": {},
   "source": [
    "## Inspect the data and remove the cities where the humidity > 100%.\n",
    "----\n",
    "Skip this step if there are no cities that have humidity > 100%. "
   ]
  },
  {
   "cell_type": "code",
   "execution_count": 29,
   "metadata": {},
   "outputs": [
    {
     "data": {
      "text/html": [
       "<div>\n",
       "<style scoped>\n",
       "    .dataframe tbody tr th:only-of-type {\n",
       "        vertical-align: middle;\n",
       "    }\n",
       "\n",
       "    .dataframe tbody tr th {\n",
       "        vertical-align: top;\n",
       "    }\n",
       "\n",
       "    .dataframe thead th {\n",
       "        text-align: right;\n",
       "    }\n",
       "</style>\n",
       "<table border=\"1\" class=\"dataframe\">\n",
       "  <thead>\n",
       "    <tr style=\"text-align: right;\">\n",
       "      <th></th>\n",
       "      <th>City Name</th>\n",
       "      <th>Latitude</th>\n",
       "      <th>Longitude</th>\n",
       "      <th>Tempature</th>\n",
       "      <th>Humidity</th>\n",
       "      <th>Cloudiness</th>\n",
       "      <th>Windspeed</th>\n",
       "      <th>Date</th>\n",
       "    </tr>\n",
       "  </thead>\n",
       "  <tbody>\n",
       "    <tr>\n",
       "      <th>0</th>\n",
       "      <td>Vaini</td>\n",
       "      <td>-21.20</td>\n",
       "      <td>-175.20</td>\n",
       "      <td>298.15</td>\n",
       "      <td>78</td>\n",
       "      <td>75</td>\n",
       "      <td>7.70</td>\n",
       "      <td>2020-07-13 01:38:00</td>\n",
       "    </tr>\n",
       "    <tr>\n",
       "      <th>1</th>\n",
       "      <td>Kapaa</td>\n",
       "      <td>22.08</td>\n",
       "      <td>-159.32</td>\n",
       "      <td>298.90</td>\n",
       "      <td>83</td>\n",
       "      <td>75</td>\n",
       "      <td>6.70</td>\n",
       "      <td>2020-07-13 01:38:00</td>\n",
       "    </tr>\n",
       "    <tr>\n",
       "      <th>2</th>\n",
       "      <td>Hasaki</td>\n",
       "      <td>35.73</td>\n",
       "      <td>140.83</td>\n",
       "      <td>294.05</td>\n",
       "      <td>88</td>\n",
       "      <td>75</td>\n",
       "      <td>2.60</td>\n",
       "      <td>2020-07-13 01:38:00</td>\n",
       "    </tr>\n",
       "    <tr>\n",
       "      <th>3</th>\n",
       "      <td>Mataura</td>\n",
       "      <td>-46.19</td>\n",
       "      <td>168.86</td>\n",
       "      <td>280.37</td>\n",
       "      <td>83</td>\n",
       "      <td>83</td>\n",
       "      <td>2.20</td>\n",
       "      <td>2020-07-13 01:38:00</td>\n",
       "    </tr>\n",
       "    <tr>\n",
       "      <th>4</th>\n",
       "      <td>Pemba</td>\n",
       "      <td>-12.97</td>\n",
       "      <td>40.52</td>\n",
       "      <td>294.60</td>\n",
       "      <td>87</td>\n",
       "      <td>1</td>\n",
       "      <td>6.55</td>\n",
       "      <td>2020-07-13 01:38:00</td>\n",
       "    </tr>\n",
       "    <tr>\n",
       "      <th>...</th>\n",
       "      <td>...</td>\n",
       "      <td>...</td>\n",
       "      <td>...</td>\n",
       "      <td>...</td>\n",
       "      <td>...</td>\n",
       "      <td>...</td>\n",
       "      <td>...</td>\n",
       "      <td>...</td>\n",
       "    </tr>\n",
       "    <tr>\n",
       "      <th>71</th>\n",
       "      <td>Sinnamary</td>\n",
       "      <td>5.38</td>\n",
       "      <td>-52.95</td>\n",
       "      <td>298.52</td>\n",
       "      <td>88</td>\n",
       "      <td>66</td>\n",
       "      <td>3.23</td>\n",
       "      <td>2020-07-13 01:38:09</td>\n",
       "    </tr>\n",
       "    <tr>\n",
       "      <th>72</th>\n",
       "      <td>Provideniya</td>\n",
       "      <td>64.38</td>\n",
       "      <td>-173.30</td>\n",
       "      <td>282.15</td>\n",
       "      <td>81</td>\n",
       "      <td>40</td>\n",
       "      <td>7.00</td>\n",
       "      <td>2020-07-13 01:38:09</td>\n",
       "    </tr>\n",
       "    <tr>\n",
       "      <th>73</th>\n",
       "      <td>Nemuro</td>\n",
       "      <td>43.32</td>\n",
       "      <td>145.57</td>\n",
       "      <td>290.15</td>\n",
       "      <td>77</td>\n",
       "      <td>75</td>\n",
       "      <td>1.50</td>\n",
       "      <td>2020-07-13 01:38:09</td>\n",
       "    </tr>\n",
       "    <tr>\n",
       "      <th>74</th>\n",
       "      <td>Airai</td>\n",
       "      <td>-8.93</td>\n",
       "      <td>125.41</td>\n",
       "      <td>293.47</td>\n",
       "      <td>68</td>\n",
       "      <td>100</td>\n",
       "      <td>2.76</td>\n",
       "      <td>2020-07-13 01:38:09</td>\n",
       "    </tr>\n",
       "    <tr>\n",
       "      <th>75</th>\n",
       "      <td>Saint-Philippe</td>\n",
       "      <td>-21.36</td>\n",
       "      <td>55.77</td>\n",
       "      <td>288.24</td>\n",
       "      <td>72</td>\n",
       "      <td>75</td>\n",
       "      <td>2.60</td>\n",
       "      <td>2020-07-13 01:37:53</td>\n",
       "    </tr>\n",
       "  </tbody>\n",
       "</table>\n",
       "<p>75 rows × 8 columns</p>\n",
       "</div>"
      ],
      "text/plain": [
       "         City Name  Latitude  Longitude  Tempature  Humidity  Cloudiness  \\\n",
       "0            Vaini    -21.20    -175.20     298.15        78          75   \n",
       "1            Kapaa     22.08    -159.32     298.90        83          75   \n",
       "2           Hasaki     35.73     140.83     294.05        88          75   \n",
       "3          Mataura    -46.19     168.86     280.37        83          83   \n",
       "4            Pemba    -12.97      40.52     294.60        87           1   \n",
       "..             ...       ...        ...        ...       ...         ...   \n",
       "71       Sinnamary      5.38     -52.95     298.52        88          66   \n",
       "72     Provideniya     64.38    -173.30     282.15        81          40   \n",
       "73          Nemuro     43.32     145.57     290.15        77          75   \n",
       "74           Airai     -8.93     125.41     293.47        68         100   \n",
       "75  Saint-Philippe    -21.36      55.77     288.24        72          75   \n",
       "\n",
       "    Windspeed                Date  \n",
       "0        7.70 2020-07-13 01:38:00  \n",
       "1        6.70 2020-07-13 01:38:00  \n",
       "2        2.60 2020-07-13 01:38:00  \n",
       "3        2.20 2020-07-13 01:38:00  \n",
       "4        6.55 2020-07-13 01:38:00  \n",
       "..        ...                 ...  \n",
       "71       3.23 2020-07-13 01:38:09  \n",
       "72       7.00 2020-07-13 01:38:09  \n",
       "73       1.50 2020-07-13 01:38:09  \n",
       "74       2.76 2020-07-13 01:38:09  \n",
       "75       2.60 2020-07-13 01:37:53  \n",
       "\n",
       "[75 rows x 8 columns]"
      ]
     },
     "execution_count": 29,
     "metadata": {},
     "output_type": "execute_result"
    }
   ],
   "source": [
    "#check for cities with high humidity\n",
    "len(cities_df.loc[cities_df['Humidity'] >= 100])\n",
    "\n",
    "#keep those with humidity less than 100\n",
    "clean_cities_df = cities_df.loc[cities_df['Humidity'] < 100]\n",
    "clean_cities_df"
   ]
  },
  {
   "cell_type": "code",
   "execution_count": 6,
   "metadata": {},
   "outputs": [],
   "source": [
    "#  Get the indices of cities that have humidity over 100%.\n",
    "#high_humid_df = cities_df.loc[cities_df['Humidity'] >= 100]\n",
    "#high_humid_index = pd.Index(list(high_humid_df['City Name']))\n",
    "#high_humid_index.get_loc('City Name')\n",
    "#slice(1, 3, None)"
   ]
  },
  {
   "cell_type": "code",
   "execution_count": 33,
   "metadata": {},
   "outputs": [
    {
     "ename": "ValueError",
     "evalue": "Boolean array expected for the condition, not object",
     "output_type": "error",
     "traceback": [
      "\u001b[1;31m---------------------------------------------------------------------------\u001b[0m",
      "\u001b[1;31mValueError\u001b[0m                                Traceback (most recent call last)",
      "\u001b[1;32m<ipython-input-33-09c075a6c7d5>\u001b[0m in \u001b[0;36m<module>\u001b[1;34m\u001b[0m\n\u001b[0;32m      1\u001b[0m \u001b[1;31m# Make a new DataFrame equal to the city data to drop all humidity outliers by index.\u001b[0m\u001b[1;33m\u001b[0m\u001b[1;33m\u001b[0m\u001b[1;33m\u001b[0m\u001b[0m\n\u001b[0;32m      2\u001b[0m \u001b[1;31m#condition= cities_df.loc[cities_df['Humidity'] < 100]\u001b[0m\u001b[1;33m\u001b[0m\u001b[1;33m\u001b[0m\u001b[1;33m\u001b[0m\u001b[0m\n\u001b[1;32m----> 3\u001b[1;33m \u001b[0mclean_cities_df\u001b[0m \u001b[1;33m=\u001b[0m \u001b[0mcities_df\u001b[0m\u001b[1;33m.\u001b[0m\u001b[0mwhere\u001b[0m\u001b[1;33m(\u001b[0m\u001b[0mcond\u001b[0m\u001b[1;33m=\u001b[0m\u001b[0mcities_df\u001b[0m\u001b[1;33m.\u001b[0m\u001b[0mloc\u001b[0m\u001b[1;33m[\u001b[0m\u001b[0mcities_df\u001b[0m\u001b[1;33m[\u001b[0m\u001b[1;34m'Humidity'\u001b[0m\u001b[1;33m]\u001b[0m \u001b[1;33m<\u001b[0m \u001b[1;36m100\u001b[0m\u001b[1;33m]\u001b[0m\u001b[1;33m,\u001b[0m\u001b[0minplace\u001b[0m\u001b[1;33m=\u001b[0m\u001b[1;32mFalse\u001b[0m\u001b[1;33m)\u001b[0m\u001b[1;33m\u001b[0m\u001b[1;33m\u001b[0m\u001b[0m\n\u001b[0m\u001b[0;32m      4\u001b[0m \u001b[1;31m# Passing \"inplace=False\" will make a copy of the city_data DataFrame, which we call \"clean_city_data\".\u001b[0m\u001b[1;33m\u001b[0m\u001b[1;33m\u001b[0m\u001b[1;33m\u001b[0m\u001b[0m\n\u001b[0;32m      5\u001b[0m \u001b[1;33m\u001b[0m\u001b[0m\n",
      "\u001b[1;32m~\\Anaconda2\\envs\\pythondata\\lib\\site-packages\\pandas\\core\\generic.py\u001b[0m in \u001b[0;36mwhere\u001b[1;34m(self, cond, other, inplace, axis, level, errors, try_cast)\u001b[0m\n\u001b[0;32m   8916\u001b[0m \u001b[1;33m\u001b[0m\u001b[0m\n\u001b[0;32m   8917\u001b[0m         \u001b[0mother\u001b[0m \u001b[1;33m=\u001b[0m \u001b[0mcom\u001b[0m\u001b[1;33m.\u001b[0m\u001b[0mapply_if_callable\u001b[0m\u001b[1;33m(\u001b[0m\u001b[0mother\u001b[0m\u001b[1;33m,\u001b[0m \u001b[0mself\u001b[0m\u001b[1;33m)\u001b[0m\u001b[1;33m\u001b[0m\u001b[1;33m\u001b[0m\u001b[0m\n\u001b[1;32m-> 8918\u001b[1;33m         return self._where(\n\u001b[0m\u001b[0;32m   8919\u001b[0m             \u001b[0mcond\u001b[0m\u001b[1;33m,\u001b[0m \u001b[0mother\u001b[0m\u001b[1;33m,\u001b[0m \u001b[0minplace\u001b[0m\u001b[1;33m,\u001b[0m \u001b[0maxis\u001b[0m\u001b[1;33m,\u001b[0m \u001b[0mlevel\u001b[0m\u001b[1;33m,\u001b[0m \u001b[0merrors\u001b[0m\u001b[1;33m=\u001b[0m\u001b[0merrors\u001b[0m\u001b[1;33m,\u001b[0m \u001b[0mtry_cast\u001b[0m\u001b[1;33m=\u001b[0m\u001b[0mtry_cast\u001b[0m\u001b[1;33m\u001b[0m\u001b[1;33m\u001b[0m\u001b[0m\n\u001b[0;32m   8920\u001b[0m         )\n",
      "\u001b[1;32m~\\Anaconda2\\envs\\pythondata\\lib\\site-packages\\pandas\\core\\generic.py\u001b[0m in \u001b[0;36m_where\u001b[1;34m(self, cond, other, inplace, axis, level, errors, try_cast)\u001b[0m\n\u001b[0;32m   8675\u001b[0m             \u001b[1;32mfor\u001b[0m \u001b[0mdt\u001b[0m \u001b[1;32min\u001b[0m \u001b[0mcond\u001b[0m\u001b[1;33m.\u001b[0m\u001b[0mdtypes\u001b[0m\u001b[1;33m:\u001b[0m\u001b[1;33m\u001b[0m\u001b[1;33m\u001b[0m\u001b[0m\n\u001b[0;32m   8676\u001b[0m                 \u001b[1;32mif\u001b[0m \u001b[1;32mnot\u001b[0m \u001b[0mis_bool_dtype\u001b[0m\u001b[1;33m(\u001b[0m\u001b[0mdt\u001b[0m\u001b[1;33m)\u001b[0m\u001b[1;33m:\u001b[0m\u001b[1;33m\u001b[0m\u001b[1;33m\u001b[0m\u001b[0m\n\u001b[1;32m-> 8677\u001b[1;33m                     \u001b[1;32mraise\u001b[0m \u001b[0mValueError\u001b[0m\u001b[1;33m(\u001b[0m\u001b[0mmsg\u001b[0m\u001b[1;33m.\u001b[0m\u001b[0mformat\u001b[0m\u001b[1;33m(\u001b[0m\u001b[0mdtype\u001b[0m\u001b[1;33m=\u001b[0m\u001b[0mdt\u001b[0m\u001b[1;33m)\u001b[0m\u001b[1;33m)\u001b[0m\u001b[1;33m\u001b[0m\u001b[1;33m\u001b[0m\u001b[0m\n\u001b[0m\u001b[0;32m   8678\u001b[0m \u001b[1;33m\u001b[0m\u001b[0m\n\u001b[0;32m   8679\u001b[0m         \u001b[0mcond\u001b[0m \u001b[1;33m=\u001b[0m \u001b[1;33m-\u001b[0m\u001b[0mcond\u001b[0m \u001b[1;32mif\u001b[0m \u001b[0minplace\u001b[0m \u001b[1;32melse\u001b[0m \u001b[0mcond\u001b[0m\u001b[1;33m\u001b[0m\u001b[1;33m\u001b[0m\u001b[0m\n",
      "\u001b[1;31mValueError\u001b[0m: Boolean array expected for the condition, not object"
     ]
    }
   ],
   "source": [
    "# Make a new DataFrame equal to the city data to drop all humidity outliers by index.\n",
    "#condition= cities_df.loc[cities_df['Humidity'] < 100]\n",
    "clean_cities_df = cities_df.where(cond=cities_df.loc[cities_df['Humidity'] < 100],inplace=False)\n",
    "# Passing \"inplace=False\" will make a copy of the city_data DataFrame, which we call \"clean_city_data\".\n",
    "\n",
    "\n",
    "#print(clean_city_data_df)\n",
    "print(clean_cities_df)"
   ]
  },
  {
   "cell_type": "code",
   "execution_count": 8,
   "metadata": {},
   "outputs": [],
   "source": [
    "# Extract relevant fields from the data frame\n",
    "\n",
    "\n",
    "# Export the City_Data into a csv\n",
    "clean_cities_df.to_csv(\"../output_data/clean_cities_data.csv\", index = False, header = True)"
   ]
  },
  {
   "cell_type": "markdown",
   "metadata": {},
   "source": [
    "## Plotting the Data\n",
    "* Use proper labeling of the plots using plot titles (including date of analysis) and axes labels.\n",
    "* Save the plotted figures as .pngs."
   ]
  },
  {
   "cell_type": "markdown",
   "metadata": {},
   "source": [
    "## Latitude vs. Temperature Plot"
   ]
  },
  {
   "cell_type": "code",
   "execution_count": null,
   "metadata": {
    "scrolled": true
   },
   "outputs": [],
   "source": []
  },
  {
   "cell_type": "markdown",
   "metadata": {},
   "source": [
    "## Latitude vs. Humidity Plot"
   ]
  },
  {
   "cell_type": "code",
   "execution_count": null,
   "metadata": {},
   "outputs": [],
   "source": []
  },
  {
   "cell_type": "markdown",
   "metadata": {},
   "source": [
    "## Latitude vs. Cloudiness Plot"
   ]
  },
  {
   "cell_type": "code",
   "execution_count": null,
   "metadata": {},
   "outputs": [],
   "source": []
  },
  {
   "cell_type": "markdown",
   "metadata": {},
   "source": [
    "## Latitude vs. Wind Speed Plot"
   ]
  },
  {
   "cell_type": "code",
   "execution_count": null,
   "metadata": {},
   "outputs": [],
   "source": []
  },
  {
   "cell_type": "markdown",
   "metadata": {},
   "source": [
    "## Linear Regression"
   ]
  },
  {
   "cell_type": "code",
   "execution_count": 9,
   "metadata": {},
   "outputs": [],
   "source": [
    "# OPTIONAL: Create a function to create Linear Regression plots"
   ]
  },
  {
   "cell_type": "code",
   "execution_count": 10,
   "metadata": {},
   "outputs": [],
   "source": [
    "# Create Northern and Southern Hemisphere DataFrames"
   ]
  },
  {
   "cell_type": "markdown",
   "metadata": {},
   "source": [
    "####  Northern Hemisphere - Max Temp vs. Latitude Linear Regression"
   ]
  },
  {
   "cell_type": "code",
   "execution_count": null,
   "metadata": {},
   "outputs": [],
   "source": []
  },
  {
   "cell_type": "markdown",
   "metadata": {},
   "source": [
    "####  Southern Hemisphere - Max Temp vs. Latitude Linear Regression"
   ]
  },
  {
   "cell_type": "code",
   "execution_count": null,
   "metadata": {},
   "outputs": [],
   "source": []
  },
  {
   "cell_type": "markdown",
   "metadata": {},
   "source": [
    "####  Northern Hemisphere - Humidity (%) vs. Latitude Linear Regression"
   ]
  },
  {
   "cell_type": "code",
   "execution_count": null,
   "metadata": {},
   "outputs": [],
   "source": []
  },
  {
   "cell_type": "markdown",
   "metadata": {},
   "source": [
    "####  Southern Hemisphere - Humidity (%) vs. Latitude Linear Regression"
   ]
  },
  {
   "cell_type": "code",
   "execution_count": null,
   "metadata": {},
   "outputs": [],
   "source": []
  },
  {
   "cell_type": "markdown",
   "metadata": {},
   "source": [
    "####  Northern Hemisphere - Cloudiness (%) vs. Latitude Linear Regression"
   ]
  },
  {
   "cell_type": "code",
   "execution_count": null,
   "metadata": {},
   "outputs": [],
   "source": []
  },
  {
   "cell_type": "markdown",
   "metadata": {},
   "source": [
    "####  Southern Hemisphere - Cloudiness (%) vs. Latitude Linear Regression"
   ]
  },
  {
   "cell_type": "code",
   "execution_count": null,
   "metadata": {},
   "outputs": [],
   "source": []
  },
  {
   "cell_type": "markdown",
   "metadata": {},
   "source": [
    "####  Northern Hemisphere - Wind Speed (mph) vs. Latitude Linear Regression"
   ]
  },
  {
   "cell_type": "code",
   "execution_count": null,
   "metadata": {},
   "outputs": [],
   "source": []
  },
  {
   "cell_type": "markdown",
   "metadata": {},
   "source": [
    "####  Southern Hemisphere - Wind Speed (mph) vs. Latitude Linear Regression"
   ]
  },
  {
   "cell_type": "code",
   "execution_count": null,
   "metadata": {},
   "outputs": [],
   "source": []
  },
  {
   "cell_type": "code",
   "execution_count": null,
   "metadata": {},
   "outputs": [],
   "source": []
  }
 ],
 "metadata": {
  "anaconda-cloud": {},
  "kernel_info": {
   "name": "python3"
  },
  "kernelspec": {
   "display_name": "Python [conda env:PythonData] *",
   "language": "python",
   "name": "conda-env-PythonData-py"
  },
  "language_info": {
   "codemirror_mode": {
    "name": "ipython",
    "version": 3
   },
   "file_extension": ".py",
   "mimetype": "text/x-python",
   "name": "python",
   "nbconvert_exporter": "python",
   "pygments_lexer": "ipython3",
   "version": "3.8.3"
  },
  "latex_envs": {
   "LaTeX_envs_menu_present": true,
   "autoclose": false,
   "autocomplete": true,
   "bibliofile": "biblio.bib",
   "cite_by": "apalike",
   "current_citInitial": 1,
   "eqLabelWithNumbers": true,
   "eqNumInitial": 1,
   "hotkeys": {
    "equation": "Ctrl-E",
    "itemize": "Ctrl-I"
   },
   "labels_anchors": false,
   "latex_user_defs": false,
   "report_style_numbering": false,
   "user_envs_cfg": false
  },
  "nteract": {
   "version": "0.12.3"
  }
 },
 "nbformat": 4,
 "nbformat_minor": 2
}
