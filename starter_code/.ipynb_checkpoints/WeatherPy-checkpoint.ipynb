{
 "cells": [
  {
   "cell_type": "markdown",
   "metadata": {},
   "source": [
    "# WeatherPy\n",
    "----\n",
    "\n",
    "#### Note\n",
    "* Instructions have been included for each segment. You do not have to follow them exactly, but they are included to help you think through the steps."
   ]
  },
  {
   "cell_type": "code",
   "execution_count": 1,
   "metadata": {
    "scrolled": true
   },
   "outputs": [],
   "source": [
    "# Dependencies and Setup\n",
    "import matplotlib.pyplot as plt\n",
    "import pandas as pd\n",
    "import numpy as np\n",
    "import requests\n",
    "import time\n",
    "from scipy.stats import linregress\n",
    "\n",
    "# Import API key\n",
    "from api_keys import weather_api_key\n",
    "\n",
    "# Incorporated citipy to determine city based on latitude and longitude\n",
    "from citipy import citipy\n",
    "\n",
    "# Output File (CSV)\n",
    "output_data_file = \"output_data/cities.csv\"\n",
    "\n",
    "# Range of latitudes and longitudes\n",
    "lat_range = (-90, 90)\n",
    "lng_range = (-180, 180)"
   ]
  },
  {
   "cell_type": "markdown",
   "metadata": {},
   "source": [
    "## Generate Cities List"
   ]
  },
  {
   "cell_type": "code",
   "execution_count": 2,
   "metadata": {},
   "outputs": [
    {
     "data": {
      "text/plain": [
       "['vao',\n",
       " 'peabiru',\n",
       " 'mys shmidta',\n",
       " 'taoudenni',\n",
       " 'hasaki',\n",
       " 'mizdah',\n",
       " 'karratha',\n",
       " 'bluff',\n",
       " 'yellowknife',\n",
       " 'san cristobal',\n",
       " 'general roca',\n",
       " 'arraial do cabo',\n",
       " 'teguldet',\n",
       " 'katobu',\n",
       " 'togul',\n",
       " 'balkhash',\n",
       " 'bethel',\n",
       " 'port alfred',\n",
       " 'lac du bonnet',\n",
       " 'henties bay',\n",
       " 'bojnurd',\n",
       " 'port elizabeth',\n",
       " 'saskylakh',\n",
       " 'clyde river',\n",
       " 'albany',\n",
       " 'orchard homes',\n",
       " 'vaini',\n",
       " 'matay',\n",
       " 'nelson bay',\n",
       " 'celestun',\n",
       " 'barentsburg',\n",
       " 'belushya guba',\n",
       " 'faanui',\n",
       " 'san antonio',\n",
       " 'puerto ayora',\n",
       " 'bengkulu',\n",
       " 'saint-philippe',\n",
       " 'codrington',\n",
       " 'kapaa',\n",
       " 'punta arenas',\n",
       " 'la macarena',\n",
       " 'jalu',\n",
       " 'college',\n",
       " 'jyvaskyla',\n",
       " 'saint-pierre',\n",
       " 'east london',\n",
       " 'gizo',\n",
       " 'tasiilaq',\n",
       " 'tuktoyaktuk',\n",
       " 'sharjah',\n",
       " 'san quintin',\n",
       " 'ushuaia',\n",
       " 'amga',\n",
       " 'broome',\n",
       " 'hobart',\n",
       " 'severo-kurilsk',\n",
       " 'atuona',\n",
       " 'hilo',\n",
       " 'bambous virieux',\n",
       " 'ust-kamchatsk',\n",
       " 'hovd',\n",
       " 'touros',\n",
       " 'mao',\n",
       " 'ribeira grande',\n",
       " 'cape town',\n",
       " 'sarh',\n",
       " 'abha',\n",
       " 'manggar',\n",
       " 'arlit',\n",
       " 'gainesville',\n",
       " 'pedro juan caballero',\n",
       " 'rikitea',\n",
       " 'new norfolk',\n",
       " 'suntar',\n",
       " 'sahbuz',\n",
       " 'adrar',\n",
       " 'airai',\n",
       " 'butaritari',\n",
       " 'dongsheng',\n",
       " 'bredasdorp',\n",
       " 'georgetown',\n",
       " 'plavsk',\n",
       " 'saleaula',\n",
       " 'mahebourg',\n",
       " 'taolanaro']"
      ]
     },
     "execution_count": 2,
     "metadata": {},
     "output_type": "execute_result"
    }
   ],
   "source": [
    "#________________starer code_____________________________________#\n",
    "# List for holding lat_lngs and cities\n",
    "lat_lngs = []\n",
    "cities = []\n",
    "\n",
    "# Create a set of random lat and lng combinations\n",
    "lats = np.random.uniform(lat_range[0], lat_range[1], size=100) #changed to 15 from 1500 for testing\n",
    "lngs = np.random.uniform(lng_range[0], lng_range[1], size=100) #changed to 15 from 1500 for testing\n",
    "lat_lngs = zip(lats, lngs)\n",
    "\n",
    "# Identify nearest city for each lat, lng combination\n",
    "for lat_lng in lat_lngs:\n",
    "    city = citipy.nearest_city(lat_lng[0], lat_lng[1]).city_name\n",
    "    \n",
    "    # If the city is unique, then add it to a our cities list\n",
    "    if city not in cities:\n",
    "        cities.append(city)\n",
    "\n",
    "# Print the city count to confirm sufficient count\n",
    "len(cities)\n",
    "#_________________________end starter code______________________________________#\n",
    "\n",
    "cities"
   ]
  },
  {
   "cell_type": "markdown",
   "metadata": {},
   "source": [
    "### Perform API Calls\n",
    "* Perform a weather check on each city using a series of successive API calls.\n",
    "* Include a print log of each city as it'sbeing processed (with the city number and city name).\n"
   ]
  },
  {
   "cell_type": "code",
   "execution_count": 7,
   "metadata": {},
   "outputs": [
    {
     "name": "stdout",
     "output_type": "stream",
     "text": [
      "Processing Record 1 of set 1 for City: vao\n",
      "Processing Record 2 of set 1 for City: peabiru\n",
      "Processing Record 3 of set 1 for City: mys shmidta\n",
      "Processing Record 4 of set 1 for City: taoudenni\n",
      "Processing Record 5 of set 1 for City: hasaki\n",
      "Processing Record 6 of set 1 for City: mizdah\n",
      "Processing Record 7 of set 1 for City: karratha\n",
      "Processing Record 8 of set 1 for City: bluff\n",
      "Processing Record 9 of set 1 for City: yellowknife\n",
      "Processing Record 10 of set 1 for City: san cristobal\n",
      "Processing Record 11 of set 1 for City: general roca\n",
      "Processing Record 12 of set 1 for City: arraial do cabo\n",
      "Processing Record 13 of set 1 for City: teguldet\n",
      "Processing Record 14 of set 1 for City: katobu\n",
      "Processing Record 15 of set 1 for City: togul\n",
      "Processing Record 16 of set 1 for City: balkhash\n",
      "Processing Record 17 of set 1 for City: bethel\n",
      "Processing Record 18 of set 1 for City: port alfred\n",
      "Processing Record 19 of set 1 for City: lac du bonnet\n",
      "Processing Record 20 of set 1 for City: henties bay\n",
      "Processing Record 21 of set 1 for City: bojnurd\n",
      "Processing Record 22 of set 1 for City: port elizabeth\n",
      "Processing Record 23 of set 1 for City: saskylakh\n",
      "Processing Record 24 of set 1 for City: clyde river\n",
      "Processing Record 25 of set 1 for City: albany\n",
      "Processing Record 26 of set 1 for City: orchard homes\n",
      "Processing Record 27 of set 1 for City: vaini\n",
      "Processing Record 28 of set 1 for City: matay\n",
      "Processing Record 29 of set 1 for City: nelson bay\n",
      "Processing Record 30 of set 1 for City: celestun\n",
      "Processing Record 31 of set 1 for City: barentsburg\n",
      "Processing Record 32 of set 1 for City: belushya guba\n",
      "Processing Record 33 of set 1 for City: faanui\n",
      "Processing Record 34 of set 1 for City: san antonio\n",
      "Processing Record 35 of set 1 for City: puerto ayora\n",
      "Processing Record 36 of set 1 for City: bengkulu\n",
      "Processing Record 37 of set 1 for City: saint-philippe\n",
      "Processing Record 38 of set 1 for City: codrington\n",
      "Processing Record 39 of set 1 for City: kapaa\n",
      "Processing Record 40 of set 1 for City: punta arenas\n",
      "Processing Record 41 of set 1 for City: la macarena\n",
      "Processing Record 42 of set 1 for City: jalu\n",
      "Processing Record 43 of set 1 for City: college\n",
      "Processing Record 44 of set 1 for City: jyvaskyla\n",
      "Processing Record 45 of set 1 for City: saint-pierre\n",
      "Processing Record 46 of set 1 for City: east london\n",
      "Processing Record 47 of set 1 for City: gizo\n",
      "Processing Record 48 of set 1 for City: tasiilaq\n",
      "Processing Record 49 of set 1 for City: tuktoyaktuk\n",
      "Processing Record 50 of set 1 for City: sharjah\n",
      "Processing Record 51 of set 1 for City: san quintin\n",
      "Processing Record 52 of set 1 for City: ushuaia\n",
      "Processing Record 53 of set 1 for City: amga\n",
      "Processing Record 54 of set 1 for City: broome\n",
      "Processing Record 55 of set 1 for City: hobart\n",
      "Processing Record 56 of set 1 for City: severo-kurilsk\n",
      "Processing Record 57 of set 1 for City: atuona\n",
      "Processing Record 58 of set 1 for City: hilo\n",
      "Processing Record 59 of set 1 for City: bambous virieux\n",
      "Processing Record 60 of set 1 for City: ust-kamchatsk\n",
      "Processing Record 61 of set 1 for City: hovd\n",
      "Processing Record 62 of set 1 for City: touros\n",
      "Processing Record 63 of set 1 for City: mao\n",
      "Processing Record 64 of set 1 for City: ribeira grande\n",
      "Processing Record 65 of set 1 for City: cape town\n",
      "Processing Record 66 of set 1 for City: sarh\n",
      "Processing Record 67 of set 1 for City: abha\n",
      "Processing Record 68 of set 1 for City: manggar\n",
      "Processing Record 69 of set 1 for City: arlit\n",
      "Processing Record 70 of set 1 for City: gainesville\n",
      "Processing Record 71 of set 1 for City: pedro juan caballero\n",
      "Processing Record 72 of set 1 for City: rikitea\n",
      "Processing Record 73 of set 1 for City: new norfolk\n",
      "Processing Record 74 of set 1 for City: suntar\n",
      "Processing Record 75 of set 1 for City: sahbuz\n",
      "Processing Record 76 of set 1 for City: adrar\n",
      "Processing Record 77 of set 1 for City: airai\n",
      "Processing Record 78 of set 1 for City: butaritari\n",
      "Processing Record 79 of set 1 for City: dongsheng\n",
      "Processing Record 80 of set 1 for City: bredasdorp\n",
      "Processing Record 81 of set 1 for City: georgetown\n",
      "Processing Record 82 of set 1 for City: plavsk\n",
      "Processing Record 83 of set 1 for City: saleaula\n",
      "Processing Record 84 of set 1 for City: mahebourg\n",
      "Processing Record 85 of set 1 for City: taolanaro\n",
      "<bound method Response.json of <Response [404]>>\n"
     ]
    }
   ],
   "source": [
    "#set up api/ create URL\n",
    "import json\n",
    "\n",
    "#target each citi in list \"cities\" found above\n",
    "url = \"http://api.openweathermap.org/data/2.5/weather?\"\n",
    "\n",
    "#build query url and exception\n",
    "record_number = 0\n",
    "count = 1\n",
    "batch = 0\n",
    "\n",
    "for i, x  in enumerate(cities):\n",
    "    \n",
    "    if count >= 50:\n",
    "        batch += 1\n",
    "        count = 0\n",
    "    record_number += 1\n",
    "    try:\n",
    "        query_url = url + \"appid=\" + weather_api_key + \"&q=\" + x\n",
    "        print(f'Processing Record {record_number} of set {count} for City: {x}')\n",
    "        cities_response = requests.get(query_url).json\n",
    "        \n",
    "    except KeyError:\n",
    "        print(f'No information found for city: {city}')\n",
    "        \n",
    "print(cities_response)"
   ]
  },
  {
   "cell_type": "markdown",
   "metadata": {},
   "source": [
    "### Convert Raw Data to DataFrame\n",
    "* Export the city data into a .csv.\n",
    "* Display the DataFrame"
   ]
  },
  {
   "cell_type": "code",
   "execution_count": null,
   "metadata": {},
   "outputs": [],
   "source": [
    "cities_dict = {\"Cities\" : cities}\n",
    "cities_df = pd.DataFrame(cities_dict)\n",
    "cities_df"
   ]
  },
  {
   "cell_type": "code",
   "execution_count": null,
   "metadata": {},
   "outputs": [],
   "source": []
  },
  {
   "cell_type": "markdown",
   "metadata": {},
   "source": [
    "## Inspect the data and remove the cities where the humidity > 100%.\n",
    "----\n",
    "Skip this step if there are no cities that have humidity > 100%. "
   ]
  },
  {
   "cell_type": "code",
   "execution_count": null,
   "metadata": {},
   "outputs": [],
   "source": []
  },
  {
   "cell_type": "code",
   "execution_count": null,
   "metadata": {},
   "outputs": [],
   "source": [
    "#  Get the indices of cities that have humidity over 100%.\n"
   ]
  },
  {
   "cell_type": "code",
   "execution_count": null,
   "metadata": {},
   "outputs": [],
   "source": [
    "# Make a new DataFrame equal to the city data to drop all humidity outliers by index.\n",
    "# Passing \"inplace=False\" will make a copy of the city_data DataFrame, which we call \"clean_city_data\".\n"
   ]
  },
  {
   "cell_type": "code",
   "execution_count": null,
   "metadata": {},
   "outputs": [],
   "source": [
    "# Extract relevant fields from the data frame\n",
    "\n",
    "\n",
    "# Export the City_Data into a csv\n"
   ]
  },
  {
   "cell_type": "markdown",
   "metadata": {},
   "source": [
    "## Plotting the Data\n",
    "* Use proper labeling of the plots using plot titles (including date of analysis) and axes labels.\n",
    "* Save the plotted figures as .pngs."
   ]
  },
  {
   "cell_type": "markdown",
   "metadata": {},
   "source": [
    "## Latitude vs. Temperature Plot"
   ]
  },
  {
   "cell_type": "code",
   "execution_count": null,
   "metadata": {
    "scrolled": true
   },
   "outputs": [],
   "source": []
  },
  {
   "cell_type": "markdown",
   "metadata": {},
   "source": [
    "## Latitude vs. Humidity Plot"
   ]
  },
  {
   "cell_type": "code",
   "execution_count": null,
   "metadata": {},
   "outputs": [],
   "source": []
  },
  {
   "cell_type": "markdown",
   "metadata": {},
   "source": [
    "## Latitude vs. Cloudiness Plot"
   ]
  },
  {
   "cell_type": "code",
   "execution_count": null,
   "metadata": {},
   "outputs": [],
   "source": []
  },
  {
   "cell_type": "markdown",
   "metadata": {},
   "source": [
    "## Latitude vs. Wind Speed Plot"
   ]
  },
  {
   "cell_type": "code",
   "execution_count": null,
   "metadata": {},
   "outputs": [],
   "source": []
  },
  {
   "cell_type": "markdown",
   "metadata": {},
   "source": [
    "## Linear Regression"
   ]
  },
  {
   "cell_type": "code",
   "execution_count": null,
   "metadata": {},
   "outputs": [],
   "source": [
    "# OPTIONAL: Create a function to create Linear Regression plots"
   ]
  },
  {
   "cell_type": "code",
   "execution_count": null,
   "metadata": {},
   "outputs": [],
   "source": [
    "# Create Northern and Southern Hemisphere DataFrames"
   ]
  },
  {
   "cell_type": "markdown",
   "metadata": {},
   "source": [
    "####  Northern Hemisphere - Max Temp vs. Latitude Linear Regression"
   ]
  },
  {
   "cell_type": "code",
   "execution_count": null,
   "metadata": {},
   "outputs": [],
   "source": []
  },
  {
   "cell_type": "markdown",
   "metadata": {},
   "source": [
    "####  Southern Hemisphere - Max Temp vs. Latitude Linear Regression"
   ]
  },
  {
   "cell_type": "code",
   "execution_count": null,
   "metadata": {},
   "outputs": [],
   "source": []
  },
  {
   "cell_type": "markdown",
   "metadata": {},
   "source": [
    "####  Northern Hemisphere - Humidity (%) vs. Latitude Linear Regression"
   ]
  },
  {
   "cell_type": "code",
   "execution_count": null,
   "metadata": {},
   "outputs": [],
   "source": []
  },
  {
   "cell_type": "markdown",
   "metadata": {},
   "source": [
    "####  Southern Hemisphere - Humidity (%) vs. Latitude Linear Regression"
   ]
  },
  {
   "cell_type": "code",
   "execution_count": null,
   "metadata": {},
   "outputs": [],
   "source": []
  },
  {
   "cell_type": "markdown",
   "metadata": {},
   "source": [
    "####  Northern Hemisphere - Cloudiness (%) vs. Latitude Linear Regression"
   ]
  },
  {
   "cell_type": "code",
   "execution_count": null,
   "metadata": {},
   "outputs": [],
   "source": []
  },
  {
   "cell_type": "markdown",
   "metadata": {},
   "source": [
    "####  Southern Hemisphere - Cloudiness (%) vs. Latitude Linear Regression"
   ]
  },
  {
   "cell_type": "code",
   "execution_count": null,
   "metadata": {},
   "outputs": [],
   "source": []
  },
  {
   "cell_type": "markdown",
   "metadata": {},
   "source": [
    "####  Northern Hemisphere - Wind Speed (mph) vs. Latitude Linear Regression"
   ]
  },
  {
   "cell_type": "code",
   "execution_count": null,
   "metadata": {},
   "outputs": [],
   "source": []
  },
  {
   "cell_type": "markdown",
   "metadata": {},
   "source": [
    "####  Southern Hemisphere - Wind Speed (mph) vs. Latitude Linear Regression"
   ]
  },
  {
   "cell_type": "code",
   "execution_count": null,
   "metadata": {},
   "outputs": [],
   "source": []
  },
  {
   "cell_type": "code",
   "execution_count": null,
   "metadata": {},
   "outputs": [],
   "source": []
  }
 ],
 "metadata": {
  "anaconda-cloud": {},
  "kernel_info": {
   "name": "python3"
  },
  "kernelspec": {
   "display_name": "Python [conda env:PythonData] *",
   "language": "python",
   "name": "conda-env-PythonData-py"
  },
  "language_info": {
   "codemirror_mode": {
    "name": "ipython",
    "version": 3
   },
   "file_extension": ".py",
   "mimetype": "text/x-python",
   "name": "python",
   "nbconvert_exporter": "python",
   "pygments_lexer": "ipython3",
   "version": "3.8.3"
  },
  "latex_envs": {
   "LaTeX_envs_menu_present": true,
   "autoclose": false,
   "autocomplete": true,
   "bibliofile": "biblio.bib",
   "cite_by": "apalike",
   "current_citInitial": 1,
   "eqLabelWithNumbers": true,
   "eqNumInitial": 1,
   "hotkeys": {
    "equation": "Ctrl-E",
    "itemize": "Ctrl-I"
   },
   "labels_anchors": false,
   "latex_user_defs": false,
   "report_style_numbering": false,
   "user_envs_cfg": false
  },
  "nteract": {
   "version": "0.12.3"
  }
 },
 "nbformat": 4,
 "nbformat_minor": 2
}
