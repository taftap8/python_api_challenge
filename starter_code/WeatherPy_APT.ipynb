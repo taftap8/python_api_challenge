{
 "cells": [
  {
   "cell_type": "markdown",
   "metadata": {},
   "source": [
    "# WeatherPy\n",
    "----\n",
    "\n",
    "#### Note\n",
    "* Instructions have been included for each segment. You do not have to follow them exactly, but they are included to help you think through the steps."
   ]
  },
  {
   "cell_type": "code",
   "execution_count": 1,
   "metadata": {
    "scrolled": true
   },
   "outputs": [],
   "source": [
    "# Dependencies and Setup\n",
    "import matplotlib.pyplot as plt\n",
    "import pandas as pd\n",
    "import numpy as np\n",
    "import requests\n",
    "import time\n",
    "from scipy.stats import linregress\n",
    "from pprint import pprint\n",
    "\n",
    "# Import API key\n",
    "from api_keys import weather_api_key\n",
    "\n",
    "# Incorporated citipy to determine city based on latitude and longitude\n",
    "from citipy import citipy\n",
    "\n",
    "# Output File (CSV)\n",
    "output_data_file = \"output_data/cities.csv\"\n",
    "\n",
    "# Range of latitudes and longitudes\n",
    "lat_range = (-90, 90)\n",
    "lng_range = (-180, 180)\n"
   ]
  },
  {
   "cell_type": "markdown",
   "metadata": {},
   "source": [
    "## Generate Cities List"
   ]
  },
  {
   "cell_type": "code",
   "execution_count": 2,
   "metadata": {},
   "outputs": [
    {
     "data": {
      "text/plain": [
       "617"
      ]
     },
     "execution_count": 2,
     "metadata": {},
     "output_type": "execute_result"
    }
   ],
   "source": [
    "#________________starer code_____________________________________#\n",
    "# List for holding lat_lngs and cities\n",
    "lat_lngs = []\n",
    "cities = []\n",
    "\n",
    "# Create a set of random lat and lng combinations\n",
    "lats = np.random.uniform(lat_range[0], lat_range[1], size=1500) #changed to 15 from 1500 for testing\n",
    "lngs = np.random.uniform(lng_range[0], lng_range[1], size=1500) #changed to 15 from 1500 for testing\n",
    "lat_lngs = zip(lats, lngs)\n",
    "\n",
    "# Identify nearest city for each lat, lng combination\n",
    "for lat_lng in lat_lngs:\n",
    "    city = citipy.nearest_city(lat_lng[0], lat_lng[1]).city_name\n",
    "    \n",
    "    # If the city is unique, then add it to a our cities list\n",
    "    if city not in cities:\n",
    "        cities.append(city)\n",
    "\n",
    "# Print the city count to confirm sufficient count\n",
    "len(cities)\n",
    "#_________________________end starter code______________________________________#\n"
   ]
  },
  {
   "cell_type": "markdown",
   "metadata": {},
   "source": [
    "### Perform API Calls\n",
    "* Perform a weather check on each city using a series of successive API calls.\n",
    "* Include a print log of each city as it'sbeing processed (with the city number and city name).\n"
   ]
  },
  {
   "cell_type": "code",
   "execution_count": 3,
   "metadata": {},
   "outputs": [
    {
     "name": "stdout",
     "output_type": "stream",
     "text": [
      "Processing Record 1 of set 1 for City: mar del plata\n",
      "Processing Record 2 of set 1 for City: aplahoue\n",
      "Processing Record 3 of set 1 for City: mecca\n",
      "Processing Record 4 of set 1 for City: belushya guba\n",
      "No information found for city: belushya guba\n",
      "Processing Record 5 of set 1 for City: san cristobal\n",
      "Processing Record 6 of set 1 for City: pokaran\n",
      "Processing Record 7 of set 1 for City: cape town\n",
      "Processing Record 8 of set 1 for City: limbang\n",
      "Processing Record 9 of set 1 for City: hobart\n",
      "Processing Record 10 of set 1 for City: ngunguru\n",
      "Processing Record 11 of set 1 for City: xuddur\n",
      "Processing Record 12 of set 1 for City: albany\n",
      "Processing Record 13 of set 1 for City: yakeshi\n",
      "Processing Record 14 of set 1 for City: barrow\n",
      "Processing Record 15 of set 1 for City: bluff\n",
      "Processing Record 16 of set 1 for City: dikson\n",
      "Processing Record 17 of set 1 for City: vila do maio\n",
      "Processing Record 18 of set 1 for City: carballo\n",
      "Processing Record 19 of set 1 for City: mitsamiouli\n",
      "Processing Record 20 of set 1 for City: kapaa\n",
      "Processing Record 21 of set 1 for City: taolanaro\n",
      "No information found for city: taolanaro\n",
      "Processing Record 22 of set 1 for City: buritis\n",
      "Processing Record 23 of set 1 for City: hilo\n",
      "Processing Record 24 of set 1 for City: grand river south east\n",
      "No information found for city: grand river south east\n",
      "Processing Record 25 of set 1 for City: kodiak\n",
      "Processing Record 26 of set 1 for City: asau\n",
      "Processing Record 27 of set 1 for City: ushuaia\n",
      "Processing Record 28 of set 1 for City: saint-francois\n",
      "Processing Record 29 of set 1 for City: dukat\n",
      "Processing Record 30 of set 1 for City: sept-iles\n",
      "Processing Record 31 of set 1 for City: tiksi\n",
      "Processing Record 32 of set 1 for City: evensk\n",
      "Processing Record 33 of set 1 for City: hermanus\n",
      "Processing Record 34 of set 1 for City: saleaula\n",
      "No information found for city: saleaula\n",
      "Processing Record 35 of set 1 for City: cabedelo\n",
      "Processing Record 36 of set 1 for City: rio bonito\n",
      "Processing Record 37 of set 1 for City: naantali\n",
      "Processing Record 38 of set 1 for City: east london\n",
      "Processing Record 39 of set 1 for City: avarua\n",
      "Processing Record 40 of set 1 for City: leh\n",
      "Processing Record 41 of set 1 for City: kruisfontein\n",
      "Processing Record 42 of set 1 for City: punta arenas\n",
      "Processing Record 43 of set 1 for City: yellowknife\n",
      "Processing Record 44 of set 1 for City: geraldton\n",
      "Processing Record 45 of set 1 for City: marawi\n",
      "Processing Record 46 of set 1 for City: port lincoln\n",
      "Processing Record 47 of set 1 for City: sitges\n",
      "Processing Record 48 of set 1 for City: atuona\n",
      "Processing Record 49 of set 1 for City: gomel\n",
      "Processing Record 50 of set 1 for City: souillac\n",
      "Processing Record 51 of set 2 for City: kushmurun\n",
      "Processing Record 52 of set 2 for City: sambava\n",
      "Processing Record 53 of set 2 for City: pevek\n",
      "Processing Record 54 of set 2 for City: port hedland\n",
      "Processing Record 55 of set 2 for City: sandovo\n",
      "Processing Record 56 of set 2 for City: port elizabeth\n",
      "Processing Record 57 of set 2 for City: pedernales\n",
      "Processing Record 58 of set 2 for City: yulara\n",
      "Processing Record 59 of set 2 for City: mataura\n",
      "Processing Record 60 of set 2 for City: luganville\n",
      "Processing Record 61 of set 2 for City: christchurch\n",
      "Processing Record 62 of set 2 for City: lagoa\n",
      "Processing Record 63 of set 2 for City: rio gallegos\n",
      "Processing Record 64 of set 2 for City: barentsburg\n",
      "No information found for city: barentsburg\n",
      "Processing Record 65 of set 2 for City: avera\n",
      "Processing Record 66 of set 2 for City: brae\n",
      "Processing Record 67 of set 2 for City: busselton\n",
      "Processing Record 68 of set 2 for City: rikitea\n",
      "Processing Record 69 of set 2 for City: horizontina\n",
      "Processing Record 70 of set 2 for City: davila\n",
      "Processing Record 71 of set 2 for City: boende\n",
      "Processing Record 72 of set 2 for City: ribeira grande\n",
      "Processing Record 73 of set 2 for City: hobyo\n",
      "Processing Record 74 of set 2 for City: noumea\n",
      "Processing Record 75 of set 2 for City: swellendam\n",
      "Processing Record 76 of set 2 for City: georgetown\n",
      "Processing Record 77 of set 2 for City: virginia beach\n",
      "Processing Record 78 of set 2 for City: karratha\n",
      "Processing Record 79 of set 2 for City: general roca\n",
      "Processing Record 80 of set 2 for City: kasongo-lunda\n",
      "Processing Record 81 of set 2 for City: dunedin\n",
      "Processing Record 82 of set 2 for City: boa vista\n",
      "Processing Record 83 of set 2 for City: khatanga\n",
      "Processing Record 84 of set 2 for City: carberry\n",
      "Processing Record 85 of set 2 for City: cidreira\n",
      "Processing Record 86 of set 2 for City: nizhneyansk\n",
      "No information found for city: nizhneyansk\n",
      "Processing Record 87 of set 2 for City: tilichiki\n",
      "Processing Record 88 of set 2 for City: quatre cocos\n",
      "Processing Record 89 of set 2 for City: kiunga\n",
      "Processing Record 90 of set 2 for City: dongsheng\n",
      "Processing Record 91 of set 2 for City: manavalakurichi\n",
      "Processing Record 92 of set 2 for City: bima\n",
      "Processing Record 93 of set 2 for City: fortuna\n",
      "Processing Record 94 of set 2 for City: upernavik\n",
      "Processing Record 95 of set 2 for City: harper\n",
      "Processing Record 96 of set 2 for City: butaritari\n",
      "Processing Record 97 of set 2 for City: klaksvik\n",
      "Processing Record 98 of set 2 for City: yumen\n",
      "Processing Record 99 of set 2 for City: esperance\n",
      "Processing Record 100 of set 2 for City: castro\n",
      "Processing Record 101 of set 2 for City: katsuura\n",
      "Processing Record 102 of set 2 for City: jamestown\n",
      "Processing Record 103 of set 3 for City: biak\n",
      "Processing Record 104 of set 3 for City: vaini\n",
      "Processing Record 105 of set 3 for City: pathein\n",
      "Processing Record 106 of set 3 for City: ruyigi\n",
      "Processing Record 107 of set 3 for City: clyde river\n",
      "Processing Record 108 of set 3 for City: tasiilaq\n",
      "Processing Record 109 of set 3 for City: bredasdorp\n",
      "Processing Record 110 of set 3 for City: arraial do cabo\n",
      "Processing Record 111 of set 3 for City: puerto ayora\n",
      "Processing Record 112 of set 3 for City: sauda\n",
      "Processing Record 113 of set 3 for City: cabungan\n",
      "Processing Record 114 of set 3 for City: anchorage\n",
      "Processing Record 115 of set 3 for City: fukue\n",
      "Processing Record 116 of set 3 for City: san patricio\n",
      "Processing Record 117 of set 3 for City: sabang\n",
      "Processing Record 118 of set 3 for City: buala\n",
      "Processing Record 119 of set 3 for City: mackay\n",
      "Processing Record 120 of set 3 for City: kaitangata\n",
      "Processing Record 121 of set 3 for City: deputatskiy\n",
      "Processing Record 122 of set 3 for City: mayo\n",
      "Processing Record 123 of set 3 for City: tuatapere\n",
      "Processing Record 124 of set 3 for City: illoqqortoormiut\n",
      "No information found for city: illoqqortoormiut\n",
      "Processing Record 125 of set 3 for City: mogadishu\n",
      "Processing Record 126 of set 3 for City: provideniya\n",
      "Processing Record 127 of set 3 for City: qaqortoq\n",
      "Processing Record 128 of set 3 for City: la ronge\n",
      "Processing Record 129 of set 3 for City: mingshui\n",
      "Processing Record 130 of set 3 for City: hithadhoo\n",
      "Processing Record 131 of set 3 for City: sorong\n",
      "Processing Record 132 of set 3 for City: torbay\n",
      "Processing Record 133 of set 3 for City: chuy\n",
      "Processing Record 134 of set 3 for City: new norfolk\n",
      "Processing Record 135 of set 3 for City: hun\n",
      "Processing Record 136 of set 3 for City: melchor de mencos\n",
      "Processing Record 137 of set 3 for City: toliary\n",
      "No information found for city: toliary\n",
      "Processing Record 138 of set 3 for City: cabo san lucas\n",
      "Processing Record 139 of set 3 for City: ola\n",
      "Processing Record 140 of set 3 for City: saskylakh\n",
      "Processing Record 141 of set 3 for City: rumoi\n",
      "Processing Record 142 of set 3 for City: salina\n",
      "Processing Record 143 of set 3 for City: katherine\n",
      "Processing Record 144 of set 3 for City: burica\n",
      "No information found for city: burica\n",
      "Processing Record 145 of set 3 for City: abu samrah\n",
      "Processing Record 146 of set 3 for City: villarrica\n",
      "Processing Record 147 of set 3 for City: mirzapur\n",
      "Processing Record 148 of set 3 for City: margate\n",
      "Processing Record 149 of set 3 for City: turtas\n",
      "Processing Record 150 of set 3 for City: aklavik\n",
      "Processing Record 151 of set 3 for City: qaanaaq\n",
      "Processing Record 152 of set 3 for City: port alfred\n",
      "Processing Record 153 of set 3 for City: vilyuysk\n",
      "Processing Record 154 of set 3 for City: channel-port aux basques\n",
      "Processing Record 155 of set 4 for City: moundsville\n",
      "Processing Record 156 of set 4 for City: carnarvon\n",
      "Processing Record 157 of set 4 for City: gravelbourg\n",
      "Processing Record 158 of set 4 for City: shache\n"
     ]
    },
    {
     "name": "stdout",
     "output_type": "stream",
     "text": [
      "Processing Record 159 of set 4 for City: vohibinany\n",
      "Processing Record 160 of set 4 for City: sao filipe\n",
      "Processing Record 161 of set 4 for City: dillon\n",
      "Processing Record 162 of set 4 for City: maketu\n",
      "Processing Record 163 of set 4 for City: mancio lima\n",
      "Processing Record 164 of set 4 for City: adre\n",
      "Processing Record 165 of set 4 for City: grand-santi\n",
      "Processing Record 166 of set 4 for City: samusu\n",
      "No information found for city: samusu\n",
      "Processing Record 167 of set 4 for City: songea\n",
      "Processing Record 168 of set 4 for City: padang\n",
      "Processing Record 169 of set 4 for City: halifax\n",
      "Processing Record 170 of set 4 for City: lebu\n",
      "Processing Record 171 of set 4 for City: russell\n",
      "Processing Record 172 of set 4 for City: codrington\n",
      "Processing Record 173 of set 4 for City: roma\n",
      "Processing Record 174 of set 4 for City: mount gambier\n",
      "Processing Record 175 of set 4 for City: chapais\n",
      "Processing Record 176 of set 4 for City: petropavlovka\n",
      "Processing Record 177 of set 4 for City: amderma\n",
      "No information found for city: amderma\n",
      "Processing Record 178 of set 4 for City: pisco\n",
      "Processing Record 179 of set 4 for City: mersing\n",
      "Processing Record 180 of set 4 for City: kyrylivka\n",
      "Processing Record 181 of set 4 for City: bredy\n",
      "Processing Record 182 of set 4 for City: srivardhan\n",
      "Processing Record 183 of set 4 for City: samarai\n",
      "Processing Record 184 of set 4 for City: ous\n",
      "Processing Record 185 of set 4 for City: norman wells\n",
      "Processing Record 186 of set 4 for City: karaul\n",
      "No information found for city: karaul\n",
      "Processing Record 187 of set 4 for City: raudeberg\n",
      "Processing Record 188 of set 4 for City: santa isabel do rio negro\n",
      "Processing Record 189 of set 4 for City: poum\n",
      "Processing Record 190 of set 4 for City: prado\n",
      "Processing Record 191 of set 4 for City: mys shmidta\n",
      "No information found for city: mys shmidta\n",
      "Processing Record 192 of set 4 for City: tiruchchendur\n",
      "Processing Record 193 of set 4 for City: odweyne\n",
      "Processing Record 194 of set 4 for City: tonantins\n",
      "Processing Record 195 of set 4 for City: shingu\n",
      "Processing Record 196 of set 4 for City: hasaki\n",
      "Processing Record 197 of set 4 for City: barnstaple\n",
      "Processing Record 198 of set 4 for City: nikolskoye\n",
      "Processing Record 199 of set 4 for City: broome\n",
      "Processing Record 200 of set 4 for City: arawa\n",
      "Processing Record 201 of set 4 for City: sinaloa\n",
      "Processing Record 202 of set 4 for City: dong xoai\n",
      "Processing Record 203 of set 4 for City: porangatu\n",
      "Processing Record 204 of set 4 for City: vagur\n",
      "Processing Record 205 of set 4 for City: clocolan\n",
      "Processing Record 206 of set 4 for City: ponta do sol\n",
      "Processing Record 207 of set 5 for City: bubaque\n",
      "Processing Record 208 of set 5 for City: tuktoyaktuk\n",
      "Processing Record 209 of set 5 for City: burgdorf\n",
      "Processing Record 210 of set 5 for City: taltal\n",
      "Processing Record 211 of set 5 for City: marcona\n",
      "No information found for city: marcona\n",
      "Processing Record 212 of set 5 for City: faya\n",
      "Processing Record 213 of set 5 for City: vila franca do campo\n",
      "Processing Record 214 of set 5 for City: college\n",
      "Processing Record 215 of set 5 for City: palmerston\n",
      "Processing Record 216 of set 5 for City: porto murtinho\n",
      "Processing Record 217 of set 5 for City: hofn\n",
      "Processing Record 218 of set 5 for City: adana\n",
      "Processing Record 219 of set 5 for City: araouane\n",
      "Processing Record 220 of set 5 for City: alice springs\n",
      "Processing Record 221 of set 5 for City: vaitupu\n",
      "No information found for city: vaitupu\n",
      "Processing Record 222 of set 5 for City: carutapera\n",
      "Processing Record 223 of set 5 for City: rjukan\n",
      "Processing Record 224 of set 5 for City: plymouth\n",
      "Processing Record 225 of set 5 for City: saldanha\n",
      "Processing Record 226 of set 5 for City: kamakwie\n",
      "Processing Record 227 of set 5 for City: saint-philippe\n",
      "Processing Record 228 of set 5 for City: bilma\n",
      "Processing Record 229 of set 5 for City: jalu\n",
      "Processing Record 230 of set 5 for City: le port\n",
      "Processing Record 231 of set 5 for City: soller\n",
      "Processing Record 232 of set 5 for City: dakar\n",
      "Processing Record 233 of set 5 for City: felidhoo\n",
      "No information found for city: felidhoo\n",
      "Processing Record 234 of set 5 for City: portland\n",
      "Processing Record 235 of set 5 for City: cockburn town\n",
      "Processing Record 236 of set 5 for City: kazalinsk\n",
      "No information found for city: kazalinsk\n",
      "Processing Record 237 of set 5 for City: anadyr\n",
      "Processing Record 238 of set 5 for City: taoudenni\n",
      "Processing Record 239 of set 5 for City: udarnyy\n",
      "Processing Record 240 of set 5 for City: victoria\n",
      "Processing Record 241 of set 5 for City: tosya\n",
      "Processing Record 242 of set 5 for City: bodden town\n",
      "Processing Record 243 of set 5 for City: huarmey\n",
      "Processing Record 244 of set 5 for City: shakawe\n",
      "Processing Record 245 of set 5 for City: touros\n",
      "Processing Record 246 of set 5 for City: vostok\n",
      "Processing Record 247 of set 5 for City: venice\n",
      "Processing Record 248 of set 5 for City: ziarat\n",
      "Processing Record 249 of set 5 for City: salalah\n",
      "Processing Record 250 of set 5 for City: port pirie\n",
      "Processing Record 251 of set 5 for City: belmonte\n",
      "Processing Record 252 of set 5 for City: narsaq\n",
      "Processing Record 253 of set 5 for City: alta floresta\n",
      "Processing Record 254 of set 5 for City: altus\n",
      "Processing Record 255 of set 5 for City: gumdag\n",
      "Processing Record 256 of set 5 for City: bonavista\n",
      "Processing Record 257 of set 5 for City: ahipara\n",
      "Processing Record 258 of set 5 for City: abhar\n",
      "Processing Record 259 of set 6 for City: ibra\n",
      "Processing Record 260 of set 6 for City: tamandare\n",
      "Processing Record 261 of set 6 for City: uyuni\n",
      "Processing Record 262 of set 6 for City: candawaga\n",
      "No information found for city: candawaga\n",
      "Processing Record 263 of set 6 for City: flinders\n",
      "Processing Record 264 of set 6 for City: constitucion\n",
      "Processing Record 265 of set 6 for City: sao felix do xingu\n",
      "Processing Record 266 of set 6 for City: guarapari\n",
      "Processing Record 267 of set 6 for City: niquelandia\n",
      "Processing Record 268 of set 6 for City: kavieng\n",
      "Processing Record 269 of set 6 for City: upata\n",
      "Processing Record 270 of set 6 for City: murray bridge\n",
      "Processing Record 271 of set 6 for City: nome\n",
      "Processing Record 272 of set 6 for City: lompoc\n",
      "Processing Record 273 of set 6 for City: mateare\n",
      "Processing Record 274 of set 6 for City: port macquarie\n",
      "Processing Record 275 of set 6 for City: fairbanks\n",
      "Processing Record 276 of set 6 for City: truro\n",
      "Processing Record 277 of set 6 for City: agadir\n",
      "Processing Record 278 of set 6 for City: longyearbyen\n",
      "Processing Record 279 of set 6 for City: onokhoy\n",
      "Processing Record 280 of set 6 for City: kourou\n",
      "Processing Record 281 of set 6 for City: manta\n",
      "Processing Record 282 of set 6 for City: kamenka\n",
      "Processing Record 283 of set 6 for City: jaisalmer\n",
      "Processing Record 284 of set 6 for City: roald\n",
      "Processing Record 285 of set 6 for City: tiarei\n",
      "Processing Record 286 of set 6 for City: airai\n",
      "Processing Record 287 of set 6 for City: komsomolets\n",
      "Processing Record 288 of set 6 for City: hualmay\n",
      "Processing Record 289 of set 6 for City: olafsvik\n",
      "Processing Record 290 of set 6 for City: beringovskiy\n",
      "Processing Record 291 of set 6 for City: rochefort\n",
      "Processing Record 292 of set 6 for City: sangar\n",
      "Processing Record 293 of set 6 for City: severo-kurilsk\n",
      "Processing Record 294 of set 6 for City: phetchabun\n",
      "Processing Record 295 of set 6 for City: hirara\n",
      "Processing Record 296 of set 6 for City: anori\n",
      "Processing Record 297 of set 6 for City: mananjary\n",
      "Processing Record 298 of set 6 for City: brewster\n",
      "Processing Record 299 of set 6 for City: maykor\n",
      "Processing Record 300 of set 6 for City: hambantota\n",
      "Processing Record 301 of set 6 for City: krasnoselkup\n",
      "Processing Record 302 of set 6 for City: cordoba\n",
      "Processing Record 303 of set 6 for City: tiznit\n",
      "Processing Record 304 of set 6 for City: andenes\n",
      "Processing Record 305 of set 6 for City: katobu\n",
      "Processing Record 306 of set 6 for City: tarsus\n",
      "Processing Record 307 of set 6 for City: pahrump\n",
      "Processing Record 308 of set 6 for City: saint george\n",
      "Processing Record 309 of set 6 for City: balykshi\n",
      "No information found for city: balykshi\n",
      "Processing Record 310 of set 6 for City: skelleftea\n",
      "Processing Record 311 of set 7 for City: cedral\n",
      "Processing Record 312 of set 7 for City: tezu\n",
      "Processing Record 313 of set 7 for City: natal\n",
      "Processing Record 314 of set 7 for City: vardo\n"
     ]
    },
    {
     "name": "stdout",
     "output_type": "stream",
     "text": [
      "Processing Record 315 of set 7 for City: guerrero negro\n",
      "Processing Record 316 of set 7 for City: strezhevoy\n",
      "Processing Record 317 of set 7 for City: rantepao\n",
      "Processing Record 318 of set 7 for City: buraydah\n",
      "Processing Record 319 of set 7 for City: kupang\n",
      "Processing Record 320 of set 7 for City: namibe\n",
      "Processing Record 321 of set 7 for City: metro\n",
      "Processing Record 322 of set 7 for City: gifhorn\n",
      "Processing Record 323 of set 7 for City: ancud\n",
      "Processing Record 324 of set 7 for City: mnogovershinnyy\n",
      "Processing Record 325 of set 7 for City: hamilton\n",
      "Processing Record 326 of set 7 for City: tacuarembo\n",
      "Processing Record 327 of set 7 for City: vung tau\n",
      "Processing Record 328 of set 7 for City: bengkulu\n",
      "Processing Record 329 of set 7 for City: lesogorskiy\n",
      "Processing Record 330 of set 7 for City: mongoumba\n",
      "Processing Record 331 of set 7 for City: viedma\n",
      "Processing Record 332 of set 7 for City: kutum\n",
      "Processing Record 333 of set 7 for City: tura\n",
      "Processing Record 334 of set 7 for City: gisborne\n",
      "Processing Record 335 of set 7 for City: tumbi\n",
      "Processing Record 336 of set 7 for City: thompson\n",
      "Processing Record 337 of set 7 for City: sao joao da barra\n",
      "Processing Record 338 of set 7 for City: sicamous\n",
      "Processing Record 339 of set 7 for City: thinadhoo\n",
      "Processing Record 340 of set 7 for City: nouadhibou\n",
      "Processing Record 341 of set 7 for City: puerto colombia\n",
      "Processing Record 342 of set 7 for City: shenjiamen\n",
      "Processing Record 343 of set 7 for City: san carlos de bariloche\n",
      "Processing Record 344 of set 7 for City: acapulco\n",
      "Processing Record 345 of set 7 for City: new ulm\n",
      "Processing Record 346 of set 7 for City: saryshagan\n",
      "No information found for city: saryshagan\n",
      "Processing Record 347 of set 7 for City: zalantun\n",
      "Processing Record 348 of set 7 for City: ponta delgada\n",
      "Processing Record 349 of set 7 for City: bethel\n",
      "Processing Record 350 of set 7 for City: mountain home\n",
      "Processing Record 351 of set 7 for City: south lake tahoe\n",
      "Processing Record 352 of set 7 for City: kieta\n",
      "Processing Record 353 of set 7 for City: alofi\n",
      "Processing Record 354 of set 7 for City: attawapiskat\n",
      "No information found for city: attawapiskat\n",
      "Processing Record 355 of set 7 for City: mandalgovi\n",
      "Processing Record 356 of set 7 for City: san vicente\n",
      "Processing Record 357 of set 7 for City: monroe\n",
      "Processing Record 358 of set 7 for City: sistranda\n",
      "Processing Record 359 of set 7 for City: bambous virieux\n",
      "Processing Record 360 of set 7 for City: luang prabang\n",
      "Processing Record 361 of set 7 for City: meyungs\n",
      "No information found for city: meyungs\n",
      "Processing Record 362 of set 7 for City: husavik\n",
      "Processing Record 363 of set 8 for City: nioaque\n",
      "Processing Record 364 of set 8 for City: pontes e lacerda\n",
      "Processing Record 365 of set 8 for City: mackenzie\n",
      "Processing Record 366 of set 8 for City: kavaratti\n",
      "Processing Record 367 of set 8 for City: ustka\n",
      "Processing Record 368 of set 8 for City: laguna\n",
      "Processing Record 369 of set 8 for City: saint-augustin\n",
      "Processing Record 370 of set 8 for City: sol-iletsk\n",
      "Processing Record 371 of set 8 for City: leningradskiy\n",
      "Processing Record 372 of set 8 for City: havre-saint-pierre\n",
      "Processing Record 373 of set 8 for City: megion\n",
      "Processing Record 374 of set 8 for City: japura\n",
      "Processing Record 375 of set 8 for City: we\n",
      "No information found for city: we\n",
      "Processing Record 376 of set 8 for City: palabuhanratu\n",
      "No information found for city: palabuhanratu\n",
      "Processing Record 377 of set 8 for City: victor harbor\n",
      "Processing Record 378 of set 8 for City: cherskiy\n",
      "Processing Record 379 of set 8 for City: kununurra\n",
      "Processing Record 380 of set 8 for City: jamui\n",
      "Processing Record 381 of set 8 for City: ust-maya\n",
      "Processing Record 382 of set 8 for City: sid\n",
      "Processing Record 383 of set 8 for City: yar-sale\n",
      "Processing Record 384 of set 8 for City: katunino\n",
      "Processing Record 385 of set 8 for City: poya\n",
      "Processing Record 386 of set 8 for City: killybegs\n",
      "Processing Record 387 of set 8 for City: almaznyy\n",
      "Processing Record 388 of set 8 for City: grand-bourg\n",
      "Processing Record 389 of set 8 for City: belyy yar\n",
      "Processing Record 390 of set 8 for City: sola\n",
      "Processing Record 391 of set 8 for City: sedro-woolley\n",
      "Processing Record 392 of set 8 for City: jinka\n",
      "Processing Record 393 of set 8 for City: liepaja\n",
      "Processing Record 394 of set 8 for City: la primavera\n",
      "Processing Record 395 of set 8 for City: iquitos\n",
      "Processing Record 396 of set 8 for City: barranca\n",
      "Processing Record 397 of set 8 for City: rio cuarto\n",
      "Processing Record 398 of set 8 for City: chase\n",
      "Processing Record 399 of set 8 for City: yingkou\n",
      "Processing Record 400 of set 8 for City: kinango\n",
      "Processing Record 401 of set 8 for City: paita\n",
      "Processing Record 402 of set 8 for City: gamovo\n",
      "Processing Record 403 of set 8 for City: matara\n",
      "Processing Record 404 of set 8 for City: saint-louis\n",
      "Processing Record 405 of set 8 for City: sembakung\n",
      "Processing Record 406 of set 8 for City: kassala\n",
      "Processing Record 407 of set 8 for City: chokurdakh\n",
      "Processing Record 408 of set 8 for City: olinda\n",
      "Processing Record 409 of set 8 for City: ler\n",
      "Processing Record 410 of set 8 for City: bosaso\n",
      "Processing Record 411 of set 8 for City: talnakh\n",
      "Processing Record 412 of set 8 for City: nara\n",
      "Processing Record 413 of set 8 for City: athens\n",
      "Processing Record 414 of set 8 for City: mastic beach\n",
      "Processing Record 415 of set 9 for City: lorengau\n",
      "Processing Record 416 of set 9 for City: halalo\n",
      "No information found for city: halalo\n",
      "Processing Record 417 of set 9 for City: itajuba\n",
      "Processing Record 418 of set 9 for City: aasiaat\n",
      "Processing Record 419 of set 9 for City: bitung\n",
      "Processing Record 420 of set 9 for City: antalaha\n",
      "Processing Record 421 of set 9 for City: shimoda\n",
      "Processing Record 422 of set 9 for City: sorland\n",
      "Processing Record 423 of set 9 for City: zhigansk\n",
      "Processing Record 424 of set 9 for City: los llanos de aridane\n",
      "Processing Record 425 of set 9 for City: leeuwarden\n",
      "Processing Record 426 of set 9 for City: san quintin\n",
      "Processing Record 427 of set 9 for City: ilulissat\n",
      "Processing Record 428 of set 9 for City: kologriv\n",
      "Processing Record 429 of set 9 for City: oskemen\n",
      "Processing Record 430 of set 9 for City: naze\n",
      "Processing Record 431 of set 9 for City: jati\n",
      "Processing Record 432 of set 9 for City: asosa\n",
      "Processing Record 433 of set 9 for City: puerto ayacucho\n",
      "Processing Record 434 of set 9 for City: wittlich\n",
      "Processing Record 435 of set 9 for City: kushima\n",
      "Processing Record 436 of set 9 for City: gimli\n",
      "Processing Record 437 of set 9 for City: paamiut\n",
      "Processing Record 438 of set 9 for City: sitka\n",
      "Processing Record 439 of set 9 for City: santiago del estero\n",
      "Processing Record 440 of set 9 for City: bandarbeyla\n",
      "Processing Record 441 of set 9 for City: socol\n",
      "Processing Record 442 of set 9 for City: tigil\n",
      "Processing Record 443 of set 9 for City: miri\n",
      "Processing Record 444 of set 9 for City: divnogorsk\n",
      "Processing Record 445 of set 9 for City: nogliki\n",
      "Processing Record 446 of set 9 for City: walvis bay\n",
      "Processing Record 447 of set 9 for City: esik\n",
      "Processing Record 448 of set 9 for City: rolim de moura\n",
      "No information found for city: rolim de moura\n",
      "Processing Record 449 of set 9 for City: okhotsk\n",
      "Processing Record 450 of set 9 for City: calama\n",
      "Processing Record 451 of set 9 for City: kismayo\n",
      "Processing Record 452 of set 9 for City: taksimo\n",
      "Processing Record 453 of set 9 for City: port blair\n",
      "Processing Record 454 of set 9 for City: zhangye\n",
      "Processing Record 455 of set 9 for City: vlore\n",
      "Processing Record 456 of set 9 for City: cayenne\n",
      "Processing Record 457 of set 9 for City: rawannawi\n",
      "No information found for city: rawannawi\n",
      "Processing Record 458 of set 9 for City: guiratinga\n",
      "Processing Record 459 of set 9 for City: mahebourg\n",
      "Processing Record 460 of set 9 for City: srikakulam\n",
      "Processing Record 461 of set 9 for City: hunza\n",
      "No information found for city: hunza\n",
      "Processing Record 462 of set 9 for City: egvekinot\n",
      "Processing Record 463 of set 9 for City: pangnirtung\n",
      "Processing Record 464 of set 9 for City: urtenen\n",
      "Processing Record 465 of set 9 for City: igarka\n",
      "Processing Record 466 of set 9 for City: rawson\n",
      "Processing Record 467 of set 10 for City: palora\n",
      "Processing Record 468 of set 10 for City: vila velha\n",
      "Processing Record 469 of set 10 for City: monrovia\n",
      "Processing Record 470 of set 10 for City: champerico\n"
     ]
    },
    {
     "name": "stdout",
     "output_type": "stream",
     "text": [
      "Processing Record 471 of set 10 for City: morristown\n",
      "Processing Record 472 of set 10 for City: port-gentil\n",
      "Processing Record 473 of set 10 for City: faanui\n",
      "Processing Record 474 of set 10 for City: tete\n",
      "Processing Record 475 of set 10 for City: linjiang\n",
      "Processing Record 476 of set 10 for City: grand gaube\n",
      "Processing Record 477 of set 10 for City: murgab\n",
      "Processing Record 478 of set 10 for City: wukari\n",
      "Processing Record 479 of set 10 for City: okha\n",
      "Processing Record 480 of set 10 for City: prince rupert\n",
      "Processing Record 481 of set 10 for City: tuytepa\n",
      "Processing Record 482 of set 10 for City: gardez\n",
      "Processing Record 483 of set 10 for City: sur\n",
      "Processing Record 484 of set 10 for City: great falls\n",
      "Processing Record 485 of set 10 for City: kankakee\n",
      "Processing Record 486 of set 10 for City: monte gordo\n",
      "Processing Record 487 of set 10 for City: ranong\n",
      "Processing Record 488 of set 10 for City: cumaribo\n",
      "No information found for city: cumaribo\n",
      "Processing Record 489 of set 10 for City: beisfjord\n",
      "Processing Record 490 of set 10 for City: umzimvubu\n",
      "No information found for city: umzimvubu\n",
      "Processing Record 491 of set 10 for City: bansang\n",
      "Processing Record 492 of set 10 for City: kolaras\n",
      "Processing Record 493 of set 10 for City: nova russas\n",
      "Processing Record 494 of set 10 for City: syracuse\n",
      "Processing Record 495 of set 10 for City: asilah\n",
      "Processing Record 496 of set 10 for City: batsfjord\n",
      "Processing Record 497 of set 10 for City: comodoro rivadavia\n",
      "Processing Record 498 of set 10 for City: limulunga\n",
      "Processing Record 499 of set 10 for City: at-bashi\n",
      "Processing Record 500 of set 10 for City: djenne\n",
      "Processing Record 501 of set 10 for City: pekalongan\n",
      "Processing Record 502 of set 10 for City: tabou\n",
      "Processing Record 503 of set 10 for City: hot springs\n",
      "Processing Record 504 of set 10 for City: kenora\n",
      "Processing Record 505 of set 10 for City: agadez\n",
      "Processing Record 506 of set 10 for City: laa\n",
      "Processing Record 507 of set 10 for City: elista\n",
      "Processing Record 508 of set 10 for City: kempsey\n",
      "Processing Record 509 of set 10 for City: priiskovyy\n",
      "Processing Record 510 of set 10 for City: poopo\n",
      "Processing Record 511 of set 10 for City: tomatlan\n",
      "Processing Record 512 of set 10 for City: pitimbu\n",
      "Processing Record 513 of set 10 for City: phan rang\n",
      "No information found for city: phan rang\n",
      "Processing Record 514 of set 10 for City: danielskuil\n",
      "Processing Record 515 of set 10 for City: chom bung\n",
      "No information found for city: chom bung\n",
      "Processing Record 516 of set 10 for City: raymondville\n",
      "Processing Record 517 of set 10 for City: yakymivka\n",
      "Processing Record 518 of set 10 for City: tottori\n",
      "Processing Record 519 of set 11 for City: luanda\n",
      "Processing Record 520 of set 11 for City: lavrentiya\n",
      "Processing Record 521 of set 11 for City: phan thiet\n",
      "Processing Record 522 of set 11 for City: taburao\n",
      "No information found for city: taburao\n",
      "Processing Record 523 of set 11 for City: rosetta\n",
      "Processing Record 524 of set 11 for City: osorheiu\n",
      "Processing Record 525 of set 11 for City: grafton\n",
      "Processing Record 526 of set 11 for City: yining\n",
      "Processing Record 527 of set 11 for City: ati\n",
      "Processing Record 528 of set 11 for City: wewak\n",
      "Processing Record 529 of set 11 for City: banmo\n",
      "No information found for city: banmo\n",
      "Processing Record 530 of set 11 for City: cap malheureux\n",
      "Processing Record 531 of set 11 for City: novyy svit\n",
      "Processing Record 532 of set 11 for City: noyabrsk\n",
      "Processing Record 533 of set 11 for City: nikel\n",
      "Processing Record 534 of set 11 for City: pacific grove\n",
      "Processing Record 535 of set 11 for City: coahuayana\n",
      "Processing Record 536 of set 11 for City: san rafael\n",
      "Processing Record 537 of set 11 for City: clarence town\n",
      "Processing Record 538 of set 11 for City: solovetskiy\n",
      "No information found for city: solovetskiy\n",
      "Processing Record 539 of set 11 for City: hervey bay\n",
      "Processing Record 540 of set 11 for City: datong\n",
      "Processing Record 541 of set 11 for City: elizabeth city\n",
      "Processing Record 542 of set 11 for City: bristol\n",
      "Processing Record 543 of set 11 for City: estevan\n",
      "Processing Record 544 of set 11 for City: barcelos\n",
      "Processing Record 545 of set 11 for City: vanimo\n",
      "Processing Record 546 of set 11 for City: donghai\n",
      "Processing Record 547 of set 11 for City: tsihombe\n",
      "No information found for city: tsihombe\n",
      "Processing Record 548 of set 11 for City: maniitsoq\n",
      "Processing Record 549 of set 11 for City: omidiyeh\n",
      "Processing Record 550 of set 11 for City: innisfail\n",
      "Processing Record 551 of set 11 for City: nabire\n",
      "Processing Record 552 of set 11 for City: moju\n",
      "Processing Record 553 of set 11 for City: richards bay\n",
      "Processing Record 554 of set 11 for City: grindavik\n",
      "Processing Record 555 of set 11 for City: bathsheba\n",
      "Processing Record 556 of set 11 for City: bartow\n",
      "Processing Record 557 of set 11 for City: piacabucu\n",
      "Processing Record 558 of set 11 for City: mount isa\n",
      "Processing Record 559 of set 11 for City: kollumerland\n",
      "No information found for city: kollumerland\n",
      "Processing Record 560 of set 11 for City: tabas\n",
      "Processing Record 561 of set 11 for City: caravelas\n",
      "Processing Record 562 of set 11 for City: pangoa\n",
      "Processing Record 563 of set 11 for City: changji\n",
      "Processing Record 564 of set 11 for City: mayumba\n",
      "Processing Record 565 of set 11 for City: tinskoy\n",
      "Processing Record 566 of set 11 for City: jacareacanga\n",
      "Processing Record 567 of set 11 for City: ipixuna\n",
      "Processing Record 568 of set 11 for City: wenling\n",
      "Processing Record 569 of set 11 for City: bud\n",
      "Processing Record 570 of set 11 for City: waw\n",
      "Processing Record 571 of set 12 for City: mehamn\n",
      "Processing Record 572 of set 12 for City: keti bandar\n",
      "Processing Record 573 of set 12 for City: lydenburg\n",
      "Processing Record 574 of set 12 for City: takoradi\n",
      "Processing Record 575 of set 12 for City: beloha\n",
      "Processing Record 576 of set 12 for City: port shepstone\n",
      "Processing Record 577 of set 12 for City: havelock\n",
      "Processing Record 578 of set 12 for City: baruun-urt\n",
      "Processing Record 579 of set 12 for City: gat\n",
      "Processing Record 580 of set 12 for City: aloleng\n",
      "Processing Record 581 of set 12 for City: kibala\n",
      "Processing Record 582 of set 12 for City: luderitz\n",
      "Processing Record 583 of set 12 for City: kholm-zhirkovskiy\n",
      "Processing Record 584 of set 12 for City: key biscayne\n",
      "Processing Record 585 of set 12 for City: pietarsaari\n",
      "Processing Record 586 of set 12 for City: assela\n",
      "No information found for city: assela\n",
      "Processing Record 587 of set 12 for City: ekibastuz\n",
      "Processing Record 588 of set 12 for City: seymchan\n",
      "Processing Record 589 of set 12 for City: necochea\n",
      "Processing Record 590 of set 12 for City: floresta\n",
      "Processing Record 591 of set 12 for City: menomonie\n",
      "Processing Record 592 of set 12 for City: nioro\n",
      "Processing Record 593 of set 12 for City: tsienyane\n",
      "No information found for city: tsienyane\n",
      "Processing Record 594 of set 12 for City: yerbogachen\n",
      "Processing Record 595 of set 12 for City: kenai\n",
      "Processing Record 596 of set 12 for City: kahului\n",
      "Processing Record 597 of set 12 for City: axim\n",
      "Processing Record 598 of set 12 for City: angoche\n",
      "Processing Record 599 of set 12 for City: atherton\n",
      "Processing Record 600 of set 12 for City: yarmouth\n",
      "Processing Record 601 of set 12 for City: praxedis guerrero\n",
      "Processing Record 602 of set 12 for City: westport\n",
      "Processing Record 603 of set 12 for City: surt\n",
      "Processing Record 604 of set 12 for City: butterworth\n",
      "Processing Record 605 of set 12 for City: jarjis\n",
      "No information found for city: jarjis\n",
      "Processing Record 606 of set 12 for City: san jose de guanipa\n",
      "Processing Record 607 of set 12 for City: nanortalik\n",
      "Processing Record 608 of set 12 for City: zaysan\n",
      "Processing Record 609 of set 12 for City: gamba\n",
      "Processing Record 610 of set 12 for City: junin\n",
      "Processing Record 611 of set 12 for City: aksu\n",
      "Processing Record 612 of set 12 for City: forlev\n",
      "Processing Record 613 of set 12 for City: mvuma\n",
      "Processing Record 614 of set 12 for City: taonan\n",
      "Processing Record 615 of set 12 for City: sokoto\n",
      "Processing Record 616 of set 12 for City: sibolga\n",
      "Processing Record 617 of set 12 for City: sharan\n"
     ]
    }
   ],
   "source": [
    "#set up api/ create URL\n",
    "import json\n",
    "\n",
    "#target each citi in list \"cities\" found above\n",
    "url = \"http://api.openweathermap.org/data/2.5/weather?\"\n",
    "\n",
    "#build query url and exception\n",
    "record_number = 0\n",
    "count = 1\n",
    "batch = 1\n",
    "\n",
    "#define lists to capture from Open Weather Site\n",
    "city_name = []\n",
    "city_lat = []\n",
    "city_long = []\n",
    "temp = []\n",
    "humidity = []\n",
    "country = []\n",
    "cloudiness = []\n",
    "windspeed = []\n",
    "date = []\n",
    "\n",
    "#loop to create list of found data and grab info from api for dataframe\n",
    "for i, x  in enumerate(cities):\n",
    "    #set groups of 50\n",
    "    if count <= 50:\n",
    "        count +=1        \n",
    "    else:\n",
    "        batch += 1 #set of first 50\n",
    "        count = 0       \n",
    "    record_number += 1\n",
    "    try:\n",
    "        query_url = (url + \"appid=\" + weather_api_key + \"&q=\" + x)\n",
    "        print(f'Processing Record {record_number} of set {batch} for City: {x}')\n",
    "        #temp was provided in Kelvin - &units imperial allows us to view it in farenheit \n",
    "        cities_response = requests.get(query_url + \"&units=imperial\").json()\n",
    "        \n",
    "        #store data to lists\n",
    "        city_name.append(cities_response['name'])\n",
    "        city_lat.append(cities_response['coord']['lat'])\n",
    "        city_long.append(cities_response['coord']['lon'])\n",
    "        cloudiness.append(cities_response['clouds']['all'])\n",
    "        temp.append(cities_response['main']['temp'])\n",
    "        humidity.append(cities_response['main']['humidity']) \n",
    "        country.append(cities_response['sys']['country'])\n",
    "        windspeed.append(cities_response['wind']['speed'])\n",
    "        date.append(cities_response['dt'])\n",
    "    except KeyError:\n",
    "        print(f'No information found for city: {x}') "
   ]
  },
  {
   "cell_type": "markdown",
   "metadata": {},
   "source": [
    "### Convert Raw Data to DataFrame\n",
    "* Export the city data into a .csv.\n",
    "* Display the DataFrame"
   ]
  },
  {
   "cell_type": "code",
   "execution_count": 4,
   "metadata": {},
   "outputs": [],
   "source": [
    "cities_dict = {\"City Name\" : city_name, \"Country Name\": country, \"Latitude\":city_lat, \"Longitude\":city_long, \"Temperature\": temp, \"Humidity\": humidity, \"Cloudiness\":cloudiness, \"Windspeed\":windspeed, \"Date\":date }\n",
    "cities_df = pd.DataFrame(cities_dict)\n",
    "cities_df['Date']=pd.to_datetime(cities_df['Date'], unit='s')\n",
    "cities_df.to_csv(\"../output_data/Citiesweather.csv\", index = False, header = True)"
   ]
  },
  {
   "cell_type": "code",
   "execution_count": 5,
   "metadata": {},
   "outputs": [
    {
     "data": {
      "text/html": [
       "<div>\n",
       "<style scoped>\n",
       "    .dataframe tbody tr th:only-of-type {\n",
       "        vertical-align: middle;\n",
       "    }\n",
       "\n",
       "    .dataframe tbody tr th {\n",
       "        vertical-align: top;\n",
       "    }\n",
       "\n",
       "    .dataframe thead th {\n",
       "        text-align: right;\n",
       "    }\n",
       "</style>\n",
       "<table border=\"1\" class=\"dataframe\">\n",
       "  <thead>\n",
       "    <tr style=\"text-align: right;\">\n",
       "      <th></th>\n",
       "      <th>City Name</th>\n",
       "      <th>Country Name</th>\n",
       "      <th>Latitude</th>\n",
       "      <th>Longitude</th>\n",
       "      <th>Temperature</th>\n",
       "      <th>Humidity</th>\n",
       "      <th>Cloudiness</th>\n",
       "      <th>Windspeed</th>\n",
       "      <th>Date</th>\n",
       "    </tr>\n",
       "  </thead>\n",
       "  <tbody>\n",
       "    <tr>\n",
       "      <th>0</th>\n",
       "      <td>Mar del Plata</td>\n",
       "      <td>AR</td>\n",
       "      <td>-38.00</td>\n",
       "      <td>-57.56</td>\n",
       "      <td>53.91</td>\n",
       "      <td>100</td>\n",
       "      <td>90</td>\n",
       "      <td>11.41</td>\n",
       "      <td>2020-07-23 22:27:46</td>\n",
       "    </tr>\n",
       "    <tr>\n",
       "      <th>1</th>\n",
       "      <td>Aplahoué</td>\n",
       "      <td>BJ</td>\n",
       "      <td>6.93</td>\n",
       "      <td>1.68</td>\n",
       "      <td>72.57</td>\n",
       "      <td>90</td>\n",
       "      <td>100</td>\n",
       "      <td>4.14</td>\n",
       "      <td>2020-07-23 22:31:48</td>\n",
       "    </tr>\n",
       "    <tr>\n",
       "      <th>2</th>\n",
       "      <td>Makkah al Mukarramah</td>\n",
       "      <td>SA</td>\n",
       "      <td>21.43</td>\n",
       "      <td>39.83</td>\n",
       "      <td>83.23</td>\n",
       "      <td>58</td>\n",
       "      <td>77</td>\n",
       "      <td>1.88</td>\n",
       "      <td>2020-07-23 22:30:45</td>\n",
       "    </tr>\n",
       "    <tr>\n",
       "      <th>3</th>\n",
       "      <td>San Cristobal</td>\n",
       "      <td>VE</td>\n",
       "      <td>7.77</td>\n",
       "      <td>-72.22</td>\n",
       "      <td>82.40</td>\n",
       "      <td>54</td>\n",
       "      <td>75</td>\n",
       "      <td>16.11</td>\n",
       "      <td>2020-07-23 22:31:49</td>\n",
       "    </tr>\n",
       "    <tr>\n",
       "      <th>4</th>\n",
       "      <td>Pokaran</td>\n",
       "      <td>IN</td>\n",
       "      <td>26.92</td>\n",
       "      <td>71.92</td>\n",
       "      <td>88.43</td>\n",
       "      <td>61</td>\n",
       "      <td>6</td>\n",
       "      <td>17.22</td>\n",
       "      <td>2020-07-23 22:31:49</td>\n",
       "    </tr>\n",
       "    <tr>\n",
       "      <th>...</th>\n",
       "      <td>...</td>\n",
       "      <td>...</td>\n",
       "      <td>...</td>\n",
       "      <td>...</td>\n",
       "      <td>...</td>\n",
       "      <td>...</td>\n",
       "      <td>...</td>\n",
       "      <td>...</td>\n",
       "      <td>...</td>\n",
       "    </tr>\n",
       "    <tr>\n",
       "      <th>572</th>\n",
       "      <td>Mvuma</td>\n",
       "      <td>ZW</td>\n",
       "      <td>-19.28</td>\n",
       "      <td>30.53</td>\n",
       "      <td>45.30</td>\n",
       "      <td>89</td>\n",
       "      <td>8</td>\n",
       "      <td>10.56</td>\n",
       "      <td>2020-07-23 22:32:49</td>\n",
       "    </tr>\n",
       "    <tr>\n",
       "      <th>573</th>\n",
       "      <td>Guangming</td>\n",
       "      <td>CN</td>\n",
       "      <td>45.33</td>\n",
       "      <td>122.78</td>\n",
       "      <td>84.40</td>\n",
       "      <td>36</td>\n",
       "      <td>2</td>\n",
       "      <td>2.46</td>\n",
       "      <td>2020-07-23 22:32:49</td>\n",
       "    </tr>\n",
       "    <tr>\n",
       "      <th>574</th>\n",
       "      <td>Sokoto</td>\n",
       "      <td>NG</td>\n",
       "      <td>13.06</td>\n",
       "      <td>5.24</td>\n",
       "      <td>79.03</td>\n",
       "      <td>73</td>\n",
       "      <td>78</td>\n",
       "      <td>13.35</td>\n",
       "      <td>2020-07-23 22:32:49</td>\n",
       "    </tr>\n",
       "    <tr>\n",
       "      <th>575</th>\n",
       "      <td>Sibolga</td>\n",
       "      <td>ID</td>\n",
       "      <td>1.74</td>\n",
       "      <td>98.78</td>\n",
       "      <td>75.72</td>\n",
       "      <td>75</td>\n",
       "      <td>100</td>\n",
       "      <td>3.06</td>\n",
       "      <td>2020-07-23 22:32:49</td>\n",
       "    </tr>\n",
       "    <tr>\n",
       "      <th>576</th>\n",
       "      <td>Sharan</td>\n",
       "      <td>RU</td>\n",
       "      <td>54.82</td>\n",
       "      <td>54.00</td>\n",
       "      <td>59.67</td>\n",
       "      <td>96</td>\n",
       "      <td>100</td>\n",
       "      <td>6.76</td>\n",
       "      <td>2020-07-23 22:32:49</td>\n",
       "    </tr>\n",
       "  </tbody>\n",
       "</table>\n",
       "<p>577 rows × 9 columns</p>\n",
       "</div>"
      ],
      "text/plain": [
       "                City Name Country Name  Latitude  Longitude  Temperature  \\\n",
       "0           Mar del Plata           AR    -38.00     -57.56        53.91   \n",
       "1                Aplahoué           BJ      6.93       1.68        72.57   \n",
       "2    Makkah al Mukarramah           SA     21.43      39.83        83.23   \n",
       "3           San Cristobal           VE      7.77     -72.22        82.40   \n",
       "4                 Pokaran           IN     26.92      71.92        88.43   \n",
       "..                    ...          ...       ...        ...          ...   \n",
       "572                 Mvuma           ZW    -19.28      30.53        45.30   \n",
       "573             Guangming           CN     45.33     122.78        84.40   \n",
       "574                Sokoto           NG     13.06       5.24        79.03   \n",
       "575               Sibolga           ID      1.74      98.78        75.72   \n",
       "576                Sharan           RU     54.82      54.00        59.67   \n",
       "\n",
       "     Humidity  Cloudiness  Windspeed                Date  \n",
       "0         100          90      11.41 2020-07-23 22:27:46  \n",
       "1          90         100       4.14 2020-07-23 22:31:48  \n",
       "2          58          77       1.88 2020-07-23 22:30:45  \n",
       "3          54          75      16.11 2020-07-23 22:31:49  \n",
       "4          61           6      17.22 2020-07-23 22:31:49  \n",
       "..        ...         ...        ...                 ...  \n",
       "572        89           8      10.56 2020-07-23 22:32:49  \n",
       "573        36           2       2.46 2020-07-23 22:32:49  \n",
       "574        73          78      13.35 2020-07-23 22:32:49  \n",
       "575        75         100       3.06 2020-07-23 22:32:49  \n",
       "576        96         100       6.76 2020-07-23 22:32:49  \n",
       "\n",
       "[577 rows x 9 columns]"
      ]
     },
     "execution_count": 5,
     "metadata": {},
     "output_type": "execute_result"
    }
   ],
   "source": [
    "cities_df"
   ]
  },
  {
   "cell_type": "markdown",
   "metadata": {},
   "source": [
    "## Inspect the data and remove the cities where the humidity > 100%.\n",
    "----\n",
    "Skip this step if there are no cities that have humidity > 100%. "
   ]
  },
  {
   "cell_type": "code",
   "execution_count": 6,
   "metadata": {},
   "outputs": [],
   "source": [
    "#check for cities with high humidity\n",
    "if len(cities_df.loc[cities_df['Humidity'] > 100]):\n",
    "    #keep those with humidity less than 100\n",
    "    high_humidity_df = cities_df.loc[cities_df['Humidity'] > 100]\n",
    "    clean_cities_df = cities_df.loc[cities_df['Humidity'] <= 100]\n",
    "    #Get the indices of cities that have humidity over 100%.\n",
    "    high_humidity_label = cities_df[cities_df['Humidity']>100].index.tolist()\n",
    "    print(high_humidity_label)\n",
    "    print(high_humidity_df)\n",
    "else:\n",
    "    clean_cities_df = cities_df"
   ]
  },
  {
   "cell_type": "code",
   "execution_count": 7,
   "metadata": {},
   "outputs": [],
   "source": [
    "    ##__________________review with tutor_________________________________-##\n",
    "\n",
    "\n",
    "    # Make a new DataFrame equal to the city data to drop all humidity outliers by index.\n",
    "    #condition= cities_df.loc[cities_df['Humidity'] < 100]\n",
    "    #clean_cities_df = cities_df.where(cond=cities_df.loc[cities_df['Humidity'] < 100],inplace=False)\n",
    "    # Passing \"inplace=False\" will make a copy of the city_data DataFrame, which we call \"clean_city_data\".\n",
    "\n",
    "\n",
    "    #print(clean_city_data_df)\n",
    "    #print(clean_cities_df)"
   ]
  },
  {
   "cell_type": "code",
   "execution_count": 8,
   "metadata": {},
   "outputs": [
    {
     "data": {
      "text/html": [
       "<div>\n",
       "<style scoped>\n",
       "    .dataframe tbody tr th:only-of-type {\n",
       "        vertical-align: middle;\n",
       "    }\n",
       "\n",
       "    .dataframe tbody tr th {\n",
       "        vertical-align: top;\n",
       "    }\n",
       "\n",
       "    .dataframe thead th {\n",
       "        text-align: right;\n",
       "    }\n",
       "</style>\n",
       "<table border=\"1\" class=\"dataframe\">\n",
       "  <thead>\n",
       "    <tr style=\"text-align: right;\">\n",
       "      <th></th>\n",
       "      <th>City Name</th>\n",
       "      <th>Country Name</th>\n",
       "      <th>Latitude</th>\n",
       "      <th>Longitude</th>\n",
       "      <th>Temperature</th>\n",
       "      <th>Humidity</th>\n",
       "      <th>Cloudiness</th>\n",
       "      <th>Windspeed</th>\n",
       "      <th>Date</th>\n",
       "      <th>just_date</th>\n",
       "    </tr>\n",
       "  </thead>\n",
       "  <tbody>\n",
       "    <tr>\n",
       "      <th>0</th>\n",
       "      <td>Mar del Plata</td>\n",
       "      <td>AR</td>\n",
       "      <td>-38.00</td>\n",
       "      <td>-57.56</td>\n",
       "      <td>53.91</td>\n",
       "      <td>100</td>\n",
       "      <td>90</td>\n",
       "      <td>11.41</td>\n",
       "      <td>2020-07-23 22:27:46</td>\n",
       "      <td>2020-07-23</td>\n",
       "    </tr>\n",
       "    <tr>\n",
       "      <th>1</th>\n",
       "      <td>Aplahoué</td>\n",
       "      <td>BJ</td>\n",
       "      <td>6.93</td>\n",
       "      <td>1.68</td>\n",
       "      <td>72.57</td>\n",
       "      <td>90</td>\n",
       "      <td>100</td>\n",
       "      <td>4.14</td>\n",
       "      <td>2020-07-23 22:31:48</td>\n",
       "      <td>2020-07-23</td>\n",
       "    </tr>\n",
       "    <tr>\n",
       "      <th>2</th>\n",
       "      <td>Makkah al Mukarramah</td>\n",
       "      <td>SA</td>\n",
       "      <td>21.43</td>\n",
       "      <td>39.83</td>\n",
       "      <td>83.23</td>\n",
       "      <td>58</td>\n",
       "      <td>77</td>\n",
       "      <td>1.88</td>\n",
       "      <td>2020-07-23 22:30:45</td>\n",
       "      <td>2020-07-23</td>\n",
       "    </tr>\n",
       "    <tr>\n",
       "      <th>3</th>\n",
       "      <td>San Cristobal</td>\n",
       "      <td>VE</td>\n",
       "      <td>7.77</td>\n",
       "      <td>-72.22</td>\n",
       "      <td>82.40</td>\n",
       "      <td>54</td>\n",
       "      <td>75</td>\n",
       "      <td>16.11</td>\n",
       "      <td>2020-07-23 22:31:49</td>\n",
       "      <td>2020-07-23</td>\n",
       "    </tr>\n",
       "    <tr>\n",
       "      <th>4</th>\n",
       "      <td>Pokaran</td>\n",
       "      <td>IN</td>\n",
       "      <td>26.92</td>\n",
       "      <td>71.92</td>\n",
       "      <td>88.43</td>\n",
       "      <td>61</td>\n",
       "      <td>6</td>\n",
       "      <td>17.22</td>\n",
       "      <td>2020-07-23 22:31:49</td>\n",
       "      <td>2020-07-23</td>\n",
       "    </tr>\n",
       "    <tr>\n",
       "      <th>...</th>\n",
       "      <td>...</td>\n",
       "      <td>...</td>\n",
       "      <td>...</td>\n",
       "      <td>...</td>\n",
       "      <td>...</td>\n",
       "      <td>...</td>\n",
       "      <td>...</td>\n",
       "      <td>...</td>\n",
       "      <td>...</td>\n",
       "      <td>...</td>\n",
       "    </tr>\n",
       "    <tr>\n",
       "      <th>572</th>\n",
       "      <td>Mvuma</td>\n",
       "      <td>ZW</td>\n",
       "      <td>-19.28</td>\n",
       "      <td>30.53</td>\n",
       "      <td>45.30</td>\n",
       "      <td>89</td>\n",
       "      <td>8</td>\n",
       "      <td>10.56</td>\n",
       "      <td>2020-07-23 22:32:49</td>\n",
       "      <td>2020-07-23</td>\n",
       "    </tr>\n",
       "    <tr>\n",
       "      <th>573</th>\n",
       "      <td>Guangming</td>\n",
       "      <td>CN</td>\n",
       "      <td>45.33</td>\n",
       "      <td>122.78</td>\n",
       "      <td>84.40</td>\n",
       "      <td>36</td>\n",
       "      <td>2</td>\n",
       "      <td>2.46</td>\n",
       "      <td>2020-07-23 22:32:49</td>\n",
       "      <td>2020-07-23</td>\n",
       "    </tr>\n",
       "    <tr>\n",
       "      <th>574</th>\n",
       "      <td>Sokoto</td>\n",
       "      <td>NG</td>\n",
       "      <td>13.06</td>\n",
       "      <td>5.24</td>\n",
       "      <td>79.03</td>\n",
       "      <td>73</td>\n",
       "      <td>78</td>\n",
       "      <td>13.35</td>\n",
       "      <td>2020-07-23 22:32:49</td>\n",
       "      <td>2020-07-23</td>\n",
       "    </tr>\n",
       "    <tr>\n",
       "      <th>575</th>\n",
       "      <td>Sibolga</td>\n",
       "      <td>ID</td>\n",
       "      <td>1.74</td>\n",
       "      <td>98.78</td>\n",
       "      <td>75.72</td>\n",
       "      <td>75</td>\n",
       "      <td>100</td>\n",
       "      <td>3.06</td>\n",
       "      <td>2020-07-23 22:32:49</td>\n",
       "      <td>2020-07-23</td>\n",
       "    </tr>\n",
       "    <tr>\n",
       "      <th>576</th>\n",
       "      <td>Sharan</td>\n",
       "      <td>RU</td>\n",
       "      <td>54.82</td>\n",
       "      <td>54.00</td>\n",
       "      <td>59.67</td>\n",
       "      <td>96</td>\n",
       "      <td>100</td>\n",
       "      <td>6.76</td>\n",
       "      <td>2020-07-23 22:32:49</td>\n",
       "      <td>2020-07-23</td>\n",
       "    </tr>\n",
       "  </tbody>\n",
       "</table>\n",
       "<p>577 rows × 10 columns</p>\n",
       "</div>"
      ],
      "text/plain": [
       "                City Name Country Name  Latitude  Longitude  Temperature  \\\n",
       "0           Mar del Plata           AR    -38.00     -57.56        53.91   \n",
       "1                Aplahoué           BJ      6.93       1.68        72.57   \n",
       "2    Makkah al Mukarramah           SA     21.43      39.83        83.23   \n",
       "3           San Cristobal           VE      7.77     -72.22        82.40   \n",
       "4                 Pokaran           IN     26.92      71.92        88.43   \n",
       "..                    ...          ...       ...        ...          ...   \n",
       "572                 Mvuma           ZW    -19.28      30.53        45.30   \n",
       "573             Guangming           CN     45.33     122.78        84.40   \n",
       "574                Sokoto           NG     13.06       5.24        79.03   \n",
       "575               Sibolga           ID      1.74      98.78        75.72   \n",
       "576                Sharan           RU     54.82      54.00        59.67   \n",
       "\n",
       "     Humidity  Cloudiness  Windspeed                Date   just_date  \n",
       "0         100          90      11.41 2020-07-23 22:27:46  2020-07-23  \n",
       "1          90         100       4.14 2020-07-23 22:31:48  2020-07-23  \n",
       "2          58          77       1.88 2020-07-23 22:30:45  2020-07-23  \n",
       "3          54          75      16.11 2020-07-23 22:31:49  2020-07-23  \n",
       "4          61           6      17.22 2020-07-23 22:31:49  2020-07-23  \n",
       "..        ...         ...        ...                 ...         ...  \n",
       "572        89           8      10.56 2020-07-23 22:32:49  2020-07-23  \n",
       "573        36           2       2.46 2020-07-23 22:32:49  2020-07-23  \n",
       "574        73          78      13.35 2020-07-23 22:32:49  2020-07-23  \n",
       "575        75         100       3.06 2020-07-23 22:32:49  2020-07-23  \n",
       "576        96         100       6.76 2020-07-23 22:32:49  2020-07-23  \n",
       "\n",
       "[577 rows x 10 columns]"
      ]
     },
     "execution_count": 8,
     "metadata": {},
     "output_type": "execute_result"
    }
   ],
   "source": [
    "    # Extract relevant fields from the data frame\n",
    "    # Export the City_Data into a csv\n",
    "    clean_cities_df.to_csv(\"../output_data/clean_cities_data.csv\", index = False, header = True)\n",
    "    clean_cities_df['just_date'] = clean_cities_df['Date'].dt.date\n",
    "    clean_cities_df"
   ]
  },
  {
   "cell_type": "markdown",
   "metadata": {},
   "source": [
    "## Plotting the Data\n",
    "* Use proper labeling of the plots using plot titles (including date of analysis) and axes labels.\n",
    "* Save the plotted figures as .pngs."
   ]
  },
  {
   "cell_type": "markdown",
   "metadata": {},
   "source": [
    "## Latitude vs. Temperature Plot"
   ]
  },
  {
   "cell_type": "code",
   "execution_count": 9,
   "metadata": {
    "scrolled": true
   },
   "outputs": [
    {
     "data": {
      "image/png": "[encoded data removed]",
      "text/plain": [
       "<Figure size 432x288 with 1 Axes>"
      ]
     },
     "metadata": {
      "needs_background": "light"
     },
     "output_type": "display_data"
    }
   ],
   "source": [
    "clean_cities_df.plot.scatter(\"Latitude\", \"Temperature\")\n",
    "plt.title(f'Latitude vs Temperature on {clean_cities_df[\"just_date\"].unique()}')\n",
    "plt.savefig(\"../output_data/LatvsTemp.png\")\n",
    "plt.show()"
   ]
  },
  {
   "cell_type": "markdown",
   "metadata": {},
   "source": [
    "The scatter plot clearly shows areas close to the equator have higher temperatures. "
   ]
  },
  {
   "cell_type": "markdown",
   "metadata": {},
   "source": [
    "## Latitude vs. Humidity Plot"
   ]
  },
  {
   "cell_type": "code",
   "execution_count": 10,
   "metadata": {},
   "outputs": [
    {
     "data": {
      "image/png": "[encoded data removed]",
      "text/plain": [
       "<Figure size 432x288 with 1 Axes>"
      ]
     },
     "metadata": {
      "needs_background": "light"
     },
     "output_type": "display_data"
    }
   ],
   "source": [
    "clean_cities_df.plot.scatter(\"Latitude\", \"Humidity\")\n",
    "plt.title(\"Latitude vs Humidity\")\n",
    "plt.savefig(\"../output_data/LatvsHumid.png\")\n",
    "plt.show()"
   ]
  },
  {
   "cell_type": "markdown",
   "metadata": {},
   "source": [
    "This scatter plot shows latitude does not have much of an impact on a locations humidty. "
   ]
  },
  {
   "cell_type": "markdown",
   "metadata": {},
   "source": [
    "## Latitude vs. Cloudiness Plot"
   ]
  },
  {
   "cell_type": "code",
   "execution_count": 23,
   "metadata": {},
   "outputs": [
    {
     "data": {
      "image/png": "[encoded data removed]",
      "text/plain": [
       "<Figure size 432x288 with 1 Axes>"
      ]
     },
     "metadata": {
      "needs_background": "light"
     },
     "output_type": "display_data"
    }
   ],
   "source": [
    "clean_cities_df.plot.scatter(\"Latitude\", \"Cloudiness\")\n",
    "plt.title(\"Latitude vs Cloudiness\")\n",
    "plt.savefig(\"../output_data/LatvsClouds.png\")\n",
    "plt.show()"
   ]
  },
  {
   "cell_type": "markdown",
   "metadata": {},
   "source": [
    "This scatter plot shows latitude does not appear to have an impact on cloudiness of an area. "
   ]
  },
  {
   "cell_type": "markdown",
   "metadata": {},
   "source": [
    "## Latitude vs. Wind Speed Plot"
   ]
  },
  {
   "cell_type": "code",
   "execution_count": 12,
   "metadata": {},
   "outputs": [
    {
     "data": {
      "image/png": "[encoded data removed]",
      "text/plain": [
       "<Figure size 432x288 with 1 Axes>"
      ]
     },
     "metadata": {
      "needs_background": "light"
     },
     "output_type": "display_data"
    }
   ],
   "source": [
    "clean_cities_df.plot.scatter(\"Latitude\", \"Windspeed\")\n",
    "plt.title(\"Latitude vs Windspeed\")\n",
    "plt.savefig(\"../output_data/LatvsWS.png\")\n",
    "plt.show()"
   ]
  },
  {
   "cell_type": "markdown",
   "metadata": {},
   "source": [
    "This scatter plot illustrates that the windspeed is more or less consisten across all latitudes - with some peaks likely influcenced by current weather at the time this was reviewed. "
   ]
  },
  {
   "cell_type": "markdown",
   "metadata": {},
   "source": [
    "## Linear Regression"
   ]
  },
  {
   "cell_type": "code",
   "execution_count": 13,
   "metadata": {},
   "outputs": [],
   "source": [
    "# OPTIONAL: Create a function to create Linear Regression plots\n",
    "\n",
    "def linearregression(x,y,xlabel, ylabel, annotate): #will set annotate after reviewing the plot for optimal slope equation placement\n",
    "    (slope, intercept, rvalue, pvalue, stderr) = linregress(x, y)\n",
    "    regress_values = x * slope + intercept\n",
    "    line_eq = \"y = \" + str(round(slope,2)) + \"x + \" + str(round(intercept,2))\n",
    "    plt.scatter(x,y)\n",
    "    plt.plot(x,regress_values,\"r-\")\n",
    "    plt.annotate(line_eq,annotate,fontsize=15,color=\"red\")\n",
    "    plt.xlabel(xlabel)\n",
    "    plt.ylabel(ylabel)\n",
    "    plt.title(f'{xlabel} \"vs\" {ylabel}')\n",
    "    plt.show()\n",
    "    \n"
   ]
  },
  {
   "cell_type": "code",
   "execution_count": 14,
   "metadata": {},
   "outputs": [
    {
     "data": {
      "text/html": [
       "<div>\n",
       "<style scoped>\n",
       "    .dataframe tbody tr th:only-of-type {\n",
       "        vertical-align: middle;\n",
       "    }\n",
       "\n",
       "    .dataframe tbody tr th {\n",
       "        vertical-align: top;\n",
       "    }\n",
       "\n",
       "    .dataframe thead th {\n",
       "        text-align: right;\n",
       "    }\n",
       "</style>\n",
       "<table border=\"1\" class=\"dataframe\">\n",
       "  <thead>\n",
       "    <tr style=\"text-align: right;\">\n",
       "      <th></th>\n",
       "      <th>City Name</th>\n",
       "      <th>Country Name</th>\n",
       "      <th>Latitude</th>\n",
       "      <th>Longitude</th>\n",
       "      <th>Temperature</th>\n",
       "      <th>Humidity</th>\n",
       "      <th>Cloudiness</th>\n",
       "      <th>Windspeed</th>\n",
       "      <th>Date</th>\n",
       "      <th>just_date</th>\n",
       "    </tr>\n",
       "  </thead>\n",
       "  <tbody>\n",
       "    <tr>\n",
       "      <th>0</th>\n",
       "      <td>Mar del Plata</td>\n",
       "      <td>AR</td>\n",
       "      <td>-38.00</td>\n",
       "      <td>-57.56</td>\n",
       "      <td>53.91</td>\n",
       "      <td>100</td>\n",
       "      <td>90</td>\n",
       "      <td>11.41</td>\n",
       "      <td>2020-07-23 22:27:46</td>\n",
       "      <td>2020-07-23</td>\n",
       "    </tr>\n",
       "    <tr>\n",
       "      <th>5</th>\n",
       "      <td>Cape Town</td>\n",
       "      <td>ZA</td>\n",
       "      <td>-33.93</td>\n",
       "      <td>18.42</td>\n",
       "      <td>51.94</td>\n",
       "      <td>93</td>\n",
       "      <td>0</td>\n",
       "      <td>3.36</td>\n",
       "      <td>2020-07-23 22:31:39</td>\n",
       "      <td>2020-07-23</td>\n",
       "    </tr>\n",
       "    <tr>\n",
       "      <th>7</th>\n",
       "      <td>Hobart</td>\n",
       "      <td>AU</td>\n",
       "      <td>-42.88</td>\n",
       "      <td>147.33</td>\n",
       "      <td>38.05</td>\n",
       "      <td>80</td>\n",
       "      <td>80</td>\n",
       "      <td>9.17</td>\n",
       "      <td>2020-07-23 22:29:13</td>\n",
       "      <td>2020-07-23</td>\n",
       "    </tr>\n",
       "    <tr>\n",
       "      <th>8</th>\n",
       "      <td>Ngunguru</td>\n",
       "      <td>NZ</td>\n",
       "      <td>-35.62</td>\n",
       "      <td>174.50</td>\n",
       "      <td>55.99</td>\n",
       "      <td>3</td>\n",
       "      <td>13</td>\n",
       "      <td>5.99</td>\n",
       "      <td>2020-07-23 22:31:49</td>\n",
       "      <td>2020-07-23</td>\n",
       "    </tr>\n",
       "    <tr>\n",
       "      <th>13</th>\n",
       "      <td>Bluff</td>\n",
       "      <td>NZ</td>\n",
       "      <td>-46.60</td>\n",
       "      <td>168.33</td>\n",
       "      <td>39.00</td>\n",
       "      <td>83</td>\n",
       "      <td>98</td>\n",
       "      <td>3.00</td>\n",
       "      <td>2020-07-23 22:31:50</td>\n",
       "      <td>2020-07-23</td>\n",
       "    </tr>\n",
       "    <tr>\n",
       "      <th>...</th>\n",
       "      <td>...</td>\n",
       "      <td>...</td>\n",
       "      <td>...</td>\n",
       "      <td>...</td>\n",
       "      <td>...</td>\n",
       "      <td>...</td>\n",
       "      <td>...</td>\n",
       "      <td>...</td>\n",
       "      <td>...</td>\n",
       "      <td>...</td>\n",
       "    </tr>\n",
       "    <tr>\n",
       "      <th>551</th>\n",
       "      <td>Floresta</td>\n",
       "      <td>BR</td>\n",
       "      <td>-8.60</td>\n",
       "      <td>-38.57</td>\n",
       "      <td>72.72</td>\n",
       "      <td>57</td>\n",
       "      <td>71</td>\n",
       "      <td>16.53</td>\n",
       "      <td>2020-07-23 22:32:47</td>\n",
       "      <td>2020-07-23</td>\n",
       "    </tr>\n",
       "    <tr>\n",
       "      <th>558</th>\n",
       "      <td>Angoche</td>\n",
       "      <td>MZ</td>\n",
       "      <td>-16.23</td>\n",
       "      <td>39.91</td>\n",
       "      <td>70.65</td>\n",
       "      <td>82</td>\n",
       "      <td>46</td>\n",
       "      <td>10.13</td>\n",
       "      <td>2020-07-23 22:32:47</td>\n",
       "      <td>2020-07-23</td>\n",
       "    </tr>\n",
       "    <tr>\n",
       "      <th>568</th>\n",
       "      <td>Gamba</td>\n",
       "      <td>GA</td>\n",
       "      <td>-2.65</td>\n",
       "      <td>10.00</td>\n",
       "      <td>71.04</td>\n",
       "      <td>84</td>\n",
       "      <td>76</td>\n",
       "      <td>3.83</td>\n",
       "      <td>2020-07-23 22:32:48</td>\n",
       "      <td>2020-07-23</td>\n",
       "    </tr>\n",
       "    <tr>\n",
       "      <th>569</th>\n",
       "      <td>Junín</td>\n",
       "      <td>AR</td>\n",
       "      <td>-34.58</td>\n",
       "      <td>-60.94</td>\n",
       "      <td>48.00</td>\n",
       "      <td>93</td>\n",
       "      <td>100</td>\n",
       "      <td>5.99</td>\n",
       "      <td>2020-07-23 22:32:49</td>\n",
       "      <td>2020-07-23</td>\n",
       "    </tr>\n",
       "    <tr>\n",
       "      <th>572</th>\n",
       "      <td>Mvuma</td>\n",
       "      <td>ZW</td>\n",
       "      <td>-19.28</td>\n",
       "      <td>30.53</td>\n",
       "      <td>45.30</td>\n",
       "      <td>89</td>\n",
       "      <td>8</td>\n",
       "      <td>10.56</td>\n",
       "      <td>2020-07-23 22:32:49</td>\n",
       "      <td>2020-07-23</td>\n",
       "    </tr>\n",
       "  </tbody>\n",
       "</table>\n",
       "<p>193 rows × 10 columns</p>\n",
       "</div>"
      ],
      "text/plain": [
       "         City Name Country Name  Latitude  Longitude  Temperature  Humidity  \\\n",
       "0    Mar del Plata           AR    -38.00     -57.56        53.91       100   \n",
       "5        Cape Town           ZA    -33.93      18.42        51.94        93   \n",
       "7           Hobart           AU    -42.88     147.33        38.05        80   \n",
       "8         Ngunguru           NZ    -35.62     174.50        55.99         3   \n",
       "13           Bluff           NZ    -46.60     168.33        39.00        83   \n",
       "..             ...          ...       ...        ...          ...       ...   \n",
       "551       Floresta           BR     -8.60     -38.57        72.72        57   \n",
       "558        Angoche           MZ    -16.23      39.91        70.65        82   \n",
       "568          Gamba           GA     -2.65      10.00        71.04        84   \n",
       "569          Junín           AR    -34.58     -60.94        48.00        93   \n",
       "572          Mvuma           ZW    -19.28      30.53        45.30        89   \n",
       "\n",
       "     Cloudiness  Windspeed                Date   just_date  \n",
       "0            90      11.41 2020-07-23 22:27:46  2020-07-23  \n",
       "5             0       3.36 2020-07-23 22:31:39  2020-07-23  \n",
       "7            80       9.17 2020-07-23 22:29:13  2020-07-23  \n",
       "8            13       5.99 2020-07-23 22:31:49  2020-07-23  \n",
       "13           98       3.00 2020-07-23 22:31:50  2020-07-23  \n",
       "..          ...        ...                 ...         ...  \n",
       "551          71      16.53 2020-07-23 22:32:47  2020-07-23  \n",
       "558          46      10.13 2020-07-23 22:32:47  2020-07-23  \n",
       "568          76       3.83 2020-07-23 22:32:48  2020-07-23  \n",
       "569         100       5.99 2020-07-23 22:32:49  2020-07-23  \n",
       "572           8      10.56 2020-07-23 22:32:49  2020-07-23  \n",
       "\n",
       "[193 rows x 10 columns]"
      ]
     },
     "execution_count": 14,
     "metadata": {},
     "output_type": "execute_result"
    }
   ],
   "source": [
    "# Create Northern and Southern Hemisphere DataFrames\n",
    "northern_hemisphere_df = clean_cities_df.loc[clean_cities_df['Latitude']>=0]\n",
    "northern_hemisphere_df.dropna(how = 'all', axis =1)\n",
    "southern_hemisphere_df = clean_cities_df.loc[clean_cities_df['Latitude']<0]\n",
    "southern_hemisphere_df.dropna(how = 'all', axis =1)"
   ]
  },
  {
   "cell_type": "markdown",
   "metadata": {},
   "source": [
    "####  Northern Hemisphere - Max Temp vs. Latitude Linear Regression"
   ]
  },
  {
   "cell_type": "code",
   "execution_count": 24,
   "metadata": {},
   "outputs": [
    {
     "data": {
      "image/png": "[encoded data removed]",
      "text/plain": [
       "<Figure size 432x288 with 1 Axes>"
      ]
     },
     "metadata": {
      "needs_background": "light"
     },
     "output_type": "display_data"
    },
    {
     "data": {
      "text/plain": [
       "<Figure size 432x288 with 0 Axes>"
      ]
     },
     "metadata": {},
     "output_type": "display_data"
    }
   ],
   "source": [
    "#call function\n",
    "linearregression(northern_hemisphere_df['Temperature'],northern_hemisphere_df['Latitude'], \"Max Temperature\", \"Latitude\", (280,20))\n",
    "#sav fig\n",
    "plt.savefig(\"../output_data/NorthMaxTempvsLat.png\")\n",
    "plt.show()"
   ]
  },
  {
   "cell_type": "markdown",
   "metadata": {},
   "source": [
    "The above regression reiterates the strong correlation between the latitude (proximity to the equator) and max temperature. So the farther north, the colder the max temps. "
   ]
  },
  {
   "cell_type": "markdown",
   "metadata": {},
   "source": [
    "####  Southern Hemisphere - Max Temp vs. Latitude Linear Regression"
   ]
  },
  {
   "cell_type": "code",
   "execution_count": 16,
   "metadata": {
    "scrolled": true
   },
   "outputs": [
    {
     "data": {
      "image/png": "[encoded data removed]",
      "text/plain": [
       "<Figure size 432x288 with 1 Axes>"
      ]
     },
     "metadata": {
      "needs_background": "light"
     },
     "output_type": "display_data"
    },
    {
     "data": {
      "text/plain": [
       "<Figure size 432x288 with 0 Axes>"
      ]
     },
     "metadata": {},
     "output_type": "display_data"
    }
   ],
   "source": [
    "#call function\n",
    "linearregression(southern_hemisphere_df['Temperature'],southern_hemisphere_df['Latitude'], \"Max Temperature\", \"Latitude\", (290,-50))\n",
    "#save figure\n",
    "plt.savefig(\"../output_data/SouthMaxTempvsLat.png\")\n",
    "plt.show()"
   ]
  },
  {
   "cell_type": "markdown",
   "metadata": {},
   "source": [
    "The above regression shows a fairly strong correlation between proximity to the equator and max temp. In this case the farther south the colder the max temp. "
   ]
  },
  {
   "cell_type": "markdown",
   "metadata": {},
   "source": [
    "####  Northern Hemisphere - Humidity (%) vs. Latitude Linear Regression"
   ]
  },
  {
   "cell_type": "code",
   "execution_count": 17,
   "metadata": {
    "scrolled": true
   },
   "outputs": [
    {
     "data": {
      "image/png": "[encoded data removed]",
      "text/plain": [
       "<Figure size 432x288 with 1 Axes>"
      ]
     },
     "metadata": {
      "needs_background": "light"
     },
     "output_type": "display_data"
    },
    {
     "data": {
      "text/plain": [
       "<Figure size 432x288 with 0 Axes>"
      ]
     },
     "metadata": {},
     "output_type": "display_data"
    }
   ],
   "source": [
    "#Call function\n",
    "linearregression(northern_hemisphere_df['Humidity'],northern_hemisphere_df['Latitude'], \"Humidity\", \"Latitude\", (20,20))\n",
    "#save figure\n",
    "plt.savefig(\"../output_data/NorthHumidvsLat.png\")\n",
    "plt.show()"
   ]
  },
  {
   "cell_type": "markdown",
   "metadata": {},
   "source": [
    "Regression of the Northern Hemisphere reiterates that there is not much or a correlation between humidity and latitude."
   ]
  },
  {
   "cell_type": "markdown",
   "metadata": {},
   "source": [
    "####  Southern Hemisphere - Humidity (%) vs. Latitude Linear Regression"
   ]
  },
  {
   "cell_type": "code",
   "execution_count": 18,
   "metadata": {},
   "outputs": [
    {
     "data": {
      "image/png": "[encoded data removed]",
      "text/plain": [
       "<Figure size 432x288 with 1 Axes>"
      ]
     },
     "metadata": {
      "needs_background": "light"
     },
     "output_type": "display_data"
    },
    {
     "data": {
      "text/plain": [
       "<Figure size 432x288 with 0 Axes>"
      ]
     },
     "metadata": {},
     "output_type": "display_data"
    }
   ],
   "source": [
    "#call function\n",
    "linearregression(southern_hemisphere_df['Humidity'],southern_hemisphere_df['Latitude'], \"Humidity\", \"Latitude\", (50, -40))\n",
    "#save figure\n",
    "plt.savefig(\"../output_data/SouthHumidvsLat.png\")\n",
    "plt.show()"
   ]
  },
  {
   "cell_type": "markdown",
   "metadata": {},
   "source": [
    "Regression of the Southern Hemisphere reiterates that there is not much of a correlation between humidity and latitude."
   ]
  },
  {
   "cell_type": "markdown",
   "metadata": {},
   "source": [
    "####  Northern Hemisphere - Cloudiness (%) vs. Latitude Linear Regression"
   ]
  },
  {
   "cell_type": "code",
   "execution_count": 19,
   "metadata": {},
   "outputs": [
    {
     "data": {
      "image/png": "[encoded data removed]",
      "text/plain": [
       "<Figure size 432x288 with 1 Axes>"
      ]
     },
     "metadata": {
      "needs_background": "light"
     },
     "output_type": "display_data"
    },
    {
     "data": {
      "text/plain": [
       "<Figure size 432x288 with 0 Axes>"
      ]
     },
     "metadata": {},
     "output_type": "display_data"
    }
   ],
   "source": [
    "#call function\n",
    "linearregression(northern_hemisphere_df['Cloudiness'],northern_hemisphere_df['Latitude'], \"Cloudiness\", \"Latitude\", (50,50))\n",
    "#Sav fig\n",
    "plt.savefig(\"../output_data/NorthCloudvsLat.png\")\n",
    "plt.show()"
   ]
  },
  {
   "cell_type": "markdown",
   "metadata": {},
   "source": [
    "Regression of the Northern Hemisphere reiterates that there is not much of a correlation between cloudiness and latitude. This makes sense as I would anticipate seeing more clouds where there is more humidity and there was no correlation on that aspect either. "
   ]
  },
  {
   "cell_type": "markdown",
   "metadata": {},
   "source": [
    "####  Southern Hemisphere - Cloudiness (%) vs. Latitude Linear Regression"
   ]
  },
  {
   "cell_type": "code",
   "execution_count": 20,
   "metadata": {},
   "outputs": [
    {
     "data": {
      "image/png": "[encoded data removed]",
      "text/plain": [
       "<Figure size 432x288 with 1 Axes>"
      ]
     },
     "metadata": {
      "needs_background": "light"
     },
     "output_type": "display_data"
    },
    {
     "data": {
      "text/plain": [
       "<Figure size 432x288 with 0 Axes>"
      ]
     },
     "metadata": {},
     "output_type": "display_data"
    }
   ],
   "source": [
    "#call function\n",
    "linearregression(southern_hemisphere_df['Cloudiness'],southern_hemisphere_df['Latitude'], \"Cloudiness\", \"Latitude\", (50,-50))\n",
    "#sav fig\n",
    "plt.savefig(\"../output_data/SouthCloudvsLat.png\")\n",
    "plt.show()"
   ]
  },
  {
   "cell_type": "markdown",
   "metadata": {},
   "source": [
    "Regression of the Southern Hemisphere reiterates that there is not much of a correlation between cloudiness and latitude. This makes sense as I would anticipate seeing more clouds where there is more humidity and there was no correlation on that aspect either. In this graph you do see a bit more of a \"lack of clouds\" the clsoe to the south pole however - perhaps in conjuction with the very low humidity there. "
   ]
  },
  {
   "cell_type": "markdown",
   "metadata": {},
   "source": [
    "####  Northern Hemisphere - Wind Speed (mph) vs. Latitude Linear Regression"
   ]
  },
  {
   "cell_type": "code",
   "execution_count": 21,
   "metadata": {},
   "outputs": [
    {
     "data": {
      "image/png": "[encoded data removed]",
      "text/plain": [
       "<Figure size 432x288 with 1 Axes>"
      ]
     },
     "metadata": {
      "needs_background": "light"
     },
     "output_type": "display_data"
    },
    {
     "data": {
      "text/plain": [
       "<Figure size 432x288 with 0 Axes>"
      ]
     },
     "metadata": {},
     "output_type": "display_data"
    }
   ],
   "source": [
    "#call function\n",
    "linearregression(northern_hemisphere_df['Windspeed'],northern_hemisphere_df['Latitude'],\"Windspeed\", \"Latitude\", (2,50) )\n",
    "#sav fig\n",
    "plt.savefig(\"../output_data/NorthWSvsLat.png\")\n",
    "plt.show()"
   ]
  },
  {
   "cell_type": "markdown",
   "metadata": {},
   "source": [
    "As seen on the previous scatter plot above, this regression shows that windspeed is more of a general constant not impacted by latitude. "
   ]
  },
  {
   "cell_type": "markdown",
   "metadata": {},
   "source": [
    "####  Southern Hemisphere - Wind Speed (mph) vs. Latitude Linear Regression"
   ]
  },
  {
   "cell_type": "code",
   "execution_count": 22,
   "metadata": {},
   "outputs": [
    {
     "data": {
      "image/png": "[encoded data removed]",
      "text/plain": [
       "<Figure size 432x288 with 1 Axes>"
      ]
     },
     "metadata": {
      "needs_background": "light"
     },
     "output_type": "display_data"
    },
    {
     "data": {
      "text/plain": [
       "<Figure size 432x288 with 0 Axes>"
      ]
     },
     "metadata": {},
     "output_type": "display_data"
    }
   ],
   "source": [
    "#Call function\n",
    "linearregression(southern_hemisphere_df['Windspeed'],southern_hemisphere_df['Latitude'], \"Windspeed\", \"Latitude\", (6, -60))\n",
    "#sav fig\n",
    "plt.savefig(\"../output_data/SouthWSvsLat.png\")\n",
    "plt.show()"
   ]
  },
  {
   "cell_type": "markdown",
   "metadata": {},
   "source": [
    "As seen on the previous scatter plot above, this regression shows that windspeed is more of a general constant not impacted by latitude. "
   ]
  }
 ],
 "metadata": {
  "anaconda-cloud": {},
  "kernel_info": {
   "name": "python3"
  },
  "kernelspec": {
   "display_name": "Python [conda env:root] *",
   "language": "python",
   "name": "conda-root-py"
  },
  "language_info": {
   "codemirror_mode": {
    "name": "ipython",
    "version": 3
   },
   "file_extension": ".py",
   "mimetype": "text/x-python",
   "name": "python",
   "nbconvert_exporter": "python",
   "pygments_lexer": "ipython3",
   "version": "3.7.6"
  },
  "latex_envs": {
   "LaTeX_envs_menu_present": true,
   "autoclose": false,
   "autocomplete": true,
   "bibliofile": "biblio.bib",
   "cite_by": "apalike",
   "current_citInitial": 1,
   "eqLabelWithNumbers": true,
   "eqNumInitial": 1,
   "hotkeys": {
    "equation": "Ctrl-E",
    "itemize": "Ctrl-I"
   },
   "labels_anchors": false,
   "latex_user_defs": false,
   "report_style_numbering": false,
   "user_envs_cfg": false
  },
  "nteract": {
   "version": "0.12.3"
  }
 },
 "nbformat": 4,
 "nbformat_minor": 2
}
